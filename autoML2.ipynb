{
 "cells": [
  {
   "cell_type": "code",
   "execution_count": 1,
   "metadata": {},
   "outputs": [
    {
     "name": "stderr",
     "output_type": "stream",
     "text": [
      "c:\\Users\\bfgam\\anaconda3\\envs\\matienv\\lib\\site-packages\\tpot\\builtins\\__init__.py:36: UserWarning: Warning: optional dependency `torch` is not available. - skipping import of NN models.\n",
      "  warnings.warn(\"Warning: optional dependency `torch` is not available. - skipping import of NN models.\")\n"
     ]
    }
   ],
   "source": [
    "#imports\n",
    "import numpy as np\n",
    "import pandas as pd\n",
    "from tpot import TPOTClassifier"
   ]
  },
  {
   "cell_type": "code",
   "execution_count": 2,
   "metadata": {},
   "outputs": [],
   "source": [
    "#load the training data\n",
    "x_train = pd.read_csv('train_data/tfidf_train_train.csv', index_col=[0])\n",
    "y_train = pd.read_csv('train_data/y_train_train.csv', index_col=[0])\n",
    "#load the test data\n",
    "x_test = pd.read_csv('train_data/tfidf_train_test.csv', index_col=[0])\n",
    "y_test = pd.read_csv('train_data/y_train_test.csv', index_col=[0])\n",
    "# solving problems with index after loading data\n",
    "x_train = x_train.reset_index(drop=True)\n",
    "x_test = x_test.reset_index(drop=True)\n",
    "y_train = y_train.reset_index(drop=True)\n",
    "y_test = y_test.reset_index(drop=True)"
   ]
  },
  {
   "cell_type": "code",
   "execution_count": 3,
   "metadata": {},
   "outputs": [
    {
     "name": "stdout",
     "output_type": "stream",
     "text": [
      "Training RandomForestClassifier model...\n"
     ]
    },
    {
     "name": "stderr",
     "output_type": "stream",
     "text": [
      "c:\\Users\\bfgam\\anaconda3\\envs\\matienv\\lib\\site-packages\\sklearn\\utils\\validation.py:1143: DataConversionWarning: A column-vector y was passed when a 1d array was expected. Please change the shape of y to (n_samples, ), for example using ravel().\n",
      "  y = column_or_1d(y, warn=True)\n"
     ]
    },
    {
     "name": "stdout",
     "output_type": "stream",
     "text": [
      "                                                                              \n",
      "Generation 1 - Current best internal CV score: 0.9405916823607141\n",
      "                                                                            \n",
      "Generation 2 - Current best internal CV score: 0.9417131920822482\n",
      "                                                                            \n",
      "Generation 3 - Current best internal CV score: 0.9417131920822482\n",
      "                                                          \n",
      "Best pipeline: RandomForestClassifier(RandomForestClassifier(RandomForestClassifier(input_matrix, criterion=gini, max_depth=20, max_features=auto, n_estimators=100), criterion=entropy, max_depth=10, max_features=sqrt, n_estimators=50), criterion=gini, max_depth=10, max_features=sqrt, n_estimators=50)\n",
      "Best pipeline for RandomForestClassifier:\n",
      "Pipeline(steps=[('stackingestimator-1',\n",
      "                 StackingEstimator(estimator=RandomForestClassifier(max_depth=20,\n",
      "                                                                    max_features='auto',\n",
      "                                                                    random_state=42))),\n",
      "                ('stackingestimator-2',\n",
      "                 StackingEstimator(estimator=RandomForestClassifier(criterion='entropy',\n",
      "                                                                    max_depth=10,\n",
      "                                                                    n_estimators=50,\n",
      "                                                                    random_state=42))),\n",
      "                ('randomforestclassifier',\n",
      "                 RandomForestClassifier(max_depth=10, n_estimators=50,\n",
      "                                        random_state=42))])\n"
     ]
    },
    {
     "name": "stderr",
     "output_type": "stream",
     "text": [
      "c:\\Users\\bfgam\\anaconda3\\envs\\matienv\\lib\\site-packages\\sklearn\\utils\\validation.py:1143: DataConversionWarning: A column-vector y was passed when a 1d array was expected. Please change the shape of y to (n_samples, ), for example using ravel().\n",
      "  y = column_or_1d(y, warn=True)\n",
      "c:\\Users\\bfgam\\anaconda3\\envs\\matienv\\lib\\site-packages\\sklearn\\metrics\\_scorer.py:794: FutureWarning: sklearn.metrics.SCORERS is deprecated and will be removed in v1.3. Please use sklearn.metrics.get_scorer_names to get a list of available scorers and sklearn.metrics.get_metric to get scorer.\n",
      "  warnings.warn(\n",
      "c:\\Users\\bfgam\\anaconda3\\envs\\matienv\\lib\\site-packages\\sklearn\\base.py:439: UserWarning: X does not have valid feature names, but RandomForestClassifier was fitted with feature names\n",
      "  warnings.warn(\n",
      "c:\\Users\\bfgam\\anaconda3\\envs\\matienv\\lib\\site-packages\\sklearn\\base.py:439: UserWarning: X does not have valid feature names, but RandomForestClassifier was fitted with feature names\n",
      "  warnings.warn(\n"
     ]
    },
    {
     "name": "stdout",
     "output_type": "stream",
     "text": [
      "Accuracy for RandomForestClassifier: 0.947495046702519\n",
      "\n",
      "\n",
      "Training DecisionTreeClassifier model...\n"
     ]
    },
    {
     "name": "stderr",
     "output_type": "stream",
     "text": [
      "c:\\Users\\bfgam\\anaconda3\\envs\\matienv\\lib\\site-packages\\sklearn\\utils\\validation.py:1143: DataConversionWarning: A column-vector y was passed when a 1d array was expected. Please change the shape of y to (n_samples, ), for example using ravel().\n",
      "  y = column_or_1d(y, warn=True)\n"
     ]
    },
    {
     "name": "stdout",
     "output_type": "stream",
     "text": [
      "                                                                            \n",
      "Generation 1 - Current best internal CV score: 0.9161617057590622\n",
      "                                                                            \n",
      "Generation 2 - Current best internal CV score: 0.9161617057590622\n",
      "                                                                            \n",
      "Generation 3 - Current best internal CV score: 0.9190106617548145\n",
      "                                                                            \n",
      "Best pipeline: DecisionTreeClassifier(CombineDFs(input_matrix, input_matrix), criterion=gini, max_depth=10, max_features=sqrt)\n",
      "Best pipeline for DecisionTreeClassifier:\n",
      "Pipeline(steps=[('featureunion',\n",
      "                 FeatureUnion(transformer_list=[('functiontransformer-1',\n",
      "                                                 FunctionTransformer(func=<function copy at 0x000002031B339550>)),\n",
      "                                                ('functiontransformer-2',\n",
      "                                                 FunctionTransformer(func=<function copy at 0x000002031B339550>))])),\n",
      "                ('decisiontreeclassifier',\n",
      "                 DecisionTreeClassifier(max_depth=10, max_features='sqrt',\n",
      "                                        random_state=42))])\n"
     ]
    },
    {
     "name": "stderr",
     "output_type": "stream",
     "text": [
      "c:\\Users\\bfgam\\anaconda3\\envs\\matienv\\lib\\site-packages\\sklearn\\utils\\validation.py:1143: DataConversionWarning: A column-vector y was passed when a 1d array was expected. Please change the shape of y to (n_samples, ), for example using ravel().\n",
      "  y = column_or_1d(y, warn=True)\n",
      "c:\\Users\\bfgam\\anaconda3\\envs\\matienv\\lib\\site-packages\\sklearn\\metrics\\_scorer.py:794: FutureWarning: sklearn.metrics.SCORERS is deprecated and will be removed in v1.3. Please use sklearn.metrics.get_scorer_names to get a list of available scorers and sklearn.metrics.get_metric to get scorer.\n",
      "  warnings.warn(\n"
     ]
    },
    {
     "name": "stdout",
     "output_type": "stream",
     "text": [
      "Accuracy for DecisionTreeClassifier: 0.9236484574016417\n",
      "\n",
      "\n",
      "Training LogisticRegression model...\n"
     ]
    },
    {
     "name": "stderr",
     "output_type": "stream",
     "text": [
      "c:\\Users\\bfgam\\anaconda3\\envs\\matienv\\lib\\site-packages\\sklearn\\utils\\validation.py:1143: DataConversionWarning: A column-vector y was passed when a 1d array was expected. Please change the shape of y to (n_samples, ), for example using ravel().\n",
      "  y = column_or_1d(y, warn=True)\n"
     ]
    },
    {
     "name": "stdout",
     "output_type": "stream",
     "text": [
      "                                                                            \n",
      "Generation 1 - Current best internal CV score: 0.9499879639511531\n",
      "Optimization Progress:  50%|█████     | 20/40 [05:18<04:17, 12.88s/pipeline]"
     ]
    }
   ],
   "source": [
    "\n",
    "# Define TPOT classifier with desired settings\n",
    "tpot = TPOTClassifier(\n",
    "    generations=3,\n",
    "    population_size=10,\n",
    "    verbosity=2,\n",
    "    scoring='accuracy',\n",
    "    cv=3,\n",
    "    random_state=42,\n",
    "    n_jobs=-1\n",
    ")\n",
    "\n",
    "# Define search space for each model\n",
    "rf_search_space = {\n",
    "    'sklearn.ensemble.RandomForestClassifier': {\n",
    "        'n_estimators': [10, 50, 100],\n",
    "        'criterion': ['gini', 'entropy'],\n",
    "        'max_depth': [5, 10, 20],\n",
    "        'max_features': ['auto', 'sqrt']\n",
    "    }\n",
    "}\n",
    "\n",
    "dt_search_space = {\n",
    "    'sklearn.tree.DecisionTreeClassifier': {\n",
    "        'criterion': ['gini', 'entropy'],\n",
    "        'max_depth': [5, 10, 20],\n",
    "        'max_features': ['auto', 'sqrt']\n",
    "    }\n",
    "}\n",
    "\n",
    "lr_search_space = {\n",
    "    'sklearn.linear_model.LogisticRegression': {\n",
    "        'penalty': ['l1', 'l2'],\n",
    "        'C': [0.1, 1, 10]\n",
    "    }\n",
    "}\n",
    "\n",
    "# Define dictionary containing all search spaces\n",
    "search_spaces = {\n",
    "    'RandomForestClassifier': rf_search_space,\n",
    "    'DecisionTreeClassifier': dt_search_space,\n",
    "    'LogisticRegression': lr_search_space\n",
    "}\n",
    "\n",
    "# Loop over each model and fit TPOT to find best pipeline and hyperparameters\n",
    "for model_name, search_space in search_spaces.items():\n",
    "    print(f\"Training {model_name} model...\")\n",
    "    tpot.set_params(\n",
    "        generations=3,\n",
    "        population_size=10,\n",
    "        verbosity=2,\n",
    "        scoring='accuracy',\n",
    "        cv=3,\n",
    "        random_state=42,\n",
    "        n_jobs=-1,\n",
    "        config_dict=search_space\n",
    "    )\n",
    "    tpot.fit(x_train, y_train)\n",
    "    print(f\"Best pipeline for {model_name}:\")\n",
    "    print(tpot.fitted_pipeline_)\n",
    "    print(f\"Accuracy for {model_name}: {tpot.score(x_test, y_test)}\")\n",
    "    print('\\n')\n"
   ]
  }
 ],
 "metadata": {
  "kernelspec": {
   "display_name": "matienv",
   "language": "python",
   "name": "python3"
  },
  "language_info": {
   "codemirror_mode": {
    "name": "ipython",
    "version": 3
   },
   "file_extension": ".py",
   "mimetype": "text/x-python",
   "name": "python",
   "nbconvert_exporter": "python",
   "pygments_lexer": "ipython3",
   "version": "3.9.16"
  },
  "orig_nbformat": 4
 },
 "nbformat": 4,
 "nbformat_minor": 2
}
