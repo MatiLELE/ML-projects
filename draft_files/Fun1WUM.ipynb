{
 "cells": [
  {
   "cell_type": "code",
   "execution_count": 2,
   "id": "11b760fa",
   "metadata": {},
   "outputs": [
    {
     "name": "stdout",
     "output_type": "stream",
     "text": [
      "Directory validation_data already exists\n",
      "Directory train_data already exists\n",
      "validation data saved\n",
      "test data saved\n",
      "success! c:\n"
     ]
    }
   ],
   "source": [
    "from dividing_data import split_and_save\n",
    "\n",
    "split_and_save()"
   ]
  },
  {
   "cell_type": "code",
   "execution_count": 19,
   "id": "978cbae2",
   "metadata": {},
   "outputs": [
    {
     "name": "stderr",
     "output_type": "stream",
     "text": [
      "[nltk_data] Downloading package stopwords to\n",
      "[nltk_data]     C:\\Users\\bfgam\\AppData\\Roaming\\nltk_data...\n",
      "[nltk_data]   Package stopwords is already up-to-date!\n"
     ]
    }
   ],
   "source": [
    "# %load cleaning_data.py\n",
    "import pandas as pd\n",
    "import re\n",
    "import spacy\n",
    "from langdetect import detect\n",
    "from collections import Counter\n",
    "import numpy as np\n",
    "import string\n",
    "from unicodedata import category\n",
    "import sys\n",
    "import nltk\n",
    "nltk.download('stopwords')\n",
    "from nltk.corpus import stopwords\n",
    "#nlp = spacy.load('en_core_web_sm')\n",
    "\n",
    "\n",
    "'''def check_languages(df):\n",
    "    langs = []\n",
    "    for i in range(len(df['text'])):\n",
    "        try:\n",
    "            lang = detect(df['text'][i])\n",
    "            langs.append(lang)\n",
    "        except:\n",
    "            print(i)\n",
    "    lang_counts = Counter(langs)\n",
    "    return lang_counts'''\n",
    "\n",
    "\n",
    "def det_lang(df, text):\n",
    "    def detect_language(text):\n",
    "        try:\n",
    "            lan = detect(text)\n",
    "        except:\n",
    "            lan = 'unknown'\n",
    "        return lan\n",
    "\n",
    "    df['language'] = df['text'].apply(detect_language)\n",
    "    return df\n",
    "\n",
    "        \n",
    "    \n",
    "\n",
    "#delete stopwords\n",
    "def delete_stopwords(text):\n",
    "    stop_words = set(stopwords.words('english'))\n",
    "    words = text.split()\n",
    "    filtered_words = [word for word in words if word.lower() not in stop_words]\n",
    "    return ' '.join(filtered_words)\n",
    "    \n",
    "   \n",
    "\n",
    "def clean_text(text, punctuation_chars):\n",
    "    text = text.lower()\n",
    "\n",
    "    # remove punctuation\n",
    "    text = text.translate(str.maketrans('', '', ''.join(punctuation_chars)))\n",
    "    # remove digits\n",
    "    text = text.translate(str.maketrans('', '', string.digits))\n",
    "    # remove all single characters\n",
    "    pattern = r'(^| ).( |$)'\n",
    "    text = re.sub(pattern, ' ', text)\n",
    "    # remove multiple spaces\n",
    "    text = re.sub(' +', ' ', text)\n",
    "    return text\n",
    "\n",
    "\n",
    "\n",
    "def clean_df(df):\n",
    "    df = df.fillna('')\n",
    "    punctuation_chars = [chr(i) for i in range(sys.maxunicode)\n",
    "                         if category(chr(i)).startswith(\"P\")]\n",
    "    df['text'] = df['text'].map(lambda x: clean_text(x, punctuation_chars))\n",
    "    df['title'] = df['title'].map(lambda x: clean_text(x, punctuation_chars))\n",
    "    #\n",
    "    df['text']=df['text'].apply(delete_stopwords)\n",
    "    df['title']=df['title'].apply(delete_stopwords)\n",
    "    #Drop rows where the length of the 4th column is less than 30\n",
    "    df = df[df['text'].str.len() >= 30]\n",
    "    df=df.rename(columns={df.columns[0]: 'id'})\n",
    "    df.dropna(subset=['title','text'], inplace=True)\n",
    "    languag = det_lang(df,'text')\n",
    "    #print(languag)\n",
    "    \n",
    "    return df\n",
    "\n",
    "def main():\n",
    "    # test\n",
    "    \n",
    "    df = pd.read_csv('original_data.csv')\n",
    "    df = clean_df(df)\n",
    "    df.to_csv('modified_txt.csv', index=False)\n",
    "    \n",
    "    #print(df['text'][27])\n",
    "    #print(df['text'][224])\n",
    "    #print(df['text'][2])\n",
    "\n",
    "\n",
    "if __name__ == \"__main__\":\n",
    "    main()\n",
    "\n",
    "df.to_csv('modified_txt.csv', index=False)\n"
   ]
  },
  {
   "cell_type": "code",
   "execution_count": 20,
   "id": "5ebe0083",
   "metadata": {},
   "outputs": [
    {
     "data": {
      "text/plain": [
       "(69045, 4)"
      ]
     },
     "execution_count": 20,
     "metadata": {},
     "output_type": "execute_result"
    }
   ],
   "source": [
    "df = pd.read_csv('modified_txt.csv')\n",
    "df.shape\n"
   ]
  },
  {
   "cell_type": "code",
   "execution_count": 17,
   "id": "cfa2ac77",
   "metadata": {},
   "outputs": [
    {
     "data": {
      "text/html": [
       "<div>\n",
       "<style scoped>\n",
       "    .dataframe tbody tr th:only-of-type {\n",
       "        vertical-align: middle;\n",
       "    }\n",
       "\n",
       "    .dataframe tbody tr th {\n",
       "        vertical-align: top;\n",
       "    }\n",
       "\n",
       "    .dataframe thead th {\n",
       "        text-align: right;\n",
       "    }\n",
       "</style>\n",
       "<table border=\"1\" class=\"dataframe\">\n",
       "  <thead>\n",
       "    <tr style=\"text-align: right;\">\n",
       "      <th></th>\n",
       "      <th>Unnamed: 0</th>\n",
       "      <th>title</th>\n",
       "      <th>text</th>\n",
       "      <th>Ground Label</th>\n",
       "    </tr>\n",
       "  </thead>\n",
       "  <tbody>\n",
       "    <tr>\n",
       "      <th>0</th>\n",
       "      <td>0</td>\n",
       "      <td>Ann Coulter Make Believes She Has ‘Gay Friend...</td>\n",
       "      <td>It s hard to believe, but Donald Trump does ha...</td>\n",
       "      <td>fake</td>\n",
       "    </tr>\n",
       "    <tr>\n",
       "      <th>1</th>\n",
       "      <td>1</td>\n",
       "      <td>Rating: Moody‘s verbessert Ausblick für Russla...</td>\n",
       "      <td>bankensektor Der russische Staat werde die Ban...</td>\n",
       "      <td>fake</td>\n",
       "    </tr>\n",
       "  </tbody>\n",
       "</table>\n",
       "</div>"
      ],
      "text/plain": [
       "   Unnamed: 0                                              title  \\\n",
       "0           0   Ann Coulter Make Believes She Has ‘Gay Friend...   \n",
       "1           1  Rating: Moody‘s verbessert Ausblick für Russla...   \n",
       "\n",
       "                                                text Ground Label  \n",
       "0  It s hard to believe, but Donald Trump does ha...         fake  \n",
       "1  bankensektor Der russische Staat werde die Ban...         fake  "
      ]
     },
     "execution_count": 17,
     "metadata": {},
     "output_type": "execute_result"
    }
   ],
   "source": [
    "df.head(2)"
   ]
  },
  {
   "cell_type": "code",
   "execution_count": 18,
   "id": "90a90311",
   "metadata": {},
   "outputs": [
    {
     "name": "stdout",
     "output_type": "stream",
     "text": [
      "A member of the House Intelligence Committee is accusing the Obama administration of laundering some $1.7 billion in U.S. taxpayer dollars to Iran through a complicated network that included the New York Federal Reserve and several European banks, according to conversations with sources and new information obtained by the lawmaker and viewed by the Washington Free BeaconNew disclosures made by the Treasury Department to Rep. Mike Pompeo (R., Kan.), a House Intelligence Committee member, show that an initial $400 million cash payment to Iran was wired to the Federal Reserve Bank of New York (FRBNY) and then converted from U.S. dollars into Swiss francs and moved to an account at the Swiss National Bank, according to a copy of communication obtained exclusively by the Free Beacon.Once the money was transferred to the Swiss Bank, the  FRBNY withdrew the funds from its account as Swiss franc banknotes and the U.S. Government physically transported them to Geneva  before personally overseeing the handover to an agent of Iran s central bank, according to the documents. It looks as if the White House made just about every corner of the executive branch complicit in covering up the extent of its payments to Iran,  the source said.  Congress was already aggressively looking into payments involving the State, Treasury, and Energy Departments. Now it s the Justice Department, too. We already know that top officials from Justice objected strongly to the ransom deal, but were overruled. Congress wants to know what happened and why. Read more: WFB\n"
     ]
    }
   ],
   "source": [
    "print(df['text'][2])"
   ]
  },
  {
   "cell_type": "code",
   "execution_count": null,
   "id": "a9cb4a44",
   "metadata": {},
   "outputs": [],
   "source": []
  }
 ],
 "metadata": {
  "kernelspec": {
   "display_name": "Python 3 (ipykernel)",
   "language": "python",
   "name": "python3"
  },
  "language_info": {
   "codemirror_mode": {
    "name": "ipython",
    "version": 3
   },
   "file_extension": ".py",
   "mimetype": "text/x-python",
   "name": "python",
   "nbconvert_exporter": "python",
   "pygments_lexer": "ipython3",
   "version": "3.9.16"
  }
 },
 "nbformat": 4,
 "nbformat_minor": 5
}
