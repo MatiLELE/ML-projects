{
 "cells": [
  {
   "attachments": {},
   "cell_type": "markdown",
   "id": "5774b7d2",
   "metadata": {},
   "source": [
    "# Ostatni milestone pierwszego projektu z przedmiotu WUM\n",
    "### Alicja Charuza, Mateusz Gałęziewski"
   ]
  },
  {
   "cell_type": "code",
   "execution_count": 17,
   "id": "49f0bab2",
   "metadata": {},
   "outputs": [],
   "source": [
    "#imports\n",
    "import pandas as pd \n",
    "import numpy as np\n",
    "from sklearn.model_selection import train_test_split\n",
    "from sklearn.linear_model import LogisticRegression\n",
    "from sklearn.svm import SVC\n",
    "from sklearn.ensemble import RandomForestClassifier\n",
    "from sklearn.tree import DecisionTreeClassifier\n",
    "from sklearn import metrics\n",
    "from sklearn.metrics import classification_report, confusion_matrix, accuracy_score, f1_score, precision_score, recall_score, roc_auc_score\n",
    "from sklearn.model_selection import GridSearchCV, RandomizedSearchCV\n",
    "from scipy.stats import randint\n",
    "from sklearn.ensemble import VotingClassifier\n",
    "import joblib\n",
    "import pickle"
   ]
  },
  {
   "cell_type": "code",
   "execution_count": 3,
   "id": "1f43cf31",
   "metadata": {},
   "outputs": [],
   "source": [
    "#load the training data\n",
    "x_train = pd.read_csv('train_data/tfidf_train_train.csv', index_col=[0])\n",
    "y_train = pd.read_csv('train_data/y_train_train.csv', index_col=[0])\n",
    "#load the test data\n",
    "x_test = pd.read_csv('train_data/tfidf_train_test.csv', index_col=[0])\n",
    "y_test = pd.read_csv('train_data/y_train_test.csv', index_col=[0])"
   ]
  },
  {
   "cell_type": "code",
   "execution_count": 4,
   "id": "f26ac576",
   "metadata": {},
   "outputs": [],
   "source": [
    "# solving problems with index after loading data\n",
    "x_train = x_train.reset_index(drop=True)\n",
    "x_test = x_test.reset_index(drop=True)\n",
    "y_train = y_train.reset_index(drop=True)\n",
    "y_test = y_test.reset_index(drop=True)"
   ]
  },
  {
   "cell_type": "code",
   "execution_count": 5,
   "id": "8d61b044",
   "metadata": {},
   "outputs": [],
   "source": [
    "def show_results(model, x, y):\n",
    "    predict = model.predict(x)\n",
    "    print('F1 score:',f1_score(y, predict))\n",
    "    print('Accuracy:',accuracy_score(y, predict))\n",
    "    print('Recall:',recall_score(y, predict))\n",
    "    print('Precision:',precision_score(y, predict))\n",
    "    print('ROC AUC:', roc_auc_score(y, model.predict_proba(x)[:, 1]))"
   ]
  },
  {
   "cell_type": "markdown",
   "id": "2a27d25a",
   "metadata": {},
   "source": [
    "## Regresja logistyczna"
   ]
  },
  {
   "cell_type": "code",
   "execution_count": 6,
   "id": "deba2e20",
   "metadata": {},
   "outputs": [
    {
     "name": "stdout",
     "output_type": "stream",
     "text": [
      "Logistic Regression:\n",
      "\n",
      "Train results:\n",
      "F1 score: 0.9434208506064793\n",
      "Accuracy: 0.9553170850006063\n",
      "Recall: 0.929154695297142\n",
      "Precision: 0.9581319195384376\n",
      "ROC AUC: 0.9905163082141264\n",
      "\n",
      "Test results:\n",
      "F1 score: 0.9350767275038592\n",
      "Accuracy: 0.9494234986206409\n",
      "Recall: 0.9179889463362453\n",
      "Precision: 0.9528127313101407\n",
      "ROC AUC: 0.9867215589592845\n"
     ]
    }
   ],
   "source": [
    "# no parameters\n",
    "log_reg=LogisticRegression()\n",
    "log_reg.fit(x_train, y_train.values.ravel())\n",
    "print('Logistic Regression:')\n",
    "print()\n",
    "print('Train results:')\n",
    "show_results(log_reg, x_train, y_train)\n",
    "print()\n",
    "print('Test results:')\n",
    "show_results(log_reg, x_test, y_test)"
   ]
  },
  {
   "cell_type": "markdown",
   "id": "ad912a07",
   "metadata": {},
   "source": [
    "Regresja logistyczna radzi sobie całkiem dobrze, dlatego też nie będziemy dobierać do niej hiperparametrów."
   ]
  },
  {
   "cell_type": "markdown",
   "id": "380187b0",
   "metadata": {},
   "source": [
    "## Decision Tree"
   ]
  },
  {
   "cell_type": "code",
   "execution_count": 6,
   "id": "d60b1ee4",
   "metadata": {},
   "outputs": [
    {
     "name": "stdout",
     "output_type": "stream",
     "text": [
      "Decision Tree:\n",
      "\n",
      "Train results:\n",
      "F1 score: 0.999886574161594\n",
      "Accuracy: 0.9999090578392142\n",
      "Recall: 0.9997731740511114\n",
      "Precision: 1.0\n",
      "ROC AUC: 0.9999999827831736\n",
      "\n",
      "Test results:\n",
      "F1 score: 0.9105253720638335\n",
      "Accuracy: 0.9294051071655939\n",
      "Recall: 0.9053307184881441\n",
      "Precision: 0.9157799819657348\n",
      "ROC AUC: 0.9253636756893989\n"
     ]
    }
   ],
   "source": [
    "#Decision Tree\n",
    "tree=DecisionTreeClassifier()  \n",
    "tree.fit(x_train,y_train.values.ravel())\n",
    "print('Decision Tree:')\n",
    "print()\n",
    "print('Train results:')\n",
    "show_results(tree, x_train, y_train)\n",
    "print()\n",
    "print('Test results:')\n",
    "show_results(tree, x_test, y_test)"
   ]
  },
  {
   "cell_type": "markdown",
   "id": "a98ae37b",
   "metadata": {},
   "source": [
    "Porównując wyniki zbioru treningowego i testowego widzimy, że drzewo się przeucza. Spróbujmy dobrać hiperparametry."
   ]
  },
  {
   "cell_type": "code",
   "execution_count": 12,
   "id": "e0551cd0",
   "metadata": {},
   "outputs": [
    {
     "name": "stdout",
     "output_type": "stream",
     "text": [
      "{'max_depth': 12, 'min_samples_leaf': 1, 'min_samples_split': 2}\n"
     ]
    }
   ],
   "source": [
    "param_distributions = {\n",
    "    'max_depth': randint(low=1, high=20),\n",
    "    'min_samples_leaf': randint(low=1, high=10),\n",
    "    'min_samples_split': randint(low=2, high=10)\n",
    "}\n",
    "\n",
    "tree2 = DecisionTreeClassifier()\n",
    "search = RandomizedSearchCV(tree2, param_distributions, n_iter=100, cv=5, scoring='accuracy', n_jobs=-1)\n",
    "search.fit(x_train, y_train)\n",
    "print(search.best_params_)"
   ]
  },
  {
   "cell_type": "markdown",
   "id": "715d2d2f",
   "metadata": {},
   "source": [
    "Spróbujmy teraz użyć tych parametrów do nowego modelu."
   ]
  },
  {
   "cell_type": "code",
   "execution_count": 7,
   "id": "c3356854",
   "metadata": {},
   "outputs": [
    {
     "name": "stdout",
     "output_type": "stream",
     "text": [
      "Decision Tree with parameters:\n",
      "\n",
      "Train results:\n",
      "F1 score: 0.9538954442447448\n",
      "Accuracy: 0.9642294167576089\n",
      "Recall: 0.9229547860275216\n",
      "Precision: 0.9869825355756792\n",
      "ROC AUC: 0.977804798162706\n",
      "\n",
      "Test results:\n",
      "F1 score: 0.9204881656804734\n",
      "Accuracy: 0.939166725613638\n",
      "Recall: 0.8875022285612408\n",
      "Precision: 0.9560207413097753\n",
      "ROC AUC: 0.9379687086587256\n"
     ]
    }
   ],
   "source": [
    "tree3 = DecisionTreeClassifier(max_depth=12, min_samples_leaf=1, min_samples_split=2)\n",
    "tree3.fit(x_train, y_train)\n",
    "print('Decision Tree with parameters:')\n",
    "print()\n",
    "print('Train results:')\n",
    "show_results(tree3, x_train, y_train)\n",
    "print()\n",
    "print('Test results:')\n",
    "show_results(tree3, x_test, y_test)"
   ]
  },
  {
   "cell_type": "markdown",
   "id": "10b0f411",
   "metadata": {},
   "source": [
    "Dzięki wprowadzonym zmianom udało nam się uniknąć przeuczenia modelu i doprowadziliśmy do poprawienia wyników."
   ]
  },
  {
   "cell_type": "markdown",
   "id": "f3dba6b8",
   "metadata": {},
   "source": [
    "## Random Forest"
   ]
  },
  {
   "cell_type": "code",
   "execution_count": 8,
   "id": "6c240283",
   "metadata": {},
   "outputs": [
    {
     "name": "stdout",
     "output_type": "stream",
     "text": [
      "Random Forest:\n",
      "\n",
      "Train results:\n",
      "F1 score: 0.9998865827378927\n",
      "Accuracy: 0.9999090578392142\n",
      "Recall: 0.999848782700741\n",
      "Precision: 0.9999243856332704\n",
      "ROC AUC: 0.9999999827831736\n",
      "\n",
      "Test results:\n",
      "F1 score: 0.9313276651406147\n",
      "Accuracy: 0.9480087713093301\n",
      "Recall: 0.8885719379568551\n",
      "Precision: 0.9784059678052611\n",
      "ROC AUC: 0.9880500511440169\n"
     ]
    }
   ],
   "source": [
    "rand_forest=RandomForestClassifier()\n",
    "rand_forest.fit(x_train,y_train.values.ravel())\n",
    "print('Random Forest:')\n",
    "print()\n",
    "print('Train results:')\n",
    "show_results(rand_forest, x_train, y_train)\n",
    "print()\n",
    "print('Test results:')\n",
    "show_results(rand_forest, x_test, y_test)"
   ]
  },
  {
   "cell_type": "markdown",
   "id": "fe784235",
   "metadata": {},
   "source": [
    "Patrząc na wyniki ponownie możemy podejrzewać, że model się przeuczył. Spróbujmy dobrać hiperparametry, aby poprawić jakość modelu. Zastosujemy do tego RandomizedSearch i crosswalidację."
   ]
  },
  {
   "cell_type": "code",
   "execution_count": 6,
   "id": "38821fe2",
   "metadata": {},
   "outputs": [
    {
     "name": "stderr",
     "output_type": "stream",
     "text": [
      "C:\\Users\\alicj\\anaconda3\\lib\\site-packages\\sklearn\\model_selection\\_search.py:285: UserWarning: The total space of parameters 5 is smaller than n_iter=20. Running 5 iterations. For exhaustive searches, use GridSearchCV.\n",
      "  warnings.warn(\n"
     ]
    },
    {
     "name": "stdout",
     "output_type": "stream",
     "text": [
      "{'max_depth': 50}\n"
     ]
    }
   ],
   "source": [
    "param_dist = {\n",
    "    'max_depth': [10, 20, 30, 40, 50]\n",
    "}\n",
    "rf = RandomForestClassifier()\n",
    "random_search = RandomizedSearchCV(\n",
    "    estimator=rf,\n",
    "    param_distributions=param_dist,\n",
    "    n_iter=5,\n",
    "    cv=5,\n",
    "    n_jobs=-1,\n",
    "    scoring='accuracy',\n",
    "    random_state=42\n",
    ")\n",
    "random_search.fit(x_train, y_train.values.ravel())\n",
    "print(random_search.best_params_)"
   ]
  },
  {
   "cell_type": "code",
   "execution_count": 8,
   "id": "3476efbb",
   "metadata": {},
   "outputs": [
    {
     "name": "stdout",
     "output_type": "stream",
     "text": [
      "Random Forest with parameters:\n",
      "\n",
      "Train results:\n",
      "F1 score: 0.9968526032384057\n",
      "Accuracy: 0.9974839335515945\n",
      "Recall: 0.9938000907303796\n",
      "Precision: 0.999923925446938\n",
      "ROC AUC: 0.9999900467613596\n",
      "\n",
      "Test results:\n",
      "F1 score: 0.933308529439122\n",
      "Accuracy: 0.9492820258895098\n",
      "Recall: 0.8944553396327332\n",
      "Precision: 0.9756903928432517\n",
      "ROC AUC: 0.9874540678057946\n"
     ]
    }
   ],
   "source": [
    "rand_forest_2 = RandomForestClassifier(max_depth=50)\n",
    "rand_forest_2.fit(x_train, y_train.values.ravel())\n",
    "print('Random Forest with parameters:')\n",
    "print()\n",
    "print('Train results:')\n",
    "show_results(rand_forest_2, x_train, y_train)\n",
    "print()\n",
    "print('Test results:')\n",
    "show_results(rand_forest_2, x_test, y_test)"
   ]
  },
  {
   "cell_type": "markdown",
   "id": "16ef7093",
   "metadata": {},
   "source": [
    "Jak widać nie zaszła większa poprawa w porównaniu do Random Forest bez hiperparametrów."
   ]
  },
  {
   "attachments": {},
   "cell_type": "markdown",
   "id": "4dfcfb74",
   "metadata": {},
   "source": [
    "## SVM"
   ]
  },
  {
   "attachments": {},
   "cell_type": "markdown",
   "id": "5d1ee779",
   "metadata": {},
   "source": [
    "Ze względu na długi czas przewidywania, zdecydowaliśmy się zrezygnować z użycia Support Vector Machine w ostatecznym modelu, aby przyspieszyć jego działanie w warunkach wdrożenia. Jego wyniki można zobaczyć w drugim milestonie."
   ]
  },
  {
   "attachments": {},
   "cell_type": "markdown",
   "id": "833b86c0",
   "metadata": {},
   "source": [
    "## Soft Voting"
   ]
  },
  {
   "cell_type": "code",
   "execution_count": 15,
   "id": "f558a960",
   "metadata": {},
   "outputs": [
    {
     "name": "stdout",
     "output_type": "stream",
     "text": [
      "Voting:\n",
      "\n",
      "Train results:\n",
      "F1 score: 0.9689253511860996\n",
      "Accuracy: 0.9756578149630168\n",
      "Recall: 0.9465446847119311\n",
      "Precision: 0.9923900118906064\n",
      "ROC AUC: 0.9990893274454133\n",
      "\n",
      "Test results:\n",
      "F1 score: 0.937482685381845\n",
      "Accuracy: 0.9521114805121312\n",
      "Recall: 0.904974148689606\n",
      "Precision: 0.9724137931034482\n",
      "ROC AUC: 0.9904433816664922\n"
     ]
    }
   ],
   "source": [
    "clf = VotingClassifier(estimators=[('1', log_reg), ('2', tree3), ('3', rand_forest_2)],voting=\"soft\")\n",
    "clf.fit(x_train, y_train.values.ravel())\n",
    "print('Voting:')\n",
    "print()\n",
    "print('Train results:')\n",
    "show_results(clf, x_train, y_train.values.ravel())\n",
    "print()\n",
    "print('Test results:')\n",
    "show_results(clf, x_test, y_test.values.ravel())"
   ]
  },
  {
   "attachments": {},
   "cell_type": "markdown",
   "id": "7dbd0319",
   "metadata": {},
   "source": [
    "Łączac powstałe modele w VotingClassifier, uzyskaliśmy jak dotąd najlepszy rezultat na zbiorze testowym."
   ]
  },
  {
   "cell_type": "code",
   "execution_count": 18,
   "id": "f7922590",
   "metadata": {},
   "outputs": [
    {
     "data": {
      "text/plain": [
       "['fake_news_model.joblib']"
      ]
     },
     "execution_count": 18,
     "metadata": {},
     "output_type": "execute_result"
    }
   ],
   "source": [
    "# saving model to a file\n",
    "filename = \"fake_news_model.joblib\"\n",
    "joblib.dump(clf, filename)"
   ]
  },
  {
   "attachments": {},
   "cell_type": "markdown",
   "id": "3de1e3aa",
   "metadata": {},
   "source": [
    "Spójrzmy jeszcze na predykcyjność zmiennych w uzyskanym modelu."
   ]
  },
  {
   "cell_type": "markdown",
   "id": "c9a28877",
   "metadata": {},
   "source": [
    "Najpierw predykcyjność zmiennych w regreji logistycznej."
   ]
  },
  {
   "cell_type": "code",
   "execution_count": 45,
   "id": "e48206e1",
   "metadata": {},
   "outputs": [
    {
     "name": "stdout",
     "output_type": "stream",
     "text": [
      "                 coef\n",
      "reuter      26.059102\n",
      "said        13.885115\n",
      "tuesday      4.610065\n",
      "friday       4.603673\n",
      "washington   4.489670\n",
      "...               ...\n",
      "octob       -4.529976\n",
      "novemb      -4.540267\n",
      "hillari     -5.503802\n",
      "video       -6.920072\n",
      "via        -10.291338\n",
      "\n",
      "[2885 rows x 1 columns]\n"
     ]
    }
   ],
   "source": [
    "df_log = pd.DataFrame(log_reg.coef_.transpose(), \n",
    "             x_train.columns, \n",
    "             columns=['coef'])\\\n",
    "            .sort_values(by='coef', ascending=False)\n",
    "print(df_log)"
   ]
  },
  {
   "attachments": {},
   "cell_type": "markdown",
   "id": "c2b3410a",
   "metadata": {},
   "source": [
    "Zobaczmy 30 zmiennych najbardziej wpływających na wynik, że news jest prawdziwy."
   ]
  },
  {
   "cell_type": "code",
   "execution_count": 48,
   "id": "a4ab4971",
   "metadata": {},
   "outputs": [
    {
     "name": "stdout",
     "output_type": "stream",
     "text": [
      "                 coef\n",
      "reuter      26.059102\n",
      "said        13.885115\n",
      "tuesday      4.610065\n",
      "friday       4.603673\n",
      "washington   4.489670\n",
      "that         4.457917\n",
      "monday       4.453538\n",
      "thursday     4.203014\n",
      "say          3.932131\n",
      "dont         3.620795\n",
      "wednesday    3.597972\n",
      "what         3.538014\n",
      "statement    3.383051\n",
      "there        3.334976\n",
      "he           3.167417\n",
      "reform       2.977550\n",
      "im           2.935309\n",
      "unfold       2.688748\n",
      "saturday     2.678092\n",
      "challeng     2.669617\n",
      "moscow       2.660557\n",
      "sunday       2.581035\n",
      "twitter      2.574220\n",
      "ive          2.573338\n",
      "your         2.494889\n",
      "conserv      2.476904\n",
      "minist       2.457704\n",
      "spokesman    2.444441\n",
      "whether      2.433826\n",
      "northern     2.429723\n"
     ]
    }
   ],
   "source": [
    "print(df_log.head(30))"
   ]
  },
  {
   "attachments": {},
   "cell_type": "markdown",
   "id": "c494b8c3",
   "metadata": {},
   "source": [
    "A teraz 30 zmiennych najbardziej wpływających na wynik, że news jest fałszywy."
   ]
  },
  {
   "cell_type": "code",
   "execution_count": 50,
   "id": "b40c3a4a",
   "metadata": {},
   "outputs": [
    {
     "name": "stdout",
     "output_type": "stream",
     "text": [
      "                coef\n",
      "fbi        -2.380904\n",
      "cent       -2.388750\n",
      "centuri    -2.403650\n",
      "anyon      -2.412466\n",
      "dc         -2.429191\n",
      "american   -2.462960\n",
      "rt         -2.474296\n",
      "watch      -2.511947\n",
      "imag       -2.563313\n",
      "taxpay     -2.595213\n",
      "fact       -2.697720\n",
      "america    -2.713172\n",
      "breitbart  -2.737427\n",
      "news       -2.768114\n",
      "howev      -2.771756\n",
      "today      -2.915085\n",
      "entir      -2.915201\n",
      "rep        -3.098609\n",
      "know       -3.167364\n",
      "go         -3.232380\n",
      "break      -3.317260\n",
      "even       -3.460338\n",
      "daili      -3.544742\n",
      "articl     -3.610407\n",
      "wire       -4.213001\n",
      "octob      -4.529976\n",
      "novemb     -4.540267\n",
      "hillari    -5.503802\n",
      "video      -6.920072\n",
      "via       -10.291338\n"
     ]
    }
   ],
   "source": [
    "print(df_log.tail(30))"
   ]
  },
  {
   "cell_type": "code",
   "execution_count": null,
   "id": "7e374f87",
   "metadata": {},
   "outputs": [],
   "source": []
  }
 ],
 "metadata": {
  "kernelspec": {
   "display_name": "Python 3",
   "language": "python",
   "name": "python3"
  },
  "language_info": {
   "codemirror_mode": {
    "name": "ipython",
    "version": 3
   },
   "file_extension": ".py",
   "mimetype": "text/x-python",
   "name": "python",
   "nbconvert_exporter": "python",
   "pygments_lexer": "ipython3",
   "version": "3.8.8"
  }
 },
 "nbformat": 4,
 "nbformat_minor": 5
}
