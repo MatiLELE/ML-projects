{
 "cells": [
  {
   "cell_type": "code",
   "execution_count": 2,
   "id": "49f0bab2",
   "metadata": {},
   "outputs": [],
   "source": [
    "#imports\n",
    "import pandas as pd \n",
    "import numpy as np\n",
    "import seaborn as sns\n",
    "import matplotlib.pyplot as plt\n",
    "from sklearn.model_selection import train_test_split\n",
    "from sklearn.linear_model import LogisticRegression\n",
    "from sklearn.svm import SVC\n",
    "from sklearn.ensemble import RandomForestClassifier\n",
    "from sklearn.tree import DecisionTreeClassifier\n",
    "from sklearn import metrics\n",
    "from sklearn.metrics import classification_report, confusion_matrix, accuracy_score, f1_score, precision_score, recall_score, roc_auc_score\n",
    "from sklearn.model_selection import GridSearchCV, RandomizedSearchCV\n",
    "from scipy.stats import randint"
   ]
  },
  {
   "cell_type": "code",
   "execution_count": 3,
   "id": "1f43cf31",
   "metadata": {},
   "outputs": [],
   "source": [
    "#load the training data\n",
    "x_train = pd.read_csv('train_data/tfidf_train_train.csv', index_col=[0])\n",
    "y_train = pd.read_csv('train_data/y_train_train.csv', index_col=[0])\n",
    "#load the test data\n",
    "x_test = pd.read_csv('train_data/tfidf_train_test.csv', index_col=[0])\n",
    "y_test = pd.read_csv('train_data/y_train_test.csv', index_col=[0])"
   ]
  },
  {
   "cell_type": "code",
   "execution_count": 4,
   "id": "f26ac576",
   "metadata": {},
   "outputs": [],
   "source": [
    "# solving problems with index after loading data\n",
    "x_train = x_train.reset_index(drop=True)\n",
    "x_test = x_test.reset_index(drop=True)\n",
    "y_train = y_train.reset_index(drop=True)\n",
    "y_test = y_test.reset_index(drop=True)"
   ]
  },
  {
   "cell_type": "code",
   "execution_count": 5,
   "id": "8d61b044",
   "metadata": {},
   "outputs": [],
   "source": [
    "def show_results(model, x, y):\n",
    "    predict = model.predict(x)\n",
    "    print('F1 score:',f1_score(y, predict))\n",
    "    print('Accuracy:',accuracy_score(y, predict))\n",
    "    print('Recall:',recall_score(y, predict))\n",
    "    print('Precision:',precision_score(y, predict))\n",
    "    print('ROC AUC:', roc_auc_score(y, model.predict_proba(x)[:, 1]))"
   ]
  },
  {
   "cell_type": "markdown",
   "id": "2a27d25a",
   "metadata": {},
   "source": [
    "## Regresja logistyczna"
   ]
  },
  {
   "cell_type": "code",
   "execution_count": 6,
   "id": "deba2e20",
   "metadata": {},
   "outputs": [
    {
     "name": "stdout",
     "output_type": "stream",
     "text": [
      "Logistic Regression:\n",
      "\n",
      "Train results:\n",
      "F1 score: 0.9434208506064793\n",
      "Accuracy: 0.9553170850006063\n",
      "Recall: 0.929154695297142\n",
      "Precision: 0.9581319195384376\n",
      "ROC AUC: 0.9905163082141264\n",
      "\n",
      "Test results:\n",
      "F1 score: 0.9350767275038592\n",
      "Accuracy: 0.9494234986206409\n",
      "Recall: 0.9179889463362453\n",
      "Precision: 0.9528127313101407\n",
      "ROC AUC: 0.9867215589592845\n"
     ]
    }
   ],
   "source": [
    "# no parameters\n",
    "log_reg=LogisticRegression()\n",
    "log_reg.fit(x_train, y_train.values.ravel())\n",
    "print('Logistic Regression:')\n",
    "print()\n",
    "print('Train results:')\n",
    "show_results(log_reg, x_train, y_train)\n",
    "print()\n",
    "print('Test results:')\n",
    "show_results(log_reg, x_test, y_test)"
   ]
  },
  {
   "cell_type": "markdown",
   "id": "ad912a07",
   "metadata": {},
   "source": [
    "Regresja logistyczna radzi sobie całkiem dobrze, dlatego też nie będziemy dobierać do niej hiperparametrów."
   ]
  },
  {
   "cell_type": "markdown",
   "id": "380187b0",
   "metadata": {},
   "source": [
    "## Decision Tree"
   ]
  },
  {
   "cell_type": "code",
   "execution_count": 7,
   "id": "d60b1ee4",
   "metadata": {},
   "outputs": [
    {
     "name": "stdout",
     "output_type": "stream",
     "text": [
      "Decision Tree:\n",
      "\n",
      "Train results:\n",
      "F1 score: 0.999886574161594\n",
      "Accuracy: 0.9999090578392142\n",
      "Recall: 0.9997731740511114\n",
      "Precision: 1.0\n",
      "ROC AUC: 0.9999999827831736\n",
      "\n",
      "Test results:\n",
      "F1 score: 0.9118121527155404\n",
      "Accuracy: 0.9303954162835113\n",
      "Recall: 0.9069352825815653\n",
      "Precision: 0.91674175527122\n",
      "ROC AUC: 0.9267012828150417\n"
     ]
    }
   ],
   "source": [
    "#Decision Tree\n",
    "tree=DecisionTreeClassifier()  \n",
    "tree.fit(x_train,y_train.values.ravel())\n",
    "print('Decision Tree:')\n",
    "print()\n",
    "print('Train results:')\n",
    "show_results(tree, x_train, y_train)\n",
    "print()\n",
    "print('Test results:')\n",
    "show_results(tree, x_test, y_test)"
   ]
  },
  {
   "cell_type": "markdown",
   "id": "a98ae37b",
   "metadata": {},
   "source": [
    "Porównując wyniki zbioru treningowego i testowego widzimy, że drzewo się przeucza. Spróbujmy dobrać hiperparametry."
   ]
  },
  {
   "cell_type": "code",
   "execution_count": 12,
   "id": "e0551cd0",
   "metadata": {},
   "outputs": [
    {
     "name": "stdout",
     "output_type": "stream",
     "text": [
      "{'max_depth': 12, 'min_samples_leaf': 1, 'min_samples_split': 2}\n"
     ]
    }
   ],
   "source": [
    "param_distributions = {\n",
    "    'max_depth': randint(low=1, high=20),\n",
    "    'min_samples_leaf': randint(low=1, high=10),\n",
    "    'min_samples_split': randint(low=2, high=10)\n",
    "}\n",
    "\n",
    "tree2 = DecisionTreeClassifier()\n",
    "search = RandomizedSearchCV(tree2, param_distributions, n_iter=100, cv=5, scoring='accuracy', n_jobs=-1)\n",
    "search.fit(x_train, y_train)\n",
    "print(search.best_params_)"
   ]
  },
  {
   "cell_type": "markdown",
   "id": "715d2d2f",
   "metadata": {},
   "source": [
    "Spróbujmy teraz użyć tych parametrów do nowego modelu."
   ]
  },
  {
   "cell_type": "code",
   "execution_count": 16,
   "id": "c3356854",
   "metadata": {},
   "outputs": [
    {
     "name": "stdout",
     "output_type": "stream",
     "text": [
      "Decision Tree with parameters:\n",
      "\n",
      "Train results:\n",
      "F1 score: 0.9539291157047399\n",
      "Accuracy: 0.9642597308112041\n",
      "Recall: 0.922879177377892\n",
      "Precision: 0.9871411241407198\n",
      "ROC AUC: 0.9778156505022808\n",
      "\n",
      "Test results:\n",
      "F1 score: 0.9198741672834937\n",
      "Accuracy: 0.9387423074202448\n",
      "Recall: 0.8862542342663576\n",
      "Precision: 0.9561454125793422\n",
      "ROC AUC: 0.937443575170834\n"
     ]
    }
   ],
   "source": [
    "print('Decision Tree with parameters:')\n",
    "print()\n",
    "print('Train results:')\n",
    "show_results(search, x_train, y_train)\n",
    "print()\n",
    "print('Test results:')\n",
    "show_results(search, x_test, y_test)"
   ]
  },
  {
   "cell_type": "markdown",
   "id": "10b0f411",
   "metadata": {},
   "source": [
    "Dzięki wprowadzonym zmianom udało nam się uniknąć przeuczenia modelu i doprowadziliśmy do poprawienia wyników."
   ]
  },
  {
   "cell_type": "markdown",
   "id": "f3dba6b8",
   "metadata": {},
   "source": [
    "## Random Forest"
   ]
  },
  {
   "cell_type": "code",
   "execution_count": 15,
   "id": "6c240283",
   "metadata": {},
   "outputs": [
    {
     "name": "stdout",
     "output_type": "stream",
     "text": [
      "Random Forest:\n",
      "\n",
      "Train results:\n",
      "F1 score: 0.9998865827378927\n",
      "Accuracy: 0.9999090578392142\n",
      "Recall: 0.999848782700741\n",
      "Precision: 0.9999243856332704\n",
      "ROC AUC: 0.9999999751312508\n",
      "\n",
      "Test results:\n",
      "F1 score: 0.9332960164194422\n",
      "Accuracy: 0.9494234986206409\n",
      "Recall: 0.8917810661436977\n",
      "Precision: 0.9788649706457926\n",
      "ROC AUC: 0.9885079619426965\n"
     ]
    }
   ],
   "source": [
    "rand_forest=RandomForestClassifier()\n",
    "rand_forest.fit(x_train,y_train.values.ravel())\n",
    "print('Random Forest:')\n",
    "print()\n",
    "print('Train results:')\n",
    "show_results(rand_forest, x_train, y_train)\n",
    "print()\n",
    "print('Test results:')\n",
    "show_results(rand_forest, x_test, y_test)"
   ]
  },
  {
   "cell_type": "markdown",
   "id": "fe784235",
   "metadata": {},
   "source": [
    "Patrząc na wyniki ponownie możemy podejrzewać, że model się przeuczył. Spróbujmy dobrać hiperparametry, aby poprawić jakość modelu. Zastosujemy do tego RandomizedSearch i crosswalidację."
   ]
  },
  {
   "cell_type": "code",
   "execution_count": 6,
   "id": "38821fe2",
   "metadata": {},
   "outputs": [
    {
     "name": "stderr",
     "output_type": "stream",
     "text": [
      "C:\\Users\\alicj\\anaconda3\\lib\\site-packages\\sklearn\\model_selection\\_search.py:285: UserWarning: The total space of parameters 5 is smaller than n_iter=20. Running 5 iterations. For exhaustive searches, use GridSearchCV.\n",
      "  warnings.warn(\n"
     ]
    },
    {
     "name": "stdout",
     "output_type": "stream",
     "text": [
      "{'max_depth': 50}\n"
     ]
    }
   ],
   "source": [
    "param_dist = {\n",
    "    'max_depth': [10, 20, 30, 40, 50]\n",
    "}\n",
    "rf = RandomForestClassifier()\n",
    "random_search = RandomizedSearchCV(\n",
    "    estimator=rf,\n",
    "    param_distributions=param_dist,\n",
    "    n_iter=5,\n",
    "    cv=5,\n",
    "    n_jobs=-1,\n",
    "    scoring='accuracy',\n",
    "    random_state=42\n",
    ")\n",
    "random_search.fit(x_train, y_train.values.ravel())\n",
    "print(random_search.best_params_)"
   ]
  },
  {
   "cell_type": "code",
   "execution_count": 7,
   "id": "3476efbb",
   "metadata": {},
   "outputs": [
    {
     "name": "stdout",
     "output_type": "stream",
     "text": [
      "Random Forest with parameters:\n",
      "\n",
      "Train results:\n",
      "F1 score: 0.9966240564427417\n",
      "Accuracy: 0.9973020492300231\n",
      "Recall: 0.9932708301829729\n",
      "Precision: 1.0\n",
      "ROC AUC: 0.999985168660546\n",
      "\n",
      "Test results:\n",
      "F1 score: 0.9349706949483673\n",
      "Accuracy: 0.9505552804696895\n",
      "Recall: 0.8958816188268853\n",
      "Precision: 0.9776264591439688\n",
      "ROC AUC: 0.9876625825320269\n"
     ]
    }
   ],
   "source": [
    "print('Random Forest with parameters:')\n",
    "print()\n",
    "print('Train results:')\n",
    "show_results(random_search, x_train, y_train)\n",
    "print()\n",
    "print('Test results:')\n",
    "show_results(random_search, x_test, y_test)"
   ]
  },
  {
   "cell_type": "markdown",
   "id": "16ef7093",
   "metadata": {},
   "source": [
    "Jak widać nie zaszła większa poprawa w porównaniu do Random Forest bez hiperparametrów."
   ]
  },
  {
   "cell_type": "code",
   "execution_count": null,
   "id": "856b4bcf",
   "metadata": {},
   "outputs": [],
   "source": []
  }
 ],
 "metadata": {
  "kernelspec": {
   "display_name": "Python 3",
   "language": "python",
   "name": "python3"
  },
  "language_info": {
   "codemirror_mode": {
    "name": "ipython",
    "version": 3
   },
   "file_extension": ".py",
   "mimetype": "text/x-python",
   "name": "python",
   "nbconvert_exporter": "python",
   "pygments_lexer": "ipython3",
   "version": "3.8.8"
  }
 },
 "nbformat": 4,
 "nbformat_minor": 5
}
