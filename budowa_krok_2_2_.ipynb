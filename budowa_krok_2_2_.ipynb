{
 "cells": [
  {
   "cell_type": "code",
   "execution_count": 1,
   "metadata": {},
   "outputs": [],
   "source": [
    "#imports\n",
    "import pandas as pd \n",
    "import numpy as np\n",
    "import seaborn as sns\n",
    "import matplotlib.pyplot as plt\n",
    "from sklearn.model_selection import train_test_split\n",
    "from sklearn.linear_model import LogisticRegression\n",
    "from sklearn.svm import SVC\n",
    "from sklearn.ensemble import RandomForestClassifier\n",
    "from sklearn.tree import DecisionTreeClassifier\n",
    "from sklearn import metrics\n",
    "from sklearn.metrics import classification_report, confusion_matrix, accuracy_score, f1_score, precision_score, recall_score"
   ]
  },
  {
   "cell_type": "code",
   "execution_count": 2,
   "metadata": {},
   "outputs": [],
   "source": [
    "#load the training data\n",
    "x_train = pd.read_csv('train_data/tfidf_train_train.csv', index_col=[0])\n",
    "y_train = pd.read_csv('train_data/y_train_train.csv', index_col=[0])\n",
    "#load the test data\n",
    "x_test = pd.read_csv('train_data/tfidf_train_test.csv', index_col=[0])\n",
    "y_test = pd.read_csv('train_data/y_train_test.csv', index_col=[0])"
   ]
  },
  {
   "cell_type": "code",
   "execution_count": 3,
   "metadata": {
    "scrolled": true
   },
   "outputs": [],
   "source": [
    "# solving problems with index after loading data\n",
    "x_train = x_train.reset_index(drop=True)\n",
    "x_test = x_test.reset_index(drop=True)\n",
    "y_train = y_train.reset_index(drop=True)\n",
    "y_test = y_test.reset_index(drop=True)"
   ]
  },
  {
   "cell_type": "code",
   "execution_count": 4,
   "metadata": {},
   "outputs": [
    {
     "name": "stdout",
     "output_type": "stream",
     "text": [
      "Logistic Regression:\n",
      "F1 score: 0.9350767275038592\n",
      "Accuracy: 0.9494234986206409\n",
      "Recall: 0.9179889463362453\n",
      "Precision: 0.9528127313101407\n",
      "\n",
      "Logistic regression\n",
      " raapoert:\n",
      "               precision    recall  f1-score   support\n",
      "\n",
      "           0       0.95      0.97      0.96      8528\n",
      "           1       0.95      0.92      0.94      5609\n",
      "\n",
      "    accuracy                           0.95     14137\n",
      "   macro avg       0.95      0.94      0.95     14137\n",
      "weighted avg       0.95      0.95      0.95     14137\n",
      "\n"
     ]
    }
   ],
   "source": [
    "#Logistic Regression\n",
    "log_reg=LogisticRegression()\n",
    "log_reg.fit(x_train, y_train.values.ravel())\n",
    "log_reg_pred=log_reg.predict(x_test)\n",
    "print('Logistic Regression:')\n",
    "print('F1 score:',f1_score(y_test,log_reg_pred))\n",
    "print('Accuracy:',accuracy_score(y_test,log_reg_pred))\n",
    "print('Recall:',recall_score(y_test,log_reg_pred))\n",
    "print('Precision:',precision_score(y_test,log_reg_pred))\n",
    "print()\n",
    "log_reg_cr=classification_report(y_test,log_reg_pred)\n",
    "print('Logistic regression\\n raapoert:\\n',log_reg_cr)\n"
   ]
  },
  {
   "cell_type": "code",
   "execution_count": 5,
   "metadata": {},
   "outputs": [
    {
     "data": {
      "image/png": "[encoded data removed]",
      "text/plain": [
       "<Figure size 432x288 with 2 Axes>"
      ]
     },
     "metadata": {
      "needs_background": "light"
     },
     "output_type": "display_data"
    }
   ],
   "source": [
    "# Logistic Regression Confusion Matrix\n",
    "log_reg_cm=confusion_matrix(y_test,log_reg_pred)\n",
    "sns.heatmap(log_reg_cm,annot=True,cmap='Blues', fmt='g')\n",
    "plt.title('Logistic regression confusion matrix')\n",
    "plt.xlabel('Predicted Label')\n",
    "plt.ylabel('True Label')\n",
    "plt.show()"
   ]
  },
  {
   "cell_type": "code",
   "execution_count": 6,
   "metadata": {
    "scrolled": true
   },
   "outputs": [
    {
     "name": "stdout",
     "output_type": "stream",
     "text": [
      "Random Forest:\n",
      "F1 score: 0.9328365160689335\n",
      "Accuracy: 0.9489990804272477\n",
      "Recall: 0.8926724906400428\n",
      "Precision: 0.9767850175575498\n",
      "\n",
      "Random forest\n",
      " raport;\n",
      "               precision    recall  f1-score   support\n",
      "\n",
      "           0       0.93      0.99      0.96      8528\n",
      "           1       0.98      0.89      0.93      5609\n",
      "\n",
      "    accuracy                           0.95     14137\n",
      "   macro avg       0.95      0.94      0.95     14137\n",
      "weighted avg       0.95      0.95      0.95     14137\n",
      "\n"
     ]
    }
   ],
   "source": [
    "#Random Forest\n",
    "RandForest=RandomForestClassifier()\n",
    "RandForest.fit(x_train,y_train.values.ravel())\n",
    "RandForest_pred=RandForest.predict(x_test)\n",
    "print('Random Forest:')\n",
    "print('F1 score:',f1_score(y_test,RandForest_pred))\n",
    "print('Accuracy:',accuracy_score(y_test,RandForest_pred))\n",
    "print('Recall:',recall_score(y_test,RandForest_pred))\n",
    "print('Precision:',precision_score(y_test,RandForest_pred))\n",
    "print()\n",
    "RandForest_cr=classification_report(y_test,RandForest_pred)\n",
    "print('Random forest\\n raport;\\n', RandForest_cr)"
   ]
  },
  {
   "cell_type": "code",
   "execution_count": 7,
   "metadata": {},
   "outputs": [
    {
     "data": {
      "image/png": "[encoded data removed]",
      "text/plain": [
       "<Figure size 432x288 with 2 Axes>"
      ]
     },
     "metadata": {
      "needs_background": "light"
     },
     "output_type": "display_data"
    }
   ],
   "source": [
    "# Random Forest Confusion Matrix\n",
    "rand_for_cm = confusion_matrix(y_test,RandForest_pred)\n",
    "sns.heatmap(rand_for_cm,annot=True,cmap='Blues', fmt='g')\n",
    "plt.title('Random Forest confusion matrix')\n",
    "plt.xlabel('Predicted Label')\n",
    "plt.ylabel('True Label')\n",
    "plt.show()"
   ]
  },
  {
   "cell_type": "code",
   "execution_count": 8,
   "metadata": {
    "scrolled": true
   },
   "outputs": [
    {
     "name": "stdout",
     "output_type": "stream",
     "text": [
      "Decision Tree:\n",
      "F1 score: 0.9119655048508803\n",
      "Accuracy: 0.9306783617457735\n",
      "Recall: 0.904974148689606\n",
      "Precision: 0.9190657251493753\n",
      "\n",
      "Decision Tree\n",
      " raport;\n",
      "               precision    recall  f1-score   support\n",
      "\n",
      "           0       0.94      0.95      0.94      8528\n",
      "           1       0.92      0.90      0.91      5609\n",
      "\n",
      "    accuracy                           0.93     14137\n",
      "   macro avg       0.93      0.93      0.93     14137\n",
      "weighted avg       0.93      0.93      0.93     14137\n",
      "\n"
     ]
    }
   ],
   "source": [
    "#Decision Tree\n",
    "Tree=DecisionTreeClassifier()  \n",
    "Tree.fit(x_train,y_train.values.ravel())\n",
    "Tree_pred=Tree.predict(x_test)\n",
    "print('Decision Tree:')\n",
    "print('F1 score:',f1_score(y_test,Tree_pred))\n",
    "print('Accuracy:',accuracy_score(y_test,Tree_pred))\n",
    "print('Recall:',recall_score(y_test,Tree_pred))\n",
    "print('Precision:',precision_score(y_test,Tree_pred))\n",
    "print()\n",
    "Tree_cr=classification_report(y_test,Tree_pred)\n",
    "print('Decision Tree\\n raport;\\n', Tree_cr)"
   ]
  },
  {
   "cell_type": "code",
   "execution_count": 9,
   "metadata": {},
   "outputs": [
    {
     "data": {
      "image/png": "[encoded data removed]",
      "text/plain": [
       "<Figure size 432x288 with 2 Axes>"
      ]
     },
     "metadata": {
      "needs_background": "light"
     },
     "output_type": "display_data"
    }
   ],
   "source": [
    "# Decision Tree Confusion Matrix\n",
    "tree_cm = confusion_matrix(y_test, Tree_pred)\n",
    "sns.heatmap(tree_cm, annot=True,cmap='Blues', fmt='g')\n",
    "plt.title('Decision Tree confusion matrix')\n",
    "plt.xlabel('Predicted Label')\n",
    "plt.ylabel('True Label')\n",
    "plt.show()"
   ]
  },
  {
   "cell_type": "code",
   "execution_count": 10,
   "metadata": {},
   "outputs": [
    {
     "name": "stdout",
     "output_type": "stream",
     "text": [
      "Support Vector Machine:\n",
      "F1 score: 0.9495538153341831\n",
      "Accuracy: 0.9608120534766924\n",
      "Recall: 0.9295774647887324\n",
      "Precision: 0.9704075935231714\n",
      "\n",
      "Support Vector Machine\n",
      " raport;\n",
      "               precision    recall  f1-score   support\n",
      "\n",
      "           0       0.95      0.98      0.97      8528\n",
      "           1       0.97      0.93      0.95      5609\n",
      "\n",
      "    accuracy                           0.96     14137\n",
      "   macro avg       0.96      0.96      0.96     14137\n",
      "weighted avg       0.96      0.96      0.96     14137\n",
      "\n"
     ]
    }
   ],
   "source": [
    "#Support Vector Machine\n",
    "SVM=SVC()\n",
    "SVM.fit(x_train,y_train.values.ravel())\n",
    "SVM_pred=SVM.predict(x_test)\n",
    "print('Support Vector Machine:')\n",
    "print('F1 score:',f1_score(y_test,SVM_pred))\n",
    "print('Accuracy:',accuracy_score(y_test,SVM_pred))\n",
    "print('Recall:',recall_score(y_test,SVM_pred))\n",
    "print('Precision:',precision_score(y_test,SVM_pred))\n",
    "print()\n",
    "SVM_cr=classification_report(y_test,SVM_pred)\n",
    "print('Support Vector Machine\\n raport;\\n', SVM_cr)"
   ]
  },
  {
   "cell_type": "code",
   "execution_count": 11,
   "metadata": {},
   "outputs": [
    {
     "data": {
      "image/png": "[encoded data removed]",
      "text/plain": [
       "<Figure size 432x288 with 2 Axes>"
      ]
     },
     "metadata": {
      "needs_background": "light"
     },
     "output_type": "display_data"
    }
   ],
   "source": [
    "# Support Vector Machine Confusion Matrix\n",
    "svm_cm = confusion_matrix(y_test, SVM_pred)\n",
    "sns.heatmap(svm_cm, annot=True,cmap='Blues', fmt='g')\n",
    "plt.title('SVM confusion matrix')\n",
    "plt.xlabel('Predicted Label')\n",
    "plt.ylabel('True Label')\n",
    "plt.show()"
   ]
  },
  {
   "cell_type": "code",
   "execution_count": null,
   "metadata": {},
   "outputs": [],
   "source": []
  }
 ],
 "metadata": {
  "kernelspec": {
   "display_name": "Python 3",
   "language": "python",
   "name": "python3"
  },
  "language_info": {
   "codemirror_mode": {
    "name": "ipython",
    "version": 3
   },
   "file_extension": ".py",
   "mimetype": "text/x-python",
   "name": "python",
   "nbconvert_exporter": "python",
   "pygments_lexer": "ipython3",
   "version": "3.8.8"
  }
 },
 "nbformat": 4,
 "nbformat_minor": 2
}
