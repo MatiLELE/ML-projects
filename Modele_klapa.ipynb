{
 "cells": [
  {
   "cell_type": "code",
   "execution_count": 15,
   "metadata": {},
   "outputs": [],
   "source": [
    "#imports\n",
    "import pandas as pd \n",
    "import numpy as np\n",
    "import seaborn as sns\n",
    "import matplotlib.pyplot as plt\n",
    "from sklearn.model_selection import train_test_split\n",
    "from sklearn.linear_model import LogisticRegression\n",
    "from sklearn.svm import SVC\n",
    "from sklearn.ensemble import RandomForestClassifier\n",
    "from sklearn.tree import DecisionTreeClassifier\n",
    "from sklearn import metrics\n",
    "from sklearn.metrics import classification_report, confusion_matrix, accuracy_score, f1_score, precision_score, recall_score\n",
    "\n",
    "\n"
   ]
  },
  {
   "cell_type": "code",
   "execution_count": 9,
   "metadata": {},
   "outputs": [],
   "source": [
    "#load the training data\n",
    "train_data=pd.read_csv('train_data/tfidf_train_train.csv')\n",
    "#load the test data\n",
    "test_data=pd.read_csv('train_data/tfidf_train_test.csv')\n",
    "\n",
    "\n",
    "train_data['target']=train_data['target'].apply(lambda x: 1 if x > 0 else 0)\n",
    "train_data['target'].astype(int)\n",
    "\n",
    "\n",
    "#Split train_data into X and y features\n",
    "x_train=train_data.drop('target',axis=1)\n",
    "y_train=train_data['target']\n",
    "\n",
    "#y_train=y_train.astype(np.float64)\n",
    "\n",
    "#Split test_data into X and y features\n",
    "test_data['target']=test_data['target'].apply(lambda x: 1 if x > 0 else 0)\n",
    "test_data['target'].astype(int)\n",
    "x_test=test_data.drop('target',axis=1)\n",
    "y_test=test_data['target']"
   ]
  },
  {
   "cell_type": "code",
   "execution_count": 55,
   "metadata": {},
   "outputs": [
    {
     "name": "stdout",
     "output_type": "stream",
     "text": [
      "int64\n"
     ]
    }
   ],
   "source": [
    "print(y_train.dtype)\n"
   ]
  },
  {
   "cell_type": "code",
   "execution_count": 56,
   "metadata": {},
   "outputs": [
    {
     "name": "stdout",
     "output_type": "stream",
     "text": [
      "int64\n"
     ]
    },
    {
     "data": {
      "text/plain": [
       "0    0\n",
       "1    0\n",
       "2    0\n",
       "3    0\n",
       "4    1\n",
       "Name: target, dtype: int64"
      ]
     },
     "execution_count": 56,
     "metadata": {},
     "output_type": "execute_result"
    }
   ],
   "source": [
    "print(y_train.dtype)\n",
    "y_train.head()"
   ]
  },
  {
   "cell_type": "code",
   "execution_count": 17,
   "metadata": {},
   "outputs": [
    {
     "name": "stdout",
     "output_type": "stream",
     "text": [
      "Logistic Regression:\n",
      "F1 score: 0.0\n",
      "Accuracy: 0.9068780073591848\n",
      "Recall: 0.0\n",
      "Precision: 0.0\n",
      "\n",
      "Logistic regression\n",
      " raapoert:\n",
      "               precision    recall  f1-score   support\n",
      "\n",
      "           0       0.91      1.00      0.95     12816\n",
      "           1       0.00      0.00      0.00      1316\n",
      "\n",
      "    accuracy                           0.91     14132\n",
      "   macro avg       0.45      0.50      0.48     14132\n",
      "weighted avg       0.82      0.91      0.86     14132\n",
      "\n"
     ]
    },
    {
     "name": "stderr",
     "output_type": "stream",
     "text": [
      "c:\\Users\\bfgam\\anaconda3\\envs\\wumproj\\lib\\site-packages\\sklearn\\metrics\\_classification.py:1344: UndefinedMetricWarning: Precision is ill-defined and being set to 0.0 due to no predicted samples. Use `zero_division` parameter to control this behavior.\n",
      "  _warn_prf(average, modifier, msg_start, len(result))\n",
      "c:\\Users\\bfgam\\anaconda3\\envs\\wumproj\\lib\\site-packages\\sklearn\\metrics\\_classification.py:1344: UndefinedMetricWarning: Precision and F-score are ill-defined and being set to 0.0 in labels with no predicted samples. Use `zero_division` parameter to control this behavior.\n",
      "  _warn_prf(average, modifier, msg_start, len(result))\n",
      "c:\\Users\\bfgam\\anaconda3\\envs\\wumproj\\lib\\site-packages\\sklearn\\metrics\\_classification.py:1344: UndefinedMetricWarning: Precision and F-score are ill-defined and being set to 0.0 in labels with no predicted samples. Use `zero_division` parameter to control this behavior.\n",
      "  _warn_prf(average, modifier, msg_start, len(result))\n",
      "c:\\Users\\bfgam\\anaconda3\\envs\\wumproj\\lib\\site-packages\\sklearn\\metrics\\_classification.py:1344: UndefinedMetricWarning: Precision and F-score are ill-defined and being set to 0.0 in labels with no predicted samples. Use `zero_division` parameter to control this behavior.\n",
      "  _warn_prf(average, modifier, msg_start, len(result))\n"
     ]
    }
   ],
   "source": [
    "#Logistic Regression\n",
    "log_reg=LogisticRegression()\n",
    "log_reg.fit(x_train,y_train)\n",
    "log_reg_pred=log_reg.predict(x_test)\n",
    "print('Logistic Regression:')\n",
    "print('F1 score:',f1_score(y_test,log_reg_pred))\n",
    "print('Accuracy:',accuracy_score(y_test,log_reg_pred))\n",
    "print('Recall:',recall_score(y_test,log_reg_pred))\n",
    "print('Precision:',precision_score(y_test,log_reg_pred))\n",
    "print()\n",
    "log_reg_cr=classification_report(y_test,log_reg_pred)\n",
    "print('Logistic regression\\n raapoert:\\n',log_reg_cr)\n"
   ]
  },
  {
   "cell_type": "code",
   "execution_count": 18,
   "metadata": {},
   "outputs": [
    {
     "data": {
      "image/png": "[encoded data removed]",
      "text/plain": [
       "<Figure size 640x480 with 2 Axes>"
      ]
     },
     "metadata": {},
     "output_type": "display_data"
    }
   ],
   "source": [
    "'''log_reg_cm=confusion_matrix(y_test,log_reg_pred)\n",
    "sns.heatmap(log_reg_cm,annot=True,cmap='Blues')\n",
    "plt.title('Logistic regression confusion matrix')\n",
    "plt.xlabel('Predicted')\n",
    "plt.ylabel('Current')\n",
    "plt.show()'''"
   ]
  },
  {
   "cell_type": "code",
   "execution_count": 13,
   "metadata": {},
   "outputs": [
    {
     "name": "stdout",
     "output_type": "stream",
     "text": [
      "Random Forest:\n",
      "F1 score: 0.3356379635449403\n",
      "Accuracy: 0.9252052080384942\n",
      "Recall: 0.20288753799392098\n",
      "Precision: 0.9709090909090909\n",
      "\n",
      "Random forest\n",
      " raport;\n",
      "               precision    recall  f1-score   support\n",
      "\n",
      "           0       0.92      1.00      0.96     12816\n",
      "           1       0.97      0.20      0.34      1316\n",
      "\n",
      "    accuracy                           0.93     14132\n",
      "   macro avg       0.95      0.60      0.65     14132\n",
      "weighted avg       0.93      0.93      0.90     14132\n",
      "\n"
     ]
    }
   ],
   "source": [
    "#Random Forest\n",
    "RandForest=RandomForestClassifier()\n",
    "RandForest.fit(x_train,y_train)\n",
    "RandForest_pred=RandForest.predict(x_test)\n",
    "print('Random Forest:')\n",
    "print('F1 score:',f1_score(y_test,RandForest_pred))\n",
    "print('Accuracy:',accuracy_score(y_test,RandForest_pred))\n",
    "print('Recall:',recall_score(y_test,RandForest_pred))\n",
    "print('Precision:',precision_score(y_test,RandForest_pred))\n",
    "print()\n",
    "RandForest_cr=classification_report(y_test,RandForest_pred)\n",
    "print('Random forest\\n raport;\\n', RandForest_cr)"
   ]
  },
  {
   "cell_type": "code",
   "execution_count": null,
   "metadata": {},
   "outputs": [],
   "source": [
    "#"
   ]
  },
  {
   "cell_type": "code",
   "execution_count": 61,
   "metadata": {},
   "outputs": [
    {
     "name": "stdout",
     "output_type": "stream",
     "text": [
      "Decision Tree:\n",
      "F1 score: 0.37330316742081443\n",
      "Accuracy: 0.8823945655250496\n",
      "Recall: 0.3761398176291793\n",
      "Precision: 0.37050898203592814\n",
      "\n"
     ]
    }
   ],
   "source": [
    "#Decision Tree\n",
    "Tree=DecisionTreeClassifier()  \n",
    "Tree.fit(x_train,y_train)\n",
    "Tree_pred=Tree.predict(x_test)\n",
    "print('Decision Tree:')\n",
    "print('F1 score:',f1_score(y_test,Tree_pred))\n",
    "print('Accuracy:',accuracy_score(y_test,Tree_pred))\n",
    "print('Recall:',recall_score(y_test,Tree_pred))\n",
    "print('Precision:',precision_score(y_test,Tree_pred))\n",
    "print()\n",
    "Tree_cr=classification_report(y_test,Tree_pred)\n",
    "print('Decision Tree\\n raport;\\n', Tree_cr)"
   ]
  },
  {
   "cell_type": "code",
   "execution_count": 58,
   "metadata": {},
   "outputs": [
    {
     "name": "stdout",
     "output_type": "stream",
     "text": [
      "Support Vector Machine:\n",
      "F1 score: 0.0\n",
      "Accuracy: 0.9068780073591848\n",
      "Recall: 0.0\n",
      "Precision: 0.0\n",
      "\n"
     ]
    },
    {
     "name": "stderr",
     "output_type": "stream",
     "text": [
      "c:\\Users\\bfgam\\anaconda3\\envs\\wumproj\\lib\\site-packages\\sklearn\\metrics\\_classification.py:1344: UndefinedMetricWarning: Precision is ill-defined and being set to 0.0 due to no predicted samples. Use `zero_division` parameter to control this behavior.\n",
      "  _warn_prf(average, modifier, msg_start, len(result))\n"
     ]
    }
   ],
   "source": [
    "#Support Vector Machine\n",
    "SVM=SVC()\n",
    "SVM.fit(x_train,y_train)\n",
    "SVM_pred=SVM.predict(x_test)\n",
    "print('Support Vector Machine:')\n",
    "print('F1 score:',f1_score(y_test,SVM_pred))\n",
    "print('Accuracy:',accuracy_score(y_test,SVM_pred))\n",
    "print('Recall:',recall_score(y_test,SVM_pred))\n",
    "print('Precision:',precision_score(y_test,SVM_pred))\n",
    "print()\n",
    "SVM_cr=classification_report(y_test,SVM_pred)\n",
    "print('Support Vector Machine\\n raport;\\n', SVM_cr)"
   ]
  },
  {
   "cell_type": "code",
   "execution_count": null,
   "metadata": {},
   "outputs": [],
   "source": []
  }
 ],
 "metadata": {
  "kernelspec": {
   "display_name": "wumproj",
   "language": "python",
   "name": "python3"
  },
  "language_info": {
   "codemirror_mode": {
    "name": "ipython",
    "version": 3
   },
   "file_extension": ".py",
   "mimetype": "text/x-python",
   "name": "python",
   "nbconvert_exporter": "python",
   "pygments_lexer": "ipython3",
   "version": "3.9.16"
  },
  "orig_nbformat": 4
 },
 "nbformat": 4,
 "nbformat_minor": 2
}
