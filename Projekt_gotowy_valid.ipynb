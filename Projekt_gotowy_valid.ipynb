{
 "cells": [
  {
   "cell_type": "markdown",
   "id": "b8eb7f2a",
   "metadata": {},
   "source": [
    "# Wstęp do uczenia maszynowego. Projekt nr 1.\n",
    "\n",
    "*Maciej Borkowski, Michał Chęć\n",
    "21.04.2023r.*\n",
    "\n",
    "Zadaniem projektowym jest zrealizowanie zadania klasyfikacji binarnej na zbiorze danych numerycznych ze strony\n",
    "[https://www.kaggle.com/datasets/nextbigwhat/dataset-1](https://www.kaggle.com/datasets/nextbigwhat/dataset-1)"
   ]
  },
  {
   "cell_type": "code",
   "execution_count": 1,
   "id": "cbae4491",
   "metadata": {},
   "outputs": [],
   "source": [
    "# ładujemy potrzebne pakiety\n",
    "import pandas as pd\n",
    "import numpy as np\n",
    "from tabulate import tabulate\n",
    "import matplotlib.pyplot as plt\n",
    "\n",
    "from sklearn.base import TransformerMixin, BaseEstimator\n",
    "from sklearn.pipeline import Pipeline\n",
    "from sklearn.compose import ColumnTransformer, make_column_selector\n",
    "\n",
    "from sklearn.preprocessing import StandardScaler, OneHotEncoder\n",
    "from sklearn.metrics import confusion_matrix, precision_score, recall_score, f1_score, roc_auc_score, accuracy_score\n",
    "from sklearn.model_selection import GridSearchCV, RandomizedSearchCV, train_test_split\n",
    "from sklearn.feature_selection import SelectKBest, SelectFromModel, SequentialFeatureSelector, RFE, VarianceThreshold\n",
    "from sklearn.decomposition import PCA\n",
    "\n",
    "from sklearn.linear_model import LogisticRegression\n",
    "from sklearn.tree import DecisionTreeClassifier\n",
    "from sklearn.svm import SVC\n",
    "from sklearn.ensemble import RandomForestClassifier, VotingClassifier\n",
    "from sklearn.ensemble import AdaBoostClassifier\n",
    "\n",
    "import warnings\n",
    "import os\n",
    "import sys\n",
    "if not sys.warnoptions:\n",
    "    warnings.simplefilter(\"ignore\")\n",
    "    os.environ[\"PYTHONWARNINGS\"] = \"ignore\"\n",
    "\n",
    "np.random.seed(42)"
   ]
  },
  {
   "cell_type": "markdown",
   "id": "d0836c0c",
   "metadata": {},
   "source": [
    "# 1. Import i podział danych"
   ]
  },
  {
   "cell_type": "code",
   "execution_count": 2,
   "id": "e59d7ccc",
   "metadata": {},
   "outputs": [],
   "source": [
    "# wczytujemy całą ramkę danych\n",
    "dataset = pd.read_csv(\"dataset_1.csv\")\n",
    "df = dataset.copy()"
   ]
  },
  {
   "cell_type": "code",
   "execution_count": 3,
   "id": "c11a7336",
   "metadata": {},
   "outputs": [],
   "source": [
    "# dzielimy dane, tworzymy zbiór do ewaluacji i do testów\n",
    "train_set, eval_set = train_test_split(df, test_size=0.3, random_state=42)\n",
    "train_df, test_df = train_test_split(train_set, test_size=0.3, random_state=42)\n",
    "df = train_df.copy()"
   ]
  },
  {
   "cell_type": "code",
   "execution_count": 4,
   "id": "0e42acaf",
   "metadata": {
    "pycharm": {
     "is_executing": true
    }
   },
   "outputs": [],
   "source": [
    "class ColumnRemover(BaseEstimator, TransformerMixin):\n",
    "\n",
    "    def __init__(self, threshold_constant, threshold_corr, n_info_vals):\n",
    "        self.threshold_constant = threshold_constant\n",
    "        self.threshold_corr = threshold_corr\n",
    "        self.n_info_vals = n_info_vals\n",
    "        self.columns_to_remove = []\n",
    "        self.columns_to_keep = []\n",
    "\n",
    "    def fit(self, X, y=None):\n",
    "        # usuwanie zduplikowanych kolumn\n",
    "        self.columns_to_remove.extend(X.loc[:, X.T.duplicated()].columns.tolist())\n",
    "\n",
    "        # usuwanie stałych i prawie stałych kolumn\n",
    "        for column in X.columns:\n",
    "            if X[column].value_counts(normalize=True).iloc[0] >= self.threshold_constant:\n",
    "                self.columns_to_remove.append(column)\n",
    "\n",
    "        # usuwanie skorelowanych kolumn, jeśli pierwsza kolumna jest ciągła stosujemy korelację pearsona,\n",
    "        # jeśli dyskretna to korelację spearmana; pierwsza kolumna będzie typu takiego samego jak cały X ponieważ\n",
    "        # klasę tą stosujemy w column tranformerze ograniczając podzbiór kolumn do okreslonego typu\n",
    "        if X.dtypes[0] == 'float64':\n",
    "            corr = X.corr(method='pearson')\n",
    "        else:\n",
    "            corr = X.corr(method='spearman')\n",
    "        corr = corr[corr > self.threshold_corr]\n",
    "        dependent_columns = corr.apply(lambda row: row[row > 0].index, axis=1)\n",
    "        for j in range (len(dependent_columns)):\n",
    "            for k in dependent_columns[j]:\n",
    "                if k is not dependent_columns.index[j]:\n",
    "                    if k not in dependent_columns.index[0:j]:\n",
    "                        self.columns_to_remove.append(k)\n",
    "\n",
    "        # usuwanie kolumn nie niosących informacji\n",
    "        amount_of_ones = y[y == 1].shape[0]\n",
    "        X = X.join(y)\n",
    "        for column in X.columns:\n",
    "            tmp = X.groupby(column)['target'].agg(['sum','count']).sort_values('sum',ascending = False).reset_index()\n",
    "            if any(tmp[column] == 0) and (tmp.loc[tmp[column] == 0, 'sum'] > amount_of_ones - self.n_info_vals).bool():\n",
    "                self.columns_to_remove.append(column)\n",
    "        X.drop('target', axis=1, inplace=True)\n",
    "\n",
    "        self.columns_to_keep = [col for col in X.columns if col not in self.columns_to_remove]\n",
    "\n",
    "        return self\n",
    "\n",
    "    def transform(self, X):\n",
    "        return X[self.columns_to_keep]"
   ]
  },
  {
   "cell_type": "code",
   "execution_count": 5,
   "id": "9ed6d712",
   "metadata": {},
   "outputs": [],
   "source": [
    "# zarówno dla zmiennych dyskretnych i ciągłych stosujemy nasz transformator ColumnRemover z różnymi parametrami - w kolejnych krokach będziemy szukać najlepszej ich kombinacji\n",
    "\n",
    "# dokonujemy kodowania one hot encoding zmiennych dyskretnych - traktujemy je jako kategoryczne\n",
    "int_transformer = Pipeline([\n",
    "    ('int', ColumnRemover(0.9995, 0.99, 1)),\n",
    "    ('one_hot', OneHotEncoder(handle_unknown='ignore', sparse=False, dtype='int64'))])\n",
    "\n",
    "# dokojumeny standaryzacji zmiennych ciągłych - w kolejnych krokach sprawdzimy, czy jest lepsza od normalizacji min_max\n",
    "float_transformer = Pipeline([\n",
    "    ('float', ColumnRemover(0.9999, 0.99, 10)),\n",
    "    ('min_max', StandardScaler())])\n",
    "\n",
    "col_transformer = ColumnTransformer([\n",
    "    ('int_pipe', int_transformer, make_column_selector(dtype_include=np.int64)),\n",
    "    ('float_pipe', float_transformer, make_column_selector(dtype_include=np.float64))\n",
    "])"
   ]
  },
  {
   "cell_type": "code",
   "execution_count": 6,
   "id": "7eb7f15d",
   "metadata": {},
   "outputs": [],
   "source": [
    "X_train = train_df.drop('target', axis=1)\n",
    "y_train = train_df.target\n",
    "x_eval = eval_set.drop('target', axis=1)\n",
    "y_eval = eval_set.target"
   ]
  },
  {
   "cell_type": "markdown",
   "id": "c1eada21",
   "metadata": {},
   "source": [
    "Utworzyliśmy ponadto funkcję liczącą wszystko za nas i wyświetlającą macierz pomyłek oraz interesujące nas metryki"
   ]
  },
  {
   "cell_type": "code",
   "execution_count": 7,
   "id": "9f688ee7",
   "metadata": {},
   "outputs": [],
   "source": [
    "def show_scores(clf, X, y):\n",
    "    y_pred = clf.predict(X)\n",
    "    y_pred_prob = clf.predict_proba(X)\n",
    "    print(tabulate(confusion_matrix(y, y_pred), headers=['Predicted 0', 'Predicted 1'], tablefmt='orgtbl'))\n",
    "    print()\n",
    "    print(f'accuracy:              {round(accuracy_score(y, y_pred), 4)}')\n",
    "    print(f'precision:             {round(precision_score(y, y_pred), 4)}')\n",
    "    print(f'recall:                {round(recall_score(y, y_pred), 4)}')\n",
    "    print(f'f1:                    {round(f1_score(y, y_pred), 4)}')\n",
    "    print(f'roc_auc_discrete:      {round(roc_auc_score(y, y_pred), 4)}')\n",
    "    print(f'roc_auc_continuous:    {round(roc_auc_score(y, y_pred_prob[:, 1]), 4)}')"
   ]
  },
  {
   "cell_type": "markdown",
   "id": "9766580c",
   "metadata": {},
   "source": [
    "Przejdźmy zatem do modeli"
   ]
  },
  {
   "cell_type": "markdown",
   "id": "8b460917",
   "metadata": {},
   "source": [
    "# 3. Regresja logistyczna"
   ]
  },
  {
   "cell_type": "markdown",
   "id": "8b2616b4",
   "metadata": {},
   "source": [
    "## 3.1 Preprocessing"
   ]
  },
  {
   "cell_type": "code",
   "execution_count": 8,
   "id": "9082c2c7",
   "metadata": {},
   "outputs": [],
   "source": [
    "# zarówno dla zmiennych dyskretnych i ciągłych stosujemy nasz transformator ColumnRemover z różnymi parametrami - w kolejnych krokach będziemy szukać najlepszej ich kombinacji\n",
    "\n",
    "# dokonujemy kodowania one hot encoding zmiennych dyskretnych - traktujemy je jako kategoryczne\n",
    "int_transformer = Pipeline([\n",
    "    ('int', ColumnRemover(0.9995, 0.99, 1)),\n",
    "    ('one_hot', OneHotEncoder(handle_unknown='ignore', sparse_output=False, dtype='int64'))])\n",
    "\n",
    "# dokojumeny standaryzacji zmiennych ciągłych - sprawdziliśmy, że jest lepsza od normalizacji min-max dla tego modelu\n",
    "float_transformer = Pipeline([\n",
    "    ('float', ColumnRemover(0.9999, 0.99, 10)),\n",
    "    ('standard_scaler', StandardScaler())])\n",
    "\n",
    "col_transformer = ColumnTransformer([\n",
    "    ('int_pipe', int_transformer, make_column_selector(dtype_include=np.int64)),\n",
    "    ('float_pipe', float_transformer, make_column_selector(dtype_include=np.float64))\n",
    "])"
   ]
  },
  {
   "cell_type": "markdown",
   "id": "e5e5b4fb",
   "metadata": {},
   "source": [
    "## 3.2 Trening pierwszego modelu"
   ]
  },
  {
   "cell_type": "code",
   "execution_count": 9,
   "id": "87a05a38",
   "metadata": {},
   "outputs": [
    {
     "name": "stdout",
     "output_type": "stream",
     "text": [
      "|   Predicted 0 |   Predicted 1 |\n",
      "|---------------+---------------|\n",
      "|         23550 |            10 |\n",
      "|           934 |             6 |\n",
      "\n",
      "accuracy:              0.9615\n",
      "precision:             0.375\n",
      "recall:                0.0064\n",
      "f1:                    0.0126\n",
      "roc_auc_discrete:      0.503\n",
      "roc_auc_continuous:    0.8057\n"
     ]
    }
   ],
   "source": [
    "clf = Pipeline([\n",
    "    ('preprocessing', col_transformer),\n",
    "    ('model', LogisticRegression(random_state=42))])\n",
    "\n",
    "clf.fit(X_train, y_train)\n",
    "\n",
    "# wyniki dla danych treningowych\n",
    "show_scores(clf, X_train, y_train)"
   ]
  },
  {
   "cell_type": "code",
   "execution_count": 10,
   "id": "f192059f",
   "metadata": {},
   "outputs": [
    {
     "name": "stdout",
     "output_type": "stream",
     "text": [
      "|   Predicted 0 |   Predicted 1 |\n",
      "|---------------+---------------|\n",
      "|         14391 |             8 |\n",
      "|           600 |             1 |\n",
      "\n",
      "accuracy:              0.9595\n",
      "precision:             0.1111\n",
      "recall:                0.0017\n",
      "f1:                    0.0033\n",
      "roc_auc_discrete:      0.5006\n",
      "roc_auc_continuous:    0.7864\n"
     ]
    }
   ],
   "source": [
    "# wyniki dla danych testowych\n",
    "show_scores(clf, x_eval, y_eval)"
   ]
  },
  {
   "cell_type": "markdown",
   "id": "91fb5586",
   "metadata": {},
   "source": [
    "Model się nie uczy. Wiemy, że klasy są niezbalansowane (jest ok. 4% jedynek). Zastosujemy parametr class_weight = 'balanced')"
   ]
  },
  {
   "cell_type": "code",
   "execution_count": 11,
   "id": "58a9cae7",
   "metadata": {},
   "outputs": [
    {
     "name": "stdout",
     "output_type": "stream",
     "text": [
      "|   Predicted 0 |   Predicted 1 |\n",
      "|---------------+---------------|\n",
      "|         16261 |          7299 |\n",
      "|           207 |           733 |\n",
      "\n",
      "accuracy:              0.6936\n",
      "precision:             0.0913\n",
      "recall:                0.7798\n",
      "f1:                    0.1634\n",
      "roc_auc_discrete:      0.735\n",
      "roc_auc_continuous:    0.8125\n"
     ]
    }
   ],
   "source": [
    "clf = Pipeline([\n",
    "    ('preprocessing', col_transformer),\n",
    "    ('model', LogisticRegression(random_state=42, class_weight='balanced'))])\n",
    "\n",
    "clf.fit(X_train, y_train)\n",
    "show_scores(clf, X_train, y_train)"
   ]
  },
  {
   "cell_type": "code",
   "execution_count": 12,
   "id": "af1d54e8",
   "metadata": {},
   "outputs": [
    {
     "name": "stdout",
     "output_type": "stream",
     "text": [
      "|   Predicted 0 |   Predicted 1 |\n",
      "|---------------+---------------|\n",
      "|          9873 |          4526 |\n",
      "|           163 |           438 |\n",
      "\n",
      "accuracy:              0.6874\n",
      "precision:             0.0882\n",
      "recall:                0.7288\n",
      "f1:                    0.1574\n",
      "roc_auc_discrete:      0.7072\n",
      "roc_auc_continuous:    0.7848\n"
     ]
    }
   ],
   "source": [
    "show_scores(clf, x_eval, y_eval)"
   ]
  },
  {
   "cell_type": "markdown",
   "id": "81f1ae95",
   "metadata": {},
   "source": [
    "Daje nam to minimalne podstawy do dalszego doboru parametrów."
   ]
  },
  {
   "cell_type": "markdown",
   "id": "0c5120fc",
   "metadata": {},
   "source": [
    "## 3.3 Strojenie hiperparametrów i dobór cech"
   ]
  },
  {
   "cell_type": "markdown",
   "id": "db945b2f",
   "metadata": {},
   "source": [
    "### 3.3.1 Dobór parametrów dla ColumnRemover'a\n"
   ]
  },
  {
   "cell_type": "code",
   "execution_count": 13,
   "id": "7f6af757",
   "metadata": {},
   "outputs": [],
   "source": [
    "#X_train = train_df.drop('target', axis=1)\n",
    "#y_train = train_df.target\n",
    "#X_test = test_df.drop('target', axis=1)\n",
    "#y_test = test_df.target"
   ]
  },
  {
   "cell_type": "code",
   "execution_count": 14,
   "id": "ae93f634",
   "metadata": {},
   "outputs": [],
   "source": [
    "clf = Pipeline([\n",
    "    ('preprocessing', col_transformer),\n",
    "    ('model', LogisticRegression(random_state=42, class_weight='balanced'))])\n",
    "\n",
    "parameters = dict(preprocessing__int_pipe__int__threshold_constant = np.arange(0.9995, 1, 0.0001),\n",
    "                  preprocessing__int_pipe__int__threshold_corr = np.arange(0.96, 1, 0.01),\n",
    "                  preprocessing__int_pipe__int__n_info_vals = np.arange(0, 5, 1),\n",
    "                  preprocessing__float_pipe__float__threshold_constant = np.arange(0.9995, 1, 0.0001),\n",
    "                  preprocessing__float_pipe__float__threshold_corr = np.arange(0.96, 1, 0.01),\n",
    "                  preprocessing__float_pipe__float__n_info_vals = np.arange(0, 16, 3))\n",
    "\n",
    "col_remove_search = RandomizedSearchCV(clf, scoring='roc_auc', param_distributions=parameters, cv=3, n_iter=500, n_jobs=-1, random_state=42).fit(X_train, y_train)"
   ]
  },
  {
   "cell_type": "markdown",
   "id": "a95338ff",
   "metadata": {},
   "source": [
    "Sprawdzamy rezultaty treningu"
   ]
  },
  {
   "cell_type": "code",
   "execution_count": 15,
   "id": "e3c90eb1",
   "metadata": {},
   "outputs": [
    {
     "name": "stdout",
     "output_type": "stream",
     "text": [
      "0.7856 {'preprocessing__int_pipe__int__threshold_corr': 1.0, 'preprocessing__int_pipe__int__threshold_constant': 0.9997, 'preprocessing__int_pipe__int__n_info_vals': 0, 'preprocessing__float_pipe__float__threshold_corr': 0.96, 'preprocessing__float_pipe__float__threshold_constant': 0.9999, 'preprocessing__float_pipe__float__n_info_vals': 3}\n"
     ]
    }
   ],
   "source": [
    "print(round(col_remove_search.best_score_, 4), col_remove_search.best_params_)"
   ]
  },
  {
   "cell_type": "code",
   "execution_count": 16,
   "id": "2e2cda7e",
   "metadata": {},
   "outputs": [
    {
     "name": "stdout",
     "output_type": "stream",
     "text": [
      "|   Predicted 0 |   Predicted 1 |\n",
      "|---------------+---------------|\n",
      "|         16409 |          7151 |\n",
      "|           206 |           734 |\n",
      "\n",
      "accuracy:              0.6997\n",
      "precision:             0.0931\n",
      "recall:                0.7809\n",
      "f1:                    0.1663\n",
      "roc_auc_discrete:      0.7387\n",
      "roc_auc_continuous:    0.8141\n",
      "|   Predicted 0 |   Predicted 1 |\n",
      "|---------------+---------------|\n",
      "|          9958 |          4441 |\n",
      "|           166 |           435 |\n",
      "\n",
      "accuracy:              0.6929\n",
      "precision:             0.0892\n",
      "recall:                0.7238\n",
      "f1:                    0.1588\n",
      "roc_auc_discrete:      0.7077\n",
      "roc_auc_continuous:    0.7855\n"
     ]
    }
   ],
   "source": [
    "show_scores(col_remove_search.best_estimator_, X_train, y_train)\n",
    "show_scores(col_remove_search.best_estimator_, x_eval, y_eval)"
   ]
  },
  {
   "cell_type": "markdown",
   "id": "e242a5ad",
   "metadata": {},
   "source": [
    "Otrzymujemy porównywalne wyniki."
   ]
  },
  {
   "cell_type": "markdown",
   "id": "c58d1ea0",
   "metadata": {},
   "source": [
    "### 3.3.2 Regularyzacja modelu\n",
    "\n",
    "Zajmiemy się regularyzacją modelu regresji liniowej - będziemy sprawdzać odwrotność współczynnika regularyzacji (im większy tym mniejsza regulacja), oraz rodzaj kary (l1 - regresja LASSO, l2 - regresja grzbietowa). Zastosujemy podadto parametry ColumnRemovera ustalone w poprzednich podpunktach.\n"
   ]
  },
  {
   "cell_type": "code",
   "execution_count": 17,
   "id": "80c1b938",
   "metadata": {},
   "outputs": [],
   "source": [
    "# ustawiamy parametry ColumnRemovera na znalezione w 3.3.1\n",
    "int_transformer = Pipeline([\n",
    "    ('int', ColumnRemover(0.9998, 1, 0)),\n",
    "    ('one_hot', OneHotEncoder(handle_unknown='ignore', sparse_output=False, dtype='int64'))])\n",
    "\n",
    "float_transformer = Pipeline([\n",
    "    ('float', ColumnRemover(0.9996, 0.97, 0)),\n",
    "    ('standard_scaler', StandardScaler())])\n",
    "\n",
    "col_transformer = ColumnTransformer([\n",
    "    ('int_pipe', int_transformer, make_column_selector(dtype_include=np.int64)),\n",
    "    ('float_pipe', float_transformer, make_column_selector(dtype_include=np.float64))\n",
    "])\n",
    "\n",
    "X_train = col_transformer.fit_transform(train_df.drop('target', axis=1), train_df.target)\n",
    "y_train = train_df.target\n",
    "x_eval = col_transformer.transform(eval_set.drop('target', axis=1))\n",
    "y_eval = eval_set.target"
   ]
  },
  {
   "cell_type": "code",
   "execution_count": 18,
   "id": "18a7f6d3",
   "metadata": {},
   "outputs": [],
   "source": [
    "clf = LogisticRegression(random_state=42, class_weight='balanced', solver='liblinear')\n",
    "\n",
    "parameters = dict(C=np.logspace(-6, 2, 20), penalty=['l1', 'l2'])\n",
    "reg_search = GridSearchCV(clf, scoring='roc_auc', cv=3, return_train_score=True, param_grid=parameters, n_jobs=-1).fit(X_train, y_train)"
   ]
  },
  {
   "cell_type": "markdown",
   "id": "e4863de1",
   "metadata": {},
   "source": [
    "Sprawdzamy najlepsze parametry i wyniki dla najlepszego modelu"
   ]
  },
  {
   "cell_type": "code",
   "execution_count": 19,
   "id": "59bfcfc4",
   "metadata": {},
   "outputs": [
    {
     "name": "stdout",
     "output_type": "stream",
     "text": [
      "0.7879 {'C': 0.11288378916846883, 'penalty': 'l1'}\n"
     ]
    }
   ],
   "source": [
    "print(round(reg_search.best_score_, 4), reg_search.best_params_)"
   ]
  },
  {
   "cell_type": "code",
   "execution_count": 20,
   "id": "6306448f",
   "metadata": {},
   "outputs": [
    {
     "name": "stdout",
     "output_type": "stream",
     "text": [
      "|   Predicted 0 |   Predicted 1 |\n",
      "|---------------+---------------|\n",
      "|         16357 |          7203 |\n",
      "|           213 |           727 |\n",
      "\n",
      "accuracy:              0.6973\n",
      "precision:             0.0917\n",
      "recall:                0.7734\n",
      "f1:                    0.1639\n",
      "roc_auc_discrete:      0.7338\n",
      "roc_auc_continuous:    0.8121\n",
      "|   Predicted 0 |   Predicted 1 |\n",
      "|---------------+---------------|\n",
      "|          9918 |          4481 |\n",
      "|           169 |           432 |\n",
      "\n",
      "accuracy:              0.69\n",
      "precision:             0.0879\n",
      "recall:                0.7188\n",
      "f1:                    0.1567\n",
      "roc_auc_discrete:      0.7038\n",
      "roc_auc_continuous:    0.7893\n"
     ]
    }
   ],
   "source": [
    "show_scores(reg_search.best_estimator_, X_train, y_train)\n",
    "show_scores(reg_search.best_estimator_, x_eval, y_eval)"
   ]
  },
  {
   "cell_type": "code",
   "execution_count": 21,
   "id": "be9a81fb",
   "metadata": {},
   "outputs": [
    {
     "name": "stdout",
     "output_type": "stream",
     "text": [
      "0.5     {'C': 1e-06, 'penalty': 'l1'}\n",
      "0.7605     {'C': 1e-06, 'penalty': 'l2'}\n",
      "0.5     {'C': 2.6366508987303555e-06, 'penalty': 'l1'}\n",
      "0.761     {'C': 2.6366508987303555e-06, 'penalty': 'l2'}\n",
      "0.5     {'C': 6.951927961775606e-06, 'penalty': 'l1'}\n",
      "0.7628     {'C': 6.951927961775606e-06, 'penalty': 'l2'}\n",
      "0.5     {'C': 1.8329807108324375e-05, 'penalty': 'l1'}\n",
      "0.766     {'C': 1.8329807108324375e-05, 'penalty': 'l2'}\n",
      "0.5     {'C': 4.8329302385717524e-05, 'penalty': 'l1'}\n",
      "0.7709     {'C': 4.8329302385717524e-05, 'penalty': 'l2'}\n",
      "0.5     {'C': 0.00012742749857031334, 'penalty': 'l1'}\n",
      "0.7755     {'C': 0.00012742749857031334, 'penalty': 'l2'}\n",
      "0.5     {'C': 0.0003359818286283781, 'penalty': 'l1'}\n",
      "0.7801     {'C': 0.0003359818286283781, 'penalty': 'l2'}\n",
      "0.7333     {'C': 0.0008858667904100823, 'penalty': 'l1'}\n",
      "0.7832     {'C': 0.0008858667904100823, 'penalty': 'l2'}\n",
      "0.7714     {'C': 0.002335721469090121, 'penalty': 'l1'}\n",
      "0.7851     {'C': 0.002335721469090121, 'penalty': 'l2'}\n",
      "0.7792     {'C': 0.00615848211066026, 'penalty': 'l1'}\n",
      "0.786     {'C': 0.00615848211066026, 'penalty': 'l2'}\n",
      "0.7861     {'C': 0.01623776739188721, 'penalty': 'l1'}\n",
      "0.7866     {'C': 0.01623776739188721, 'penalty': 'l2'}\n",
      "0.7873     {'C': 0.04281332398719396, 'penalty': 'l1'}\n",
      "0.7866     {'C': 0.04281332398719396, 'penalty': 'l2'}\n",
      "0.7879     {'C': 0.11288378916846883, 'penalty': 'l1'}\n",
      "0.7855     {'C': 0.11288378916846883, 'penalty': 'l2'}\n",
      "0.786     {'C': 0.2976351441631313, 'penalty': 'l1'}\n",
      "0.7846     {'C': 0.2976351441631313, 'penalty': 'l2'}\n",
      "0.7845     {'C': 0.7847599703514607, 'penalty': 'l1'}\n",
      "0.7836     {'C': 0.7847599703514607, 'penalty': 'l2'}\n",
      "0.7822     {'C': 2.06913808111479, 'penalty': 'l1'}\n",
      "0.7822     {'C': 2.06913808111479, 'penalty': 'l2'}\n",
      "0.7809     {'C': 5.455594781168514, 'penalty': 'l1'}\n",
      "0.7812     {'C': 5.455594781168514, 'penalty': 'l2'}\n",
      "0.78     {'C': 14.384498882876601, 'penalty': 'l1'}\n",
      "0.7804     {'C': 14.384498882876601, 'penalty': 'l2'}\n",
      "0.7797     {'C': 37.92690190732246, 'penalty': 'l1'}\n",
      "0.7799     {'C': 37.92690190732246, 'penalty': 'l2'}\n",
      "0.7798     {'C': 100.0, 'penalty': 'l1'}\n",
      "0.7796     {'C': 100.0, 'penalty': 'l2'}\n"
     ]
    }
   ],
   "source": [
    "cvres = reg_search.cv_results_\n",
    "for mean_score, params in zip(cvres[\"mean_test_score\"], cvres[\"params\"]):\n",
    "    print(round(mean_score, 4), \"   \", params)"
   ]
  },
  {
   "cell_type": "markdown",
   "id": "18d2ab19",
   "metadata": {},
   "source": [
    "Skorzystamy z wyznaczonych najlepszych parametrów przy selekcji cech metodą lasso."
   ]
  },
  {
   "cell_type": "markdown",
   "id": "0aefc062",
   "metadata": {},
   "source": [
    "### 3.3.3 Dobór zmiennych nie wymagajacy modelu\n",
    "\n",
    "Korelację uwzględniliśmy w transformatorze ColumnRemover. Technika którą wykorzystamy poniżej to Univariate feature selection - SelectKBest.\n"
   ]
  },
  {
   "cell_type": "markdown",
   "id": "3f096609",
   "metadata": {},
   "source": [
    "### SelectKBest"
   ]
  },
  {
   "cell_type": "code",
   "execution_count": 22,
   "id": "f787f059",
   "metadata": {},
   "outputs": [],
   "source": [
    "# szukamy najlepszego parametru k w SelectKBest\n",
    "clf = Pipeline([\n",
    "    ('select', SelectKBest()),\n",
    "    ('model', LogisticRegression(random_state=42, class_weight='balanced'))])\n",
    "\n",
    "parameters = dict(select__k=np.arange(1, 200, 1))\n",
    "k_best_search = GridSearchCV(clf, scoring='roc_auc', cv=3, return_train_score=True, param_grid=parameters, n_jobs=-1).fit(X_train, y_train)"
   ]
  },
  {
   "cell_type": "code",
   "execution_count": 23,
   "id": "0ac2db82",
   "metadata": {},
   "outputs": [
    {
     "name": "stdout",
     "output_type": "stream",
     "text": [
      "0.7928 {'select__k': 154}\n"
     ]
    }
   ],
   "source": [
    "# wyniki dla najlepszego znalezionego parametru\n",
    "print(round(k_best_search.best_score_, 4), k_best_search.best_params_)"
   ]
  },
  {
   "cell_type": "code",
   "execution_count": 24,
   "id": "4f56ef87",
   "metadata": {},
   "outputs": [
    {
     "name": "stdout",
     "output_type": "stream",
     "text": [
      "|   Predicted 0 |   Predicted 1 |\n",
      "|---------------+---------------|\n",
      "|         16290 |          7270 |\n",
      "|           208 |           732 |\n",
      "\n",
      "accuracy:              0.6948\n",
      "precision:             0.0915\n",
      "recall:                0.7787\n",
      "f1:                    0.1637\n",
      "roc_auc_discrete:      0.7351\n",
      "roc_auc_continuous:    0.8102\n",
      "|   Predicted 0 |   Predicted 1 |\n",
      "|---------------+---------------|\n",
      "|          9863 |          4536 |\n",
      "|           164 |           437 |\n",
      "\n",
      "accuracy:              0.6867\n",
      "precision:             0.0879\n",
      "recall:                0.7271\n",
      "f1:                    0.1568\n",
      "roc_auc_discrete:      0.706\n",
      "roc_auc_continuous:    0.7835\n"
     ]
    }
   ],
   "source": [
    "show_scores(k_best_search.best_estimator_, X_train, y_train)\n",
    "show_scores(k_best_search.best_estimator_, x_eval, y_eval)"
   ]
  },
  {
   "cell_type": "markdown",
   "id": "d7e44e59",
   "metadata": {},
   "source": [
    "Wydaje się dość duże k, zobaczmy, jak prezentują się wszystkie wyniki"
   ]
  },
  {
   "cell_type": "code",
   "execution_count": 25,
   "id": "fb013408",
   "metadata": {},
   "outputs": [
    {
     "name": "stdout",
     "output_type": "stream",
     "text": [
      "0.6717     {'select__k': 1}\n",
      "0.6741     {'select__k': 2}\n",
      "0.6741     {'select__k': 3}\n",
      "0.675     {'select__k': 4}\n",
      "0.6772     {'select__k': 5}\n",
      "0.6819     {'select__k': 6}\n",
      "0.6822     {'select__k': 7}\n",
      "0.6914     {'select__k': 8}\n",
      "0.7     {'select__k': 9}\n",
      "0.7114     {'select__k': 10}\n",
      "0.7108     {'select__k': 11}\n",
      "0.7657     {'select__k': 12}\n",
      "0.7659     {'select__k': 13}\n",
      "0.7651     {'select__k': 14}\n",
      "0.7779     {'select__k': 15}\n",
      "0.7781     {'select__k': 16}\n",
      "0.778     {'select__k': 17}\n",
      "0.7785     {'select__k': 18}\n",
      "0.7786     {'select__k': 19}\n",
      "0.7785     {'select__k': 20}\n",
      "0.78     {'select__k': 21}\n",
      "0.7802     {'select__k': 22}\n",
      "0.7804     {'select__k': 23}\n",
      "0.7805     {'select__k': 24}\n",
      "0.7806     {'select__k': 25}\n",
      "0.7806     {'select__k': 26}\n",
      "0.7811     {'select__k': 27}\n",
      "0.7815     {'select__k': 28}\n",
      "0.7816     {'select__k': 29}\n",
      "0.7817     {'select__k': 30}\n",
      "0.7819     {'select__k': 31}\n",
      "0.7843     {'select__k': 32}\n",
      "0.7844     {'select__k': 33}\n",
      "0.7843     {'select__k': 34}\n",
      "0.7843     {'select__k': 35}\n",
      "0.7838     {'select__k': 36}\n",
      "0.7839     {'select__k': 37}\n",
      "0.7838     {'select__k': 38}\n",
      "0.7838     {'select__k': 39}\n",
      "0.7838     {'select__k': 40}\n",
      "0.7834     {'select__k': 41}\n",
      "0.7839     {'select__k': 42}\n",
      "0.7836     {'select__k': 43}\n",
      "0.7837     {'select__k': 44}\n",
      "0.7837     {'select__k': 45}\n",
      "0.7847     {'select__k': 46}\n",
      "0.7844     {'select__k': 47}\n",
      "0.7844     {'select__k': 48}\n",
      "0.7844     {'select__k': 49}\n",
      "0.7844     {'select__k': 50}\n",
      "0.7846     {'select__k': 51}\n",
      "0.7858     {'select__k': 52}\n",
      "0.7858     {'select__k': 53}\n",
      "0.7856     {'select__k': 54}\n",
      "0.7859     {'select__k': 55}\n",
      "0.7855     {'select__k': 56}\n",
      "0.7855     {'select__k': 57}\n",
      "0.7855     {'select__k': 58}\n",
      "0.7853     {'select__k': 59}\n",
      "0.7852     {'select__k': 60}\n",
      "0.7853     {'select__k': 61}\n",
      "0.7853     {'select__k': 62}\n",
      "0.7852     {'select__k': 63}\n",
      "0.7851     {'select__k': 64}\n",
      "0.7854     {'select__k': 65}\n",
      "0.7852     {'select__k': 66}\n",
      "0.7846     {'select__k': 67}\n",
      "0.7843     {'select__k': 68}\n",
      "0.7844     {'select__k': 69}\n",
      "0.7846     {'select__k': 70}\n",
      "0.786     {'select__k': 71}\n",
      "0.7861     {'select__k': 72}\n",
      "0.7861     {'select__k': 73}\n",
      "0.7871     {'select__k': 74}\n",
      "0.7868     {'select__k': 75}\n",
      "0.7873     {'select__k': 76}\n",
      "0.7872     {'select__k': 77}\n",
      "0.7868     {'select__k': 78}\n",
      "0.7872     {'select__k': 79}\n",
      "0.7874     {'select__k': 80}\n",
      "0.7871     {'select__k': 81}\n",
      "0.7872     {'select__k': 82}\n",
      "0.7874     {'select__k': 83}\n",
      "0.7867     {'select__k': 84}\n",
      "0.7874     {'select__k': 85}\n",
      "0.7873     {'select__k': 86}\n",
      "0.7878     {'select__k': 87}\n",
      "0.7877     {'select__k': 88}\n",
      "0.7879     {'select__k': 89}\n",
      "0.7876     {'select__k': 90}\n",
      "0.7879     {'select__k': 91}\n",
      "0.7877     {'select__k': 92}\n",
      "0.7882     {'select__k': 93}\n",
      "0.7878     {'select__k': 94}\n",
      "0.7881     {'select__k': 95}\n",
      "0.788     {'select__k': 96}\n",
      "0.7881     {'select__k': 97}\n",
      "0.7881     {'select__k': 98}\n",
      "0.7878     {'select__k': 99}\n",
      "0.786     {'select__k': 100}\n",
      "0.7865     {'select__k': 101}\n",
      "0.7866     {'select__k': 102}\n",
      "0.7869     {'select__k': 103}\n",
      "0.787     {'select__k': 104}\n",
      "0.787     {'select__k': 105}\n",
      "0.7871     {'select__k': 106}\n",
      "0.7873     {'select__k': 107}\n",
      "0.7869     {'select__k': 108}\n",
      "0.7877     {'select__k': 109}\n",
      "0.7884     {'select__k': 110}\n",
      "0.7887     {'select__k': 111}\n",
      "0.7894     {'select__k': 112}\n",
      "0.789     {'select__k': 113}\n",
      "0.7889     {'select__k': 114}\n",
      "0.789     {'select__k': 115}\n",
      "0.7892     {'select__k': 116}\n",
      "0.7892     {'select__k': 117}\n",
      "0.7892     {'select__k': 118}\n",
      "0.7887     {'select__k': 119}\n",
      "0.7893     {'select__k': 120}\n",
      "0.7896     {'select__k': 121}\n",
      "0.789     {'select__k': 122}\n",
      "0.789     {'select__k': 123}\n",
      "0.7882     {'select__k': 124}\n",
      "0.7878     {'select__k': 125}\n",
      "0.7877     {'select__k': 126}\n",
      "0.7876     {'select__k': 127}\n",
      "0.7889     {'select__k': 128}\n",
      "0.7889     {'select__k': 129}\n",
      "0.7895     {'select__k': 130}\n",
      "0.7905     {'select__k': 131}\n",
      "0.7911     {'select__k': 132}\n",
      "0.7903     {'select__k': 133}\n",
      "0.7905     {'select__k': 134}\n",
      "0.7906     {'select__k': 135}\n",
      "0.7912     {'select__k': 136}\n",
      "0.7907     {'select__k': 137}\n",
      "0.7912     {'select__k': 138}\n",
      "0.7912     {'select__k': 139}\n",
      "0.7912     {'select__k': 140}\n",
      "0.7912     {'select__k': 141}\n",
      "0.7907     {'select__k': 142}\n",
      "0.7914     {'select__k': 143}\n",
      "0.7924     {'select__k': 144}\n",
      "0.7925     {'select__k': 145}\n",
      "0.7923     {'select__k': 146}\n",
      "0.7924     {'select__k': 147}\n",
      "0.792     {'select__k': 148}\n",
      "0.792     {'select__k': 149}\n",
      "0.7919     {'select__k': 150}\n",
      "0.7923     {'select__k': 151}\n",
      "0.7924     {'select__k': 152}\n",
      "0.7923     {'select__k': 153}\n",
      "0.7928     {'select__k': 154}\n",
      "0.792     {'select__k': 155}\n",
      "0.7913     {'select__k': 156}\n",
      "0.7914     {'select__k': 157}\n",
      "0.7919     {'select__k': 158}\n",
      "0.7912     {'select__k': 159}\n",
      "0.7916     {'select__k': 160}\n",
      "0.7909     {'select__k': 161}\n",
      "0.7907     {'select__k': 162}\n",
      "0.7909     {'select__k': 163}\n",
      "0.7903     {'select__k': 164}\n",
      "0.7901     {'select__k': 165}\n",
      "0.7901     {'select__k': 166}\n",
      "0.7896     {'select__k': 167}\n",
      "0.7908     {'select__k': 168}\n",
      "0.79     {'select__k': 169}\n",
      "0.7902     {'select__k': 170}\n",
      "0.7901     {'select__k': 171}\n",
      "0.7898     {'select__k': 172}\n",
      "0.7902     {'select__k': 173}\n",
      "0.7897     {'select__k': 174}\n",
      "0.7894     {'select__k': 175}\n",
      "0.7893     {'select__k': 176}\n",
      "0.7901     {'select__k': 177}\n",
      "0.7897     {'select__k': 178}\n",
      "0.7893     {'select__k': 179}\n",
      "0.7895     {'select__k': 180}\n",
      "0.7901     {'select__k': 181}\n",
      "0.7903     {'select__k': 182}\n",
      "0.79     {'select__k': 183}\n",
      "0.7894     {'select__k': 184}\n",
      "0.7899     {'select__k': 185}\n",
      "0.7894     {'select__k': 186}\n",
      "0.7899     {'select__k': 187}\n",
      "0.7898     {'select__k': 188}\n",
      "0.7917     {'select__k': 189}\n",
      "0.7915     {'select__k': 190}\n",
      "0.7916     {'select__k': 191}\n",
      "0.7909     {'select__k': 192}\n",
      "0.791     {'select__k': 193}\n",
      "0.7912     {'select__k': 194}\n",
      "0.7909     {'select__k': 195}\n",
      "0.7916     {'select__k': 196}\n",
      "0.7914     {'select__k': 197}\n",
      "0.7909     {'select__k': 198}\n",
      "0.7911     {'select__k': 199}\n"
     ]
    }
   ],
   "source": [
    "cvres = k_best_search.cv_results_\n",
    "for mean_score, params in zip(cvres[\"mean_test_score\"], cvres[\"params\"]):\n",
    "    print(round(mean_score, 4), \"   \", params)"
   ]
  },
  {
   "cell_type": "markdown",
   "id": "0f3042a4",
   "metadata": {},
   "source": [
    "Wnioski: roc_auc maleje nieznacznie i wybierając dużo mniej zmiennych nie stracimy zbytnio na wyniku, a zmniejszymy drastycznie liczbę cech."
   ]
  },
  {
   "cell_type": "code",
   "execution_count": 26,
   "id": "5bd97189",
   "metadata": {},
   "outputs": [
    {
     "name": "stdout",
     "output_type": "stream",
     "text": [
      "|   Predicted 0 |   Predicted 1 |\n",
      "|---------------+---------------|\n",
      "|         15821 |          7739 |\n",
      "|           231 |           709 |\n",
      "\n",
      "accuracy:              0.6747\n",
      "precision:             0.0839\n",
      "recall:                0.7543\n",
      "f1:                    0.151\n",
      "roc_auc_discrete:      0.7129\n",
      "roc_auc_continuous:    0.7852\n",
      "|   Predicted 0 |   Predicted 1 |\n",
      "|---------------+---------------|\n",
      "|          9603 |          4796 |\n",
      "|           162 |           439 |\n",
      "\n",
      "accuracy:              0.6695\n",
      "precision:             0.0839\n",
      "recall:                0.7304\n",
      "f1:                    0.1504\n",
      "roc_auc_discrete:      0.6987\n",
      "roc_auc_continuous:    0.7713\n"
     ]
    }
   ],
   "source": [
    "clf = Pipeline([\n",
    "    ('select', SelectKBest(k=33)),\n",
    "    ('model', LogisticRegression(random_state=42, class_weight='balanced'))])\n",
    "\n",
    "clf.fit(X_train, y_train)\n",
    "show_scores(clf, X_train, y_train)\n",
    "show_scores(clf, x_eval, y_eval)"
   ]
  },
  {
   "cell_type": "markdown",
   "id": "22878599",
   "metadata": {},
   "source": [
    "Obserwujemy nieznaczne pogorszenie wyników (szczególnie nieznaczne jest na zbiorze testowym), jednak zredukowaliśmy liczbę cech do zaledwie 33."
   ]
  },
  {
   "cell_type": "markdown",
   "id": "e0469602",
   "metadata": {},
   "source": [
    "### 3.3.4 Dobór zmiennych na podstawie modelu\n",
    "\n",
    "Dotychczasowe starania miały na celu osiągnięcie jak najlepszych rezultatów dla modelu. Teraz przeprowadzimy dobór cech na podstawie modelu ze znalezionymi najlepszymi parametrami. Zastosujemy metody L1-based feature selection, Sequential Feature Selection i RFE"
   ]
  },
  {
   "cell_type": "markdown",
   "id": "1dfd6027",
   "metadata": {},
   "source": [
    "### SelectFromModel - L1-based feature selection"
   ]
  },
  {
   "cell_type": "code",
   "execution_count": 27,
   "id": "ef551536",
   "metadata": {},
   "outputs": [
    {
     "name": "stdout",
     "output_type": "stream",
     "text": [
      "|   Predicted 0 |   Predicted 1 |\n",
      "|---------------+---------------|\n",
      "|         16357 |          7203 |\n",
      "|           213 |           727 |\n",
      "\n",
      "accuracy:              0.6973\n",
      "precision:             0.0917\n",
      "recall:                0.7734\n",
      "f1:                    0.1639\n",
      "roc_auc_discrete:      0.7338\n",
      "roc_auc_continuous:    0.8121\n",
      "|   Predicted 0 |   Predicted 1 |\n",
      "|---------------+---------------|\n",
      "|          9918 |          4481 |\n",
      "|           169 |           432 |\n",
      "\n",
      "accuracy:              0.69\n",
      "precision:             0.0879\n",
      "recall:                0.7188\n",
      "f1:                    0.1567\n",
      "roc_auc_discrete:      0.7038\n",
      "roc_auc_continuous:    0.7893\n"
     ]
    }
   ],
   "source": [
    "clf = LogisticRegression(**reg_search.best_params_, random_state=42, solver='liblinear', class_weight='balanced')\n",
    "clf.fit(X_train, y_train)\n",
    "\n",
    "show_scores(clf, X_train, y_train)\n",
    "show_scores(clf, x_eval, y_eval)"
   ]
  },
  {
   "cell_type": "code",
   "execution_count": 28,
   "id": "d38d3446",
   "metadata": {},
   "outputs": [
    {
     "data": {
      "text/plain": [
       "406"
      ]
     },
     "execution_count": 28,
     "metadata": {},
     "output_type": "execute_result"
    }
   ],
   "source": [
    "X_train.shape[1]"
   ]
  },
  {
   "cell_type": "code",
   "execution_count": 29,
   "id": "9ccf062c",
   "metadata": {},
   "outputs": [
    {
     "data": {
      "text/plain": [
       "114"
      ]
     },
     "execution_count": 29,
     "metadata": {},
     "output_type": "execute_result"
    }
   ],
   "source": [
    "sfl = SelectFromModel(clf, prefit=True)\n",
    "X_train_t = sfl.transform(X_train)\n",
    "X_eval_t = sfl.transform(x_eval)\n",
    "X_train_t.shape[1]"
   ]
  },
  {
   "cell_type": "code",
   "execution_count": 31,
   "id": "141852ac",
   "metadata": {},
   "outputs": [
    {
     "name": "stdout",
     "output_type": "stream",
     "text": [
      "|   Predicted 0 |   Predicted 1 |\n",
      "|---------------+---------------|\n",
      "|         16357 |          7203 |\n",
      "|           213 |           727 |\n",
      "\n",
      "accuracy:              0.6973\n",
      "precision:             0.0917\n",
      "recall:                0.7734\n",
      "f1:                    0.1639\n",
      "roc_auc_discrete:      0.7338\n",
      "roc_auc_continuous:    0.8121\n",
      "|   Predicted 0 |   Predicted 1 |\n",
      "|---------------+---------------|\n",
      "|          9918 |          4481 |\n",
      "|           169 |           432 |\n",
      "\n",
      "accuracy:              0.69\n",
      "precision:             0.0879\n",
      "recall:                0.7188\n",
      "f1:                    0.1567\n",
      "roc_auc_discrete:      0.7038\n",
      "roc_auc_continuous:    0.7893\n"
     ]
    }
   ],
   "source": [
    "clf.fit(X_train_t, y_train)\n",
    "\n",
    "show_scores(clf, X_train_t, y_train)\n",
    "show_scores(clf, X_eval_t, y_eval)"
   ]
  },
  {
   "cell_type": "markdown",
   "id": "0984cefa",
   "metadata": {},
   "source": [
    "Nie obserwujemy żadnego spadku w wynikach - zreudkowaliśmy natomiast liczbę cech do 114."
   ]
  },
  {
   "cell_type": "markdown",
   "id": "70eed47d",
   "metadata": {},
   "source": [
    "### Sequential Feature Selection"
   ]
  },
  {
   "cell_type": "code",
   "execution_count": 32,
   "id": "97d9eb21",
   "metadata": {},
   "outputs": [
    {
     "name": "stdout",
     "output_type": "stream",
     "text": [
      "|   Predicted 0 |   Predicted 1 |\n",
      "|---------------+---------------|\n",
      "|         16089 |          7471 |\n",
      "|           221 |           719 |\n",
      "\n",
      "accuracy:              0.686\n",
      "precision:             0.0878\n",
      "recall:                0.7649\n",
      "f1:                    0.1575\n",
      "roc_auc_discrete:      0.7239\n",
      "roc_auc_continuous:    0.809\n"
     ]
    }
   ],
   "source": [
    "sfs = SequentialFeatureSelector(\n",
    "    LogisticRegression(random_state=42, class_weight='balanced'),\n",
    "    direction='forward',\n",
    "    scoring='roc_auc',\n",
    "    n_features_to_select=40,\n",
    "    cv=3,\n",
    "    n_jobs=-1)\n",
    "\n",
    "pipe = Pipeline([\n",
    "    ('selector', sfs),\n",
    "    ('model', LogisticRegression(random_state=42, class_weight='balanced'))]).fit(X_train, y_train)\n",
    "\n",
    "show_scores(pipe, X_train, y_train)"
   ]
  },
  {
   "cell_type": "code",
   "execution_count": 33,
   "id": "1ae61272",
   "metadata": {},
   "outputs": [
    {
     "name": "stdout",
     "output_type": "stream",
     "text": [
      "|   Predicted 0 |   Predicted 1 |\n",
      "|---------------+---------------|\n",
      "|          9765 |          4634 |\n",
      "|           168 |           433 |\n",
      "\n",
      "accuracy:              0.6799\n",
      "precision:             0.0855\n",
      "recall:                0.7205\n",
      "f1:                    0.1528\n",
      "roc_auc_discrete:      0.6993\n",
      "roc_auc_continuous:    0.7931\n"
     ]
    }
   ],
   "source": [
    "show_scores(pipe, x_eval, y_eval)"
   ]
  },
  {
   "cell_type": "markdown",
   "id": "71e8d7ac",
   "metadata": {},
   "source": [
    "Po kilku próbach otrzymaliśmy niepogorszone wyniki dla zalwdwie 40 zmiennych na podstawie selekcji SequentialFeaturSelector. Nie szukamy w tym przypadku parametru n_features_to_select za pomocą grid search, ponieważ zajęło by nam to z pół roku, a zajęliśmy się empiryczym sprawdzeniem najlepszej wartości.\n"
   ]
  },
  {
   "cell_type": "markdown",
   "id": "cdece25b",
   "metadata": {},
   "source": [
    "### Recursive Feature Elimination"
   ]
  },
  {
   "cell_type": "markdown",
   "id": "6bd595b3",
   "metadata": {},
   "source": [
    "Dla najlepszego modelu regresji logistycznej sprawdźmy które cechy niosą za sobą najwięcej informacji"
   ]
  },
  {
   "cell_type": "code",
   "execution_count": 36,
   "id": "2e973892",
   "metadata": {},
   "outputs": [
    {
     "data": {
      "text/plain": [
       "\"k_val = [k for k in range (2,100,2)]\\nscore = []\\nfor k in k_val:\\n    print(k)\\n    log_reg = LogisticRegression(random_state=42, class_weight='balanced', solver='liblinear')\\n    rfe = RFE(log_reg,n_features_to_select = k)\\n    rfe.fit(X_train, y_train)\\n    X_train_rfe = rfe.transform(X_train)\\n    X_eval_rfe = rfe.transform(x_eval)\\n    log_reg.fit(X_train_rfe, y_train)\\n\\n    y_pred_prob = log_reg.predict_proba(pd.DataFrame(X_eval_rfe))\\n\\n    score_roc = roc_auc_score(y_eval, y_pred_prob[:, 1])\\n    score.append(score_roc)\\n    print(score_roc, k)\""
      ]
     },
     "execution_count": 36,
     "metadata": {},
     "output_type": "execute_result"
    }
   ],
   "source": [
    "#3 wyniki w 81 minut to trochę za długo :(\n",
    "'''k_val = [k for k in range (2,100,2)]\n",
    "score = []\n",
    "for k in k_val:\n",
    "    print(k)\n",
    "    log_reg = LogisticRegression(random_state=42, class_weight='balanced', solver='liblinear')\n",
    "    rfe = RFE(log_reg,n_features_to_select = k)\n",
    "    rfe.fit(X_train, y_train)\n",
    "    X_train_rfe = rfe.transform(X_train)\n",
    "    X_eval_rfe = rfe.transform(x_eval)\n",
    "    log_reg.fit(X_train_rfe, y_train)\n",
    "\n",
    "    y_pred_prob = log_reg.predict_proba(pd.DataFrame(X_eval_rfe))\n",
    "\n",
    "    score_roc = roc_auc_score(y_eval, y_pred_prob[:, 1])\n",
    "    score.append(score_roc)\n",
    "    print(score_roc, k)'''"
   ]
  },
  {
   "cell_type": "code",
   "execution_count": 37,
   "id": "a360328d",
   "metadata": {},
   "outputs": [
    {
     "data": {
      "text/plain": [
       "'plt.stem(score)\\nplt.xticks(k_val, score)\\nplt.xlim([-1, 50])\\nplt.xlabel(\"K Values\")\\nplt.ylabel(\"roc_auc Score\")'"
      ]
     },
     "execution_count": 37,
     "metadata": {},
     "output_type": "execute_result"
    }
   ],
   "source": [
    "'''plt.stem(score)\n",
    "plt.xticks(k_val, score)\n",
    "plt.xlim([-1, 50])\n",
    "plt.xlabel(\"K Values\")\n",
    "plt.ylabel(\"roc_auc Score\")'''"
   ]
  },
  {
   "cell_type": "markdown",
   "id": "cfd697f9",
   "metadata": {},
   "source": [
    "![fre_logreg.png](./Img/rfe_logreg.png)\n",
    "\n",
    "Z powyższego wykresu możemy wyczytać, że najlepiej będzie użyć rfe dla 72 cech.\n",
    "W związku z tym spróbujmy użyć PCA na wybranych kolumnach.\n",
    "\n",
    "(uwaga: ten i pozostałe wykresy zawarte w tym notatniku zostały przeklejone z innych naszych notatników ze względu na długi czas liczenia kodu rfe)"
   ]
  },
  {
   "cell_type": "markdown",
   "id": "3107e68e",
   "metadata": {},
   "source": [
    "### Principal Component Analysis"
   ]
  },
  {
   "cell_type": "code",
   "execution_count": 38,
   "id": "55288020",
   "metadata": {},
   "outputs": [],
   "source": [
    "rfe = RFE(LogisticRegression(random_state=42, class_weight='balanced', solver='liblinear'),n_features_to_select = 72).fit(X_train, y_train)\n",
    "X_train_rfe = rfe.transform(X_train)\n",
    "X_eval_rfe = rfe.transform(x_eval)\n",
    "\n",
    "k_values = [i for i in range (2,72)]\n",
    "scores = []\n",
    "\n",
    "for k in k_values:\n",
    "\n",
    "    log_reg = LogisticRegression(random_state=42, class_weight='balanced', solver='liblinear')\n",
    "    pca = PCA(n_components=k)\n",
    "\n",
    "    X_red_train = pca.fit_transform(X_train_rfe)\n",
    "    X_red_eval = pca.fit_transform(X_eval_rfe)\n",
    "\n",
    "    log_reg.fit(X_red_train, y_train)\n",
    "    y_pred_prob = log_reg.predict_proba(pd.DataFrame(X_red_eval))\n",
    "\n",
    "    score_roc = roc_auc_score(y_eval, y_pred_prob[:, 1])\n",
    "    scores.append(score_roc)\n"
   ]
  },
  {
   "cell_type": "code",
   "execution_count": null,
   "id": "17cd6da7",
   "metadata": {},
   "outputs": [],
   "source": [
    "plt.stem(scores)\n",
    "plt.xticks(k_values, scores)\n",
    "plt.xlim([-1, 72])\n",
    "plt.xlabel(\"K Values\")\n",
    "plt.ylabel(\"roc_auc Score\")\n",
    "plt.title(\"PCA for linear regression\")"
   ]
  },
  {
   "cell_type": "markdown",
   "id": "e882c344",
   "metadata": {},
   "source": [
    "![linear_reg.png](./Img/linear_reg.png)"
   ]
  },
  {
   "cell_type": "markdown",
   "id": "fa3321c5",
   "metadata": {},
   "source": [
    "Widzimy więc, że dla tego modelu najlepiej będzie wybrać wartość n_components = 3"
   ]
  },
  {
   "cell_type": "markdown",
   "id": "e8d7adbd",
   "metadata": {},
   "source": [
    "### 3.4 Podsumowanie\n",
    "\n",
    "Model regresji logistycznej działa przyzwoicie jak na warunki otrzymanego zbioru danych. Istotne wydaje się użycie parametry class_weight = 'balanced'. Przeprowadziliśmy przeszukanie siatki parametrów autorskiego ColumnRemover'a, a następnie przeszukiwanie siatki parametru C i kar w celu dobrania najlepszych parametrów regularyzacji.\n",
    "\n",
    "Następnie przeszliśmy do selekcji cech różnymi metodami. W wielu przypadkach zaobserwowaliśmy znaczny spadek liczby kolumn przy jednoczesnym braku znaczącego pogorszenia rezultatów (nie zaobserwowaliśmy znaczącego wzrostu rezultatów przy jakiejkolwiek redukcji cech). Metody jakie wybraliśmy i ostateczna liczba zmiennych prezentują się następujaco:\n",
    "\n",
    "- SelectKBest - 33\n",
    "- L1-based feature selection - 114\n",
    "- Sequential feature selection - 40\n",
    "- Recursive feature elimination - 72\n",
    "- RFE + PCA - 3"
   ]
  },
  {
   "cell_type": "markdown",
   "id": "df1007a8",
   "metadata": {},
   "source": [
    "# 4. Drzewa decyzyjne"
   ]
  },
  {
   "cell_type": "markdown",
   "id": "8f296b3f",
   "metadata": {},
   "source": [
    "## 4.1 Preprocessing"
   ]
  },
  {
   "cell_type": "code",
   "execution_count": null,
   "id": "d8281ec9",
   "metadata": {},
   "outputs": [],
   "source": [
    "# zarówno dla zmiennych dyskretnych i ciągłych stosujemy nasz transformator ColumnRemover z różnymi parametrami - w kolejnych krokach będziemy szukać najlepszej ich kombinacji\n",
    "\n",
    "# dokonujemy kodowania one hot encoding zmiennych dyskretnych - traktujemy je jako kategoryczne\n",
    "int_transformer = Pipeline([\n",
    "    ('int', ColumnRemover(0.9995, 0.99, 1)),\n",
    "    ('one_hot', OneHotEncoder(handle_unknown='ignore', sparse_output=False, dtype='int64'))])\n",
    "\n",
    "# jesteśmy przy drzewach decyzyjnych, więc nie musimy skalować cech\n",
    "float_transformer = Pipeline([\n",
    "    ('float', ColumnRemover(0.9999, 0.99, 10))])\n",
    "\n",
    "col_transformer = ColumnTransformer([\n",
    "    ('int_pipe', int_transformer, make_column_selector(dtype_include=np.int64)),\n",
    "    ('float_pipe', float_transformer, make_column_selector(dtype_include=np.float64))\n",
    "])"
   ]
  },
  {
   "cell_type": "markdown",
   "id": "bf2c0503",
   "metadata": {},
   "source": [
    "## 4.2 Trening pierwszego modelu"
   ]
  },
  {
   "cell_type": "code",
   "execution_count": null,
   "id": "901fb3d7",
   "metadata": {},
   "outputs": [],
   "source": [
    "X_train = train_df.drop('target', axis=1)\n",
    "y_train = train_df.target\n",
    "x_eval = eval_set.drop('target', axis=1)\n",
    "y_eval = eval_set.target"
   ]
  },
  {
   "cell_type": "code",
   "execution_count": null,
   "id": "12ad30d3",
   "metadata": {},
   "outputs": [
    {
     "name": "stdout",
     "output_type": "stream",
     "text": [
      "|   Predicted 0 |   Predicted 1 |\n",
      "|---------------+---------------|\n",
      "|         23560 |             0 |\n",
      "|             3 |           937 |\n",
      "\n",
      "accuracy:              0.9999\n",
      "precision:             1.0\n",
      "recall:                0.9968\n",
      "f1:                    0.9984\n",
      "roc_auc_discrete:      0.9984\n",
      "roc_auc_continuous:    1.0\n"
     ]
    }
   ],
   "source": [
    "clf = Pipeline([\n",
    "    ('preprocessing', col_transformer),\n",
    "    ('model', DecisionTreeClassifier(random_state=42))])\n",
    "\n",
    "clf.fit(X_train, y_train)\n",
    "show_scores(clf, X_train, y_train)"
   ]
  },
  {
   "cell_type": "code",
   "execution_count": null,
   "id": "902dcaf4",
   "metadata": {},
   "outputs": [
    {
     "name": "stdout",
     "output_type": "stream",
     "text": [
      "|   Predicted 0 |   Predicted 1 |\n",
      "|---------------+---------------|\n",
      "|          9654 |           396 |\n",
      "|           384 |            66 |\n",
      "\n",
      "accuracy:              0.9257\n",
      "precision:             0.1429\n",
      "recall:                0.1467\n",
      "f1:                    0.1447\n",
      "roc_auc_discrete:      0.5536\n",
      "roc_auc_continuous:    0.5536\n"
     ]
    }
   ],
   "source": [
    "show_scores(clf, x_eval, y_eval)"
   ]
  },
  {
   "cell_type": "markdown",
   "id": "18d5a01e",
   "metadata": {},
   "source": [
    "Model jest zdecydowanie przeuczony. Spróbujmy z parametrem class_weight='balanced'."
   ]
  },
  {
   "cell_type": "code",
   "execution_count": null,
   "id": "0d544b08",
   "metadata": {},
   "outputs": [
    {
     "name": "stdout",
     "output_type": "stream",
     "text": [
      "|   Predicted 0 |   Predicted 1 |\n",
      "|---------------+---------------|\n",
      "|         23557 |             3 |\n",
      "|             0 |           940 |\n",
      "\n",
      "accuracy:              0.9999\n",
      "precision:             0.9968\n",
      "recall:                1.0\n",
      "f1:                    0.9984\n",
      "roc_auc_discrete:      0.9999\n",
      "roc_auc_continuous:    1.0\n"
     ]
    }
   ],
   "source": [
    "clf = Pipeline([\n",
    "    ('preprocessing', col_transformer),\n",
    "    ('model', DecisionTreeClassifier(random_state=42, class_weight='balanced'))])\n",
    "\n",
    "clf.fit(X_train, y_train)\n",
    "show_scores(clf, X_train, y_train)"
   ]
  },
  {
   "cell_type": "code",
   "execution_count": null,
   "id": "e5977723",
   "metadata": {},
   "outputs": [
    {
     "name": "stdout",
     "output_type": "stream",
     "text": [
      "|   Predicted 0 |   Predicted 1 |\n",
      "|---------------+---------------|\n",
      "|          9705 |           345 |\n",
      "|           399 |            51 |\n",
      "\n",
      "accuracy:              0.9291\n",
      "precision:             0.1288\n",
      "recall:                0.1133\n",
      "f1:                    0.1206\n",
      "roc_auc_discrete:      0.5395\n",
      "roc_auc_continuous:    0.5395\n"
     ]
    }
   ],
   "source": [
    "show_scores(clf, x_eval, y_eval)"
   ]
  },
  {
   "cell_type": "markdown",
   "id": "c47df57e",
   "metadata": {},
   "source": [
    "Za dużo to nie dało, musimy skupić się na regularyzacji modelu drzewa decyzyjnego."
   ]
  },
  {
   "cell_type": "markdown",
   "id": "1d83c761",
   "metadata": {},
   "source": [
    "## 4.3 Strojenie hiperparametrów i wybór zmiennych"
   ]
  },
  {
   "cell_type": "markdown",
   "id": "5b3b1cb1",
   "metadata": {},
   "source": [
    "### 4.3.1 Dobór parametrów dla ColumnRemover'a\n"
   ]
  },
  {
   "cell_type": "code",
   "execution_count": null,
   "id": "bb23b300",
   "metadata": {},
   "outputs": [],
   "source": [
    "'''clf = Pipeline([\n",
    "    ('preprocessing', col_transformer),\n",
    "    ('model', DecisionTreeClassifier(random_state=42))])\n",
    "\n",
    "parameters = dict(preprocessing__int_pipe__int__threshold_constant = np.arange(0.9995, 1, 0.0001),\n",
    "                  preprocessing__int_pipe__int__threshold_corr = np.arange(0.96, 1, 0.01),\n",
    "                  preprocessing__int_pipe__int__n_info_vals = np.arange(0, 5, 1),\n",
    "                  preprocessing__float_pipe__float__threshold_constant = np.arange(0.9995, 1, 0.0001),\n",
    "                  preprocessing__float_pipe__float__threshold_corr = np.arange(0.96, 1, 0.01),\n",
    "                  preprocessing__float_pipe__float__n_info_vals = np.arange(0, 16, 3))\n",
    "\n",
    "# siatka parametrów\n",
    "col_remove_search = RandomizedSearchCV(clf, scoring='roc_auc', param_distributions=parameters, cv=3, n_iter=1000, n_jobs=-1, random_state=42).fit(X_train, y_train)'''"
   ]
  },
  {
   "cell_type": "code",
   "execution_count": null,
   "id": "9149f4fb",
   "metadata": {},
   "outputs": [
    {
     "name": "stdout",
     "output_type": "stream",
     "text": [
      "0.5594 {'preprocessing__int_pipe__int__threshold_corr': 0.99, 'preprocessing__int_pipe__int__threshold_constant': 0.9998, 'preprocessing__int_pipe__int__n_info_vals': 2, 'preprocessing__float_pipe__float__threshold_corr': 0.96, 'preprocessing__float_pipe__float__threshold_constant': 0.9998, 'preprocessing__float_pipe__float__n_info_vals': 15}\n"
     ]
    }
   ],
   "source": [
    "#print(round(col_remove_search.best_score_, 4), col_remove_search.best_params_)"
   ]
  },
  {
   "cell_type": "code",
   "execution_count": null,
   "id": "77da81e1",
   "metadata": {},
   "outputs": [
    {
     "name": "stdout",
     "output_type": "stream",
     "text": [
      "|   Predicted 0 |   Predicted 1 |\n",
      "|---------------+---------------|\n",
      "|         23560 |             0 |\n",
      "|             3 |           937 |\n",
      "\n",
      "accuracy:              0.9999\n",
      "precision:             1.0\n",
      "recall:                0.9968\n",
      "f1:                    0.9984\n",
      "roc_auc_discrete:      0.9984\n",
      "roc_auc_continuous:    1.0\n",
      "|   Predicted 0 |   Predicted 1 |\n",
      "|---------------+---------------|\n",
      "|          9653 |           397 |\n",
      "|           379 |            71 |\n",
      "\n",
      "accuracy:              0.9261\n",
      "precision:             0.1517\n",
      "recall:                0.1578\n",
      "f1:                    0.1547\n",
      "roc_auc_discrete:      0.5591\n",
      "roc_auc_continuous:    0.5591\n"
     ]
    }
   ],
   "source": [
    "#show_scores(col_remove_search.best_estimator_, X_train, y_train)\n",
    "#show_scores(col_remove_search.best_estimator_, x_eval, y_eval)"
   ]
  },
  {
   "cell_type": "markdown",
   "id": "8891fa65",
   "metadata": {},
   "source": [
    "### 4.3.2 Regularyzacja modelu\n",
    "\n",
    "Zajmiemy się regularyzacją modelu drzewa decyzyjnego - będziemy sprawdzać parametry max_depth, min_samples_split, min_samples_leaf, max_features. Na początek jednak skupimy się tylko na max_depth - być może z jego powodu drzewo jest tak mocno przeuczone. Zastosujemy również najlepsze parametry ColumnRemovera znalezione w poprzednim podpunkcie\n"
   ]
  },
  {
   "cell_type": "code",
   "execution_count": null,
   "id": "625a9f39",
   "metadata": {},
   "outputs": [],
   "source": [
    "'''int_transformer = Pipeline([\n",
    "    ('int', ColumnRemover(0.9998, 0.99, 2)),\n",
    "    ('one_hot', OneHotEncoder(handle_unknown='ignore', sparse_output=False, dtype='int64'))])\n",
    "\n",
    "float_transformer = Pipeline([\n",
    "    ('float', ColumnRemover(0.9998, 0.96, 15))])\n",
    "\n",
    "col_transformer = ColumnTransformer([\n",
    "    ('int_pipe', int_transformer, make_column_selector(dtype_include=np.int64)),\n",
    "    ('float_pipe', float_transformer, make_column_selector(dtype_include=np.float64))\n",
    "])\n",
    "\n",
    "# od tej pory dane testowe i treningowe będą już wstępnie przeprocesowane\n",
    "X_train = col_transformer.fit_transform(train_df.drop('target', axis=1), train_df.target)\n",
    "y_train = train_df.target\n",
    "x_eval = col_transformer.transform(eval_set.drop('target', axis=1))\n",
    "y_eval = eval_set.target'''"
   ]
  },
  {
   "cell_type": "code",
   "execution_count": null,
   "id": "05b0b7a9",
   "metadata": {},
   "outputs": [],
   "source": [
    "clf = DecisionTreeClassifier(random_state=42)\n",
    "\n",
    "parameters = dict(max_depth=np.arange(1, 100))\n",
    "depth_search = GridSearchCV(clf, cv=3, scoring='roc_auc', return_train_score=True, param_grid=parameters, n_jobs=-1).fit(X_train, y_train)"
   ]
  },
  {
   "cell_type": "code",
   "execution_count": null,
   "id": "d392324c",
   "metadata": {},
   "outputs": [
    {
     "name": "stdout",
     "output_type": "stream",
     "text": [
      "0.8008 {'max_depth': 4}\n"
     ]
    }
   ],
   "source": [
    "print(round(depth_search.best_score_, 4), depth_search.best_params_)"
   ]
  },
  {
   "cell_type": "code",
   "execution_count": null,
   "id": "32fc1a3f",
   "metadata": {},
   "outputs": [
    {
     "name": "stdout",
     "output_type": "stream",
     "text": [
      "0.6825     {'max_depth': 1}\n",
      "0.7438     {'max_depth': 2}\n",
      "0.7854     {'max_depth': 3}\n",
      "0.8008     {'max_depth': 4}\n",
      "0.8004     {'max_depth': 5}\n",
      "0.7919     {'max_depth': 6}\n",
      "0.784     {'max_depth': 7}\n",
      "0.7719     {'max_depth': 8}\n",
      "0.7647     {'max_depth': 9}\n",
      "0.7471     {'max_depth': 10}\n",
      "0.7353     {'max_depth': 11}\n",
      "0.7092     {'max_depth': 12}\n",
      "0.7082     {'max_depth': 13}\n",
      "0.6954     {'max_depth': 14}\n",
      "0.669     {'max_depth': 15}\n",
      "0.6699     {'max_depth': 16}\n",
      "0.6698     {'max_depth': 17}\n",
      "0.6551     {'max_depth': 18}\n",
      "0.6485     {'max_depth': 19}\n",
      "0.6425     {'max_depth': 20}\n",
      "0.6273     {'max_depth': 21}\n",
      "0.6207     {'max_depth': 22}\n",
      "0.6081     {'max_depth': 23}\n",
      "0.5975     {'max_depth': 24}\n",
      "0.5985     {'max_depth': 25}\n",
      "0.5914     {'max_depth': 26}\n",
      "0.581     {'max_depth': 27}\n",
      "0.5752     {'max_depth': 28}\n",
      "0.5757     {'max_depth': 29}\n",
      "0.5654     {'max_depth': 30}\n",
      "0.5616     {'max_depth': 31}\n",
      "0.5602     {'max_depth': 32}\n",
      "0.5574     {'max_depth': 33}\n",
      "0.5581     {'max_depth': 34}\n",
      "0.5567     {'max_depth': 35}\n",
      "0.5569     {'max_depth': 36}\n",
      "0.5569     {'max_depth': 37}\n",
      "0.557     {'max_depth': 38}\n",
      "0.555     {'max_depth': 39}\n",
      "0.5531     {'max_depth': 40}\n",
      "0.5531     {'max_depth': 41}\n",
      "0.5531     {'max_depth': 42}\n",
      "0.5531     {'max_depth': 43}\n",
      "0.5531     {'max_depth': 44}\n",
      "0.5531     {'max_depth': 45}\n",
      "0.5531     {'max_depth': 46}\n",
      "0.5531     {'max_depth': 47}\n",
      "0.5531     {'max_depth': 48}\n",
      "0.5531     {'max_depth': 49}\n",
      "0.5531     {'max_depth': 50}\n",
      "0.5531     {'max_depth': 51}\n",
      "0.5531     {'max_depth': 52}\n",
      "0.5531     {'max_depth': 53}\n",
      "0.5531     {'max_depth': 54}\n",
      "0.5531     {'max_depth': 55}\n",
      "0.5531     {'max_depth': 56}\n",
      "0.5531     {'max_depth': 57}\n",
      "0.5531     {'max_depth': 58}\n",
      "0.5531     {'max_depth': 59}\n",
      "0.5531     {'max_depth': 60}\n",
      "0.5531     {'max_depth': 61}\n",
      "0.5531     {'max_depth': 62}\n",
      "0.5531     {'max_depth': 63}\n",
      "0.5531     {'max_depth': 64}\n",
      "0.5531     {'max_depth': 65}\n",
      "0.5531     {'max_depth': 66}\n",
      "0.5531     {'max_depth': 67}\n",
      "0.5531     {'max_depth': 68}\n",
      "0.5531     {'max_depth': 69}\n",
      "0.5531     {'max_depth': 70}\n",
      "0.5531     {'max_depth': 71}\n",
      "0.5531     {'max_depth': 72}\n",
      "0.5531     {'max_depth': 73}\n",
      "0.5531     {'max_depth': 74}\n",
      "0.5531     {'max_depth': 75}\n",
      "0.5531     {'max_depth': 76}\n",
      "0.5531     {'max_depth': 77}\n",
      "0.5531     {'max_depth': 78}\n",
      "0.5531     {'max_depth': 79}\n",
      "0.5531     {'max_depth': 80}\n",
      "0.5531     {'max_depth': 81}\n",
      "0.5531     {'max_depth': 82}\n",
      "0.5531     {'max_depth': 83}\n",
      "0.5531     {'max_depth': 84}\n",
      "0.5531     {'max_depth': 85}\n",
      "0.5531     {'max_depth': 86}\n",
      "0.5531     {'max_depth': 87}\n",
      "0.5531     {'max_depth': 88}\n",
      "0.5531     {'max_depth': 89}\n",
      "0.5531     {'max_depth': 90}\n",
      "0.5531     {'max_depth': 91}\n",
      "0.5531     {'max_depth': 92}\n",
      "0.5531     {'max_depth': 93}\n",
      "0.5531     {'max_depth': 94}\n",
      "0.5531     {'max_depth': 95}\n",
      "0.5531     {'max_depth': 96}\n",
      "0.5531     {'max_depth': 97}\n",
      "0.5531     {'max_depth': 98}\n",
      "0.5531     {'max_depth': 99}\n"
     ]
    }
   ],
   "source": [
    "cvres = depth_search.cv_results_\n",
    "for mean_score, params in zip(cvres[\"mean_test_score\"], cvres[\"params\"]):\n",
    "    print(round(mean_score, 4), \"   \", params)"
   ]
  },
  {
   "cell_type": "code",
   "execution_count": null,
   "id": "fcc632cd",
   "metadata": {},
   "outputs": [
    {
     "name": "stdout",
     "output_type": "stream",
     "text": [
      "|   Predicted 0 |   Predicted 1 |\n",
      "|---------------+---------------|\n",
      "|         23557 |             3 |\n",
      "|           925 |            15 |\n",
      "\n",
      "accuracy:              0.9621\n",
      "precision:             0.8333\n",
      "recall:                0.016\n",
      "f1:                    0.0313\n",
      "roc_auc_discrete:      0.5079\n",
      "roc_auc_continuous:    0.8135\n",
      "|   Predicted 0 |   Predicted 1 |\n",
      "|---------------+---------------|\n",
      "|         10040 |            10 |\n",
      "|           450 |             0 |\n",
      "\n",
      "accuracy:              0.9562\n",
      "precision:             0.0\n",
      "recall:                0.0\n",
      "f1:                    0.0\n",
      "roc_auc_discrete:      0.4995\n",
      "roc_auc_continuous:    0.7994\n"
     ]
    }
   ],
   "source": [
    "show_scores(depth_search.best_estimator_, X_train, y_train)\n",
    "show_scores(depth_search.best_estimator_, x_eval, y_eval)"
   ]
  },
  {
   "cell_type": "markdown",
   "id": "c71b44dc",
   "metadata": {},
   "source": [
    "Dość podejrzane te wyniki. Spróbujmy znaleźć parametry z metryką f1"
   ]
  },
  {
   "cell_type": "code",
   "execution_count": null,
   "id": "c29d03e0",
   "metadata": {},
   "outputs": [],
   "source": [
    "clf = DecisionTreeClassifier(random_state=42)\n",
    "\n",
    "parameters = dict(max_depth=np.arange(1, 100))\n",
    "depth_search = GridSearchCV(clf, cv=3, scoring='f1', return_train_score=True, param_grid=parameters, n_jobs=-1).fit(X_train, y_train)"
   ]
  },
  {
   "cell_type": "code",
   "execution_count": null,
   "id": "2937150e",
   "metadata": {},
   "outputs": [
    {
     "name": "stdout",
     "output_type": "stream",
     "text": [
      "0.1421 {'max_depth': 29}\n"
     ]
    }
   ],
   "source": [
    "print(round(depth_search.best_score_, 4), depth_search.best_params_)"
   ]
  },
  {
   "cell_type": "code",
   "execution_count": null,
   "id": "6cb91fa9",
   "metadata": {},
   "outputs": [
    {
     "name": "stdout",
     "output_type": "stream",
     "text": [
      "0.0     {'max_depth': 1}\n",
      "0.0     {'max_depth': 2}\n",
      "0.0042     {'max_depth': 3}\n",
      "0.0082     {'max_depth': 4}\n",
      "0.0162     {'max_depth': 5}\n",
      "0.0219     {'max_depth': 6}\n",
      "0.0288     {'max_depth': 7}\n",
      "0.0409     {'max_depth': 8}\n",
      "0.047     {'max_depth': 9}\n",
      "0.049     {'max_depth': 10}\n",
      "0.0675     {'max_depth': 11}\n",
      "0.076     {'max_depth': 12}\n",
      "0.0827     {'max_depth': 13}\n",
      "0.0854     {'max_depth': 14}\n",
      "0.089     {'max_depth': 15}\n",
      "0.0801     {'max_depth': 16}\n",
      "0.086     {'max_depth': 17}\n",
      "0.0932     {'max_depth': 18}\n",
      "0.106     {'max_depth': 19}\n",
      "0.1114     {'max_depth': 20}\n",
      "0.1125     {'max_depth': 21}\n",
      "0.122     {'max_depth': 22}\n",
      "0.1213     {'max_depth': 23}\n",
      "0.112     {'max_depth': 24}\n",
      "0.1327     {'max_depth': 25}\n",
      "0.1356     {'max_depth': 26}\n",
      "0.129     {'max_depth': 27}\n",
      "0.1317     {'max_depth': 28}\n",
      "0.1421     {'max_depth': 29}\n",
      "0.1343     {'max_depth': 30}\n",
      "0.1357     {'max_depth': 31}\n",
      "0.1409     {'max_depth': 32}\n",
      "0.1354     {'max_depth': 33}\n",
      "0.1382     {'max_depth': 34}\n",
      "0.1385     {'max_depth': 35}\n",
      "0.1383     {'max_depth': 36}\n",
      "0.1379     {'max_depth': 37}\n",
      "0.1396     {'max_depth': 38}\n",
      "0.1379     {'max_depth': 39}\n",
      "0.1357     {'max_depth': 40}\n",
      "0.1357     {'max_depth': 41}\n",
      "0.1357     {'max_depth': 42}\n",
      "0.1357     {'max_depth': 43}\n",
      "0.1357     {'max_depth': 44}\n",
      "0.1357     {'max_depth': 45}\n",
      "0.1357     {'max_depth': 46}\n",
      "0.1357     {'max_depth': 47}\n",
      "0.1357     {'max_depth': 48}\n",
      "0.1357     {'max_depth': 49}\n",
      "0.1357     {'max_depth': 50}\n",
      "0.1357     {'max_depth': 51}\n",
      "0.1357     {'max_depth': 52}\n",
      "0.1357     {'max_depth': 53}\n",
      "0.1357     {'max_depth': 54}\n",
      "0.1357     {'max_depth': 55}\n",
      "0.1357     {'max_depth': 56}\n",
      "0.1357     {'max_depth': 57}\n",
      "0.1357     {'max_depth': 58}\n",
      "0.1357     {'max_depth': 59}\n",
      "0.1357     {'max_depth': 60}\n",
      "0.1357     {'max_depth': 61}\n",
      "0.1357     {'max_depth': 62}\n",
      "0.1357     {'max_depth': 63}\n",
      "0.1357     {'max_depth': 64}\n",
      "0.1357     {'max_depth': 65}\n",
      "0.1357     {'max_depth': 66}\n",
      "0.1357     {'max_depth': 67}\n",
      "0.1357     {'max_depth': 68}\n",
      "0.1357     {'max_depth': 69}\n",
      "0.1357     {'max_depth': 70}\n",
      "0.1357     {'max_depth': 71}\n",
      "0.1357     {'max_depth': 72}\n",
      "0.1357     {'max_depth': 73}\n",
      "0.1357     {'max_depth': 74}\n",
      "0.1357     {'max_depth': 75}\n",
      "0.1357     {'max_depth': 76}\n",
      "0.1357     {'max_depth': 77}\n",
      "0.1357     {'max_depth': 78}\n",
      "0.1357     {'max_depth': 79}\n",
      "0.1357     {'max_depth': 80}\n",
      "0.1357     {'max_depth': 81}\n",
      "0.1357     {'max_depth': 82}\n",
      "0.1357     {'max_depth': 83}\n",
      "0.1357     {'max_depth': 84}\n",
      "0.1357     {'max_depth': 85}\n",
      "0.1357     {'max_depth': 86}\n",
      "0.1357     {'max_depth': 87}\n",
      "0.1357     {'max_depth': 88}\n",
      "0.1357     {'max_depth': 89}\n",
      "0.1357     {'max_depth': 90}\n",
      "0.1357     {'max_depth': 91}\n",
      "0.1357     {'max_depth': 92}\n",
      "0.1357     {'max_depth': 93}\n",
      "0.1357     {'max_depth': 94}\n",
      "0.1357     {'max_depth': 95}\n",
      "0.1357     {'max_depth': 96}\n",
      "0.1357     {'max_depth': 97}\n",
      "0.1357     {'max_depth': 98}\n",
      "0.1357     {'max_depth': 99}\n"
     ]
    }
   ],
   "source": [
    "cvres = depth_search.cv_results_\n",
    "for mean_score, params in zip(cvres[\"mean_test_score\"], cvres[\"params\"]):\n",
    "    print(round(mean_score, 4), \"   \", params)"
   ]
  },
  {
   "cell_type": "code",
   "execution_count": null,
   "id": "61950536",
   "metadata": {},
   "outputs": [
    {
     "name": "stdout",
     "output_type": "stream",
     "text": [
      "|   Predicted 0 |   Predicted 1 |\n",
      "|---------------+---------------|\n",
      "|         23546 |            14 |\n",
      "|            29 |           911 |\n",
      "\n",
      "accuracy:              0.9982\n",
      "precision:             0.9849\n",
      "recall:                0.9691\n",
      "f1:                    0.9769\n",
      "roc_auc_discrete:      0.9843\n",
      "roc_auc_continuous:    0.9999\n",
      "|   Predicted 0 |   Predicted 1 |\n",
      "|---------------+---------------|\n",
      "|          9641 |           409 |\n",
      "|           378 |            72 |\n",
      "\n",
      "accuracy:              0.925\n",
      "precision:             0.1497\n",
      "recall:                0.16\n",
      "f1:                    0.1547\n",
      "roc_auc_discrete:      0.5597\n",
      "roc_auc_continuous:    0.5665\n"
     ]
    }
   ],
   "source": [
    "show_scores(depth_search.best_estimator_, X_train, y_train)\n",
    "show_scores(depth_search.best_estimator_, x_eval, y_eval)"
   ]
  },
  {
   "cell_type": "markdown",
   "id": "56304c14",
   "metadata": {},
   "source": [
    "Wyniki wyglądają sensowniej niż dla roc_auc, co nie zmienia faktu, że drzewo nadal jest przeuczone i nie dostaliśmy lepszych wyników od braku regulacji. Spróbujemy określić pewną podprzestrzeń parametrów max_depth, min_samples_split, min_samples_leaf, max_features i wykorzystamy klasę RandomizedSearchCV do znalezienia optymalnej kombinacji. Wybierzemy metrykę f1, bo zauważyliśmy już, że dzięki roc_auc algorytm nie wyłapuje żadnych 1."
   ]
  },
  {
   "cell_type": "code",
   "execution_count": null,
   "id": "0f988afc",
   "metadata": {},
   "outputs": [],
   "source": [
    "clf = DecisionTreeClassifier(random_state=42)\n",
    "\n",
    "parameters = dict(max_depth=np.arange(25, 65, 3), min_samples_split=np.arange(2,8),\n",
    "                  min_samples_leaf=np.arange(1, 20, 2), max_features=np.arange(20, 150, 5))\n",
    "\n",
    "# siatka parametrów ma liczność 21840, przeszukujemy więc ok. 45,7% wszystkich możliwości\n",
    "rand_search = RandomizedSearchCV(clf, scoring='f1', cv=3, return_train_score=True, param_distributions=parameters, n_iter=5000, n_jobs=-1, random_state=42).fit(X_train, y_train)"
   ]
  },
  {
   "cell_type": "markdown",
   "id": "8d4e1de5",
   "metadata": {},
   "source": [
    "Sprawdzamy najlepszą kombinację"
   ]
  },
  {
   "cell_type": "code",
   "execution_count": null,
   "id": "e9390b35",
   "metadata": {},
   "outputs": [
    {
     "name": "stdout",
     "output_type": "stream",
     "text": [
      "0.1182 {'min_samples_split': 3, 'min_samples_leaf': 3, 'max_features': 125, 'max_depth': 25}\n"
     ]
    }
   ],
   "source": [
    "print(round(rand_search.best_score_, 4), rand_search.best_params_)"
   ]
  },
  {
   "cell_type": "code",
   "execution_count": null,
   "id": "73c3bd7b",
   "metadata": {},
   "outputs": [
    {
     "name": "stdout",
     "output_type": "stream",
     "text": [
      "|   Predicted 0 |   Predicted 1 |\n",
      "|---------------+---------------|\n",
      "|         23394 |           166 |\n",
      "|           439 |           501 |\n",
      "\n",
      "accuracy:              0.9753\n",
      "precision:             0.7511\n",
      "recall:                0.533\n",
      "f1:                    0.6235\n",
      "roc_auc_discrete:      0.763\n",
      "roc_auc_continuous:    0.9878\n",
      "|   Predicted 0 |   Predicted 1 |\n",
      "|---------------+---------------|\n",
      "|          9778 |           272 |\n",
      "|           400 |            50 |\n",
      "\n",
      "accuracy:              0.936\n",
      "precision:             0.1553\n",
      "recall:                0.1111\n",
      "f1:                    0.1295\n",
      "roc_auc_discrete:      0.542\n",
      "roc_auc_continuous:    0.5879\n"
     ]
    }
   ],
   "source": [
    "show_scores(rand_search.best_estimator_, X_train, y_train)\n",
    "show_scores(rand_search.best_estimator_, x_eval, y_eval)"
   ]
  },
  {
   "cell_type": "markdown",
   "id": "deb82bca",
   "metadata": {},
   "source": [
    "Jak na kilka godzin szukania wyniki nie są powalające. Ciężko powiedzieć, czy regularyzacja coś daje w tym przypadku. Ale może chociaż inżynieria cech nam wyjdzie."
   ]
  },
  {
   "cell_type": "markdown",
   "id": "2d1c06d6",
   "metadata": {},
   "source": [
    "### 4.3.3 Dobór zmiennych nie wymagajacy modelu\n",
    "\n",
    "Korelację uwzględniliśmy w transformatorze ColumnRemover. Technika którą wykorzystamy poniżej to Univariate feature selection - SelectKBest."
   ]
  },
  {
   "cell_type": "markdown",
   "id": "54ab8062",
   "metadata": {},
   "source": [
    "### SelectKBest"
   ]
  },
  {
   "cell_type": "code",
   "execution_count": null,
   "id": "cbdadae7",
   "metadata": {},
   "outputs": [],
   "source": [
    "# szukamy najlepszego parametru k w SelectKBest\n",
    "clf = Pipeline([\n",
    "    ('select', SelectKBest()),\n",
    "    ('model', DecisionTreeClassifier(random_state=42))])\n",
    "\n",
    "parameters = dict(select__k=np.arange(1, 200, 1))\n",
    "k_best_search = GridSearchCV(clf, scoring='roc_auc', cv=3, return_train_score=True, param_grid=parameters, n_jobs=-1).fit(X_train, y_train)"
   ]
  },
  {
   "cell_type": "code",
   "execution_count": null,
   "id": "45502cfc",
   "metadata": {},
   "outputs": [
    {
     "name": "stdout",
     "output_type": "stream",
     "text": [
      "0.715 {'select__k': 10}\n"
     ]
    }
   ],
   "source": [
    "# wyniki dla najlepszego znalezionego parametru\n",
    "print(round(k_best_search.best_score_, 4), k_best_search.best_params_)"
   ]
  },
  {
   "cell_type": "code",
   "execution_count": null,
   "id": "8b0257fd",
   "metadata": {},
   "outputs": [
    {
     "name": "stdout",
     "output_type": "stream",
     "text": [
      "|   Predicted 0 |   Predicted 1 |\n",
      "|---------------+---------------|\n",
      "|         23560 |             0 |\n",
      "|           940 |             0 |\n",
      "\n",
      "accuracy:              0.9616\n",
      "precision:             0.0\n",
      "recall:                0.0\n",
      "f1:                    0.0\n",
      "roc_auc_discrete:      0.5\n",
      "roc_auc_continuous:    0.7189\n",
      "|   Predicted 0 |   Predicted 1 |\n",
      "|---------------+---------------|\n",
      "|         10050 |             0 |\n",
      "|           450 |             0 |\n",
      "\n",
      "accuracy:              0.9571\n",
      "precision:             0.0\n",
      "recall:                0.0\n",
      "f1:                    0.0\n",
      "roc_auc_discrete:      0.5\n",
      "roc_auc_continuous:    0.7151\n"
     ]
    }
   ],
   "source": [
    "show_scores(k_best_search.best_estimator_, X_train, y_train)\n",
    "show_scores(k_best_search.best_estimator_, x_eval, y_eval)"
   ]
  },
  {
   "cell_type": "markdown",
   "id": "7634a752",
   "metadata": {},
   "source": [
    "Wyniki dla metryki roc_auc ponownie nic nie dają, sprawdzimy f1"
   ]
  },
  {
   "cell_type": "code",
   "execution_count": null,
   "id": "19dd7f44",
   "metadata": {},
   "outputs": [
    {
     "name": "stdout",
     "output_type": "stream",
     "text": [
      "0.1531 {'select__k': 106}\n"
     ]
    }
   ],
   "source": [
    "clf = Pipeline([\n",
    "    ('select', SelectKBest()),\n",
    "    ('model', DecisionTreeClassifier(random_state=42))])\n",
    "\n",
    "parameters = dict(select__k=np.arange(1, 200, 1))\n",
    "k_best_search = GridSearchCV(clf, scoring='f1', cv=5, return_train_score=True, param_grid=parameters, n_jobs=-1).fit(X_train, y_train)\n",
    "\n",
    "print(round(k_best_search.best_score_, 4), k_best_search.best_params_)"
   ]
  },
  {
   "cell_type": "code",
   "execution_count": null,
   "id": "954c87ed",
   "metadata": {},
   "outputs": [
    {
     "name": "stdout",
     "output_type": "stream",
     "text": [
      "|   Predicted 0 |   Predicted 1 |\n",
      "|---------------+---------------|\n",
      "|         23560 |             0 |\n",
      "|            15 |           925 |\n",
      "\n",
      "accuracy:              0.9994\n",
      "precision:             1.0\n",
      "recall:                0.984\n",
      "f1:                    0.992\n",
      "roc_auc_discrete:      0.992\n",
      "roc_auc_continuous:    1.0\n",
      "|   Predicted 0 |   Predicted 1 |\n",
      "|---------------+---------------|\n",
      "|          9624 |           426 |\n",
      "|           373 |            77 |\n",
      "\n",
      "accuracy:              0.9239\n",
      "precision:             0.1531\n",
      "recall:                0.1711\n",
      "f1:                    0.1616\n",
      "roc_auc_discrete:      0.5644\n",
      "roc_auc_continuous:    0.5651\n"
     ]
    }
   ],
   "source": [
    "show_scores(k_best_search.best_estimator_, X_train, y_train)\n",
    "show_scores(k_best_search.best_estimator_, x_eval, y_eval)"
   ]
  },
  {
   "cell_type": "markdown",
   "id": "67c8ac9a",
   "metadata": {},
   "source": [
    "Zobaczmy, jak prezentują się wszystkie wyniki"
   ]
  },
  {
   "cell_type": "code",
   "execution_count": null,
   "id": "1d451a68",
   "metadata": {},
   "outputs": [
    {
     "name": "stdout",
     "output_type": "stream",
     "text": [
      "0.0     {'select__k': 1}\n",
      "0.0     {'select__k': 2}\n",
      "0.0     {'select__k': 3}\n",
      "0.0     {'select__k': 4}\n",
      "0.0     {'select__k': 5}\n",
      "0.0     {'select__k': 6}\n",
      "0.0     {'select__k': 7}\n",
      "0.0     {'select__k': 8}\n",
      "0.0     {'select__k': 9}\n",
      "0.0     {'select__k': 10}\n",
      "0.0     {'select__k': 11}\n",
      "0.0343     {'select__k': 12}\n",
      "0.0472     {'select__k': 13}\n",
      "0.0419     {'select__k': 14}\n",
      "0.0346     {'select__k': 15}\n",
      "0.0388     {'select__k': 16}\n",
      "0.0393     {'select__k': 17}\n",
      "0.0421     {'select__k': 18}\n",
      "0.04     {'select__k': 19}\n",
      "0.0428     {'select__k': 20}\n",
      "0.0347     {'select__k': 21}\n",
      "0.0361     {'select__k': 22}\n",
      "0.0417     {'select__k': 23}\n",
      "0.0403     {'select__k': 24}\n",
      "0.0399     {'select__k': 25}\n",
      "0.0424     {'select__k': 26}\n",
      "0.0336     {'select__k': 27}\n",
      "0.0451     {'select__k': 28}\n",
      "0.046     {'select__k': 29}\n",
      "0.042     {'select__k': 30}\n",
      "0.0487     {'select__k': 31}\n",
      "0.0451     {'select__k': 32}\n",
      "0.0465     {'select__k': 33}\n",
      "0.0503     {'select__k': 34}\n",
      "0.0463     {'select__k': 35}\n",
      "0.0528     {'select__k': 36}\n",
      "0.0603     {'select__k': 37}\n",
      "0.0595     {'select__k': 38}\n",
      "0.0617     {'select__k': 39}\n",
      "0.063     {'select__k': 40}\n",
      "0.0652     {'select__k': 41}\n",
      "0.0655     {'select__k': 42}\n",
      "0.0643     {'select__k': 43}\n",
      "0.0681     {'select__k': 44}\n",
      "0.063     {'select__k': 45}\n",
      "0.0691     {'select__k': 46}\n",
      "0.0628     {'select__k': 47}\n",
      "0.0689     {'select__k': 48}\n",
      "0.0625     {'select__k': 49}\n",
      "0.064     {'select__k': 50}\n",
      "0.0702     {'select__k': 51}\n",
      "0.0683     {'select__k': 52}\n",
      "0.0659     {'select__k': 53}\n",
      "0.0789     {'select__k': 54}\n",
      "0.0738     {'select__k': 55}\n",
      "0.0722     {'select__k': 56}\n",
      "0.0792     {'select__k': 57}\n",
      "0.0782     {'select__k': 58}\n",
      "0.0979     {'select__k': 59}\n",
      "0.097     {'select__k': 60}\n",
      "0.0995     {'select__k': 61}\n",
      "0.088     {'select__k': 62}\n",
      "0.0905     {'select__k': 63}\n",
      "0.086     {'select__k': 64}\n",
      "0.0884     {'select__k': 65}\n",
      "0.0905     {'select__k': 66}\n",
      "0.0919     {'select__k': 67}\n",
      "0.0819     {'select__k': 68}\n",
      "0.084     {'select__k': 69}\n",
      "0.0834     {'select__k': 70}\n",
      "0.0846     {'select__k': 71}\n",
      "0.0851     {'select__k': 72}\n",
      "0.0839     {'select__k': 73}\n",
      "0.0956     {'select__k': 74}\n",
      "0.0981     {'select__k': 75}\n",
      "0.0871     {'select__k': 76}\n",
      "0.0949     {'select__k': 77}\n",
      "0.1068     {'select__k': 78}\n",
      "0.1116     {'select__k': 79}\n",
      "0.1184     {'select__k': 80}\n",
      "0.1102     {'select__k': 81}\n",
      "0.1369     {'select__k': 82}\n",
      "0.1276     {'select__k': 83}\n",
      "0.124     {'select__k': 84}\n",
      "0.1217     {'select__k': 85}\n",
      "0.1291     {'select__k': 86}\n",
      "0.1316     {'select__k': 87}\n",
      "0.1163     {'select__k': 88}\n",
      "0.1194     {'select__k': 89}\n",
      "0.1284     {'select__k': 90}\n",
      "0.1355     {'select__k': 91}\n",
      "0.141     {'select__k': 92}\n",
      "0.132     {'select__k': 93}\n",
      "0.1284     {'select__k': 94}\n",
      "0.1405     {'select__k': 95}\n",
      "0.1357     {'select__k': 96}\n",
      "0.1447     {'select__k': 97}\n",
      "0.1399     {'select__k': 98}\n",
      "0.1321     {'select__k': 99}\n",
      "0.1405     {'select__k': 100}\n",
      "0.1419     {'select__k': 101}\n",
      "0.1346     {'select__k': 102}\n",
      "0.1377     {'select__k': 103}\n",
      "0.1449     {'select__k': 104}\n",
      "0.1432     {'select__k': 105}\n",
      "0.1531     {'select__k': 106}\n",
      "0.1423     {'select__k': 107}\n",
      "0.1437     {'select__k': 108}\n",
      "0.1467     {'select__k': 109}\n",
      "0.1406     {'select__k': 110}\n",
      "0.1347     {'select__k': 111}\n",
      "0.1466     {'select__k': 112}\n",
      "0.1408     {'select__k': 113}\n",
      "0.1378     {'select__k': 114}\n",
      "0.1427     {'select__k': 115}\n",
      "0.1348     {'select__k': 116}\n",
      "0.1386     {'select__k': 117}\n",
      "0.136     {'select__k': 118}\n",
      "0.1368     {'select__k': 119}\n",
      "0.1381     {'select__k': 120}\n",
      "0.1396     {'select__k': 121}\n",
      "0.1384     {'select__k': 122}\n",
      "0.1402     {'select__k': 123}\n",
      "0.1372     {'select__k': 124}\n",
      "0.1453     {'select__k': 125}\n",
      "0.1383     {'select__k': 126}\n",
      "0.1376     {'select__k': 127}\n",
      "0.1402     {'select__k': 128}\n",
      "0.1396     {'select__k': 129}\n",
      "0.1396     {'select__k': 130}\n",
      "0.1369     {'select__k': 131}\n",
      "0.1394     {'select__k': 132}\n",
      "0.1373     {'select__k': 133}\n",
      "0.1373     {'select__k': 134}\n",
      "0.1387     {'select__k': 135}\n",
      "0.1295     {'select__k': 136}\n",
      "0.1331     {'select__k': 137}\n",
      "0.1264     {'select__k': 138}\n",
      "0.1346     {'select__k': 139}\n",
      "0.1497     {'select__k': 140}\n",
      "0.1411     {'select__k': 141}\n",
      "0.1355     {'select__k': 142}\n",
      "0.1295     {'select__k': 143}\n",
      "0.1353     {'select__k': 144}\n",
      "0.1452     {'select__k': 145}\n",
      "0.1435     {'select__k': 146}\n",
      "0.1462     {'select__k': 147}\n",
      "0.1386     {'select__k': 148}\n",
      "0.1183     {'select__k': 149}\n",
      "0.1333     {'select__k': 150}\n",
      "0.1266     {'select__k': 151}\n",
      "0.1316     {'select__k': 152}\n",
      "0.1353     {'select__k': 153}\n",
      "0.1405     {'select__k': 154}\n",
      "0.1308     {'select__k': 155}\n",
      "0.1322     {'select__k': 156}\n",
      "0.1334     {'select__k': 157}\n",
      "0.1347     {'select__k': 158}\n",
      "0.1384     {'select__k': 159}\n",
      "0.1379     {'select__k': 160}\n",
      "0.1411     {'select__k': 161}\n",
      "0.131     {'select__k': 162}\n",
      "0.1311     {'select__k': 163}\n",
      "0.1376     {'select__k': 164}\n",
      "0.1258     {'select__k': 165}\n",
      "0.1379     {'select__k': 166}\n",
      "0.1251     {'select__k': 167}\n",
      "0.1347     {'select__k': 168}\n",
      "0.1345     {'select__k': 169}\n",
      "0.1316     {'select__k': 170}\n",
      "0.1319     {'select__k': 171}\n",
      "0.1389     {'select__k': 172}\n",
      "0.1302     {'select__k': 173}\n",
      "0.1343     {'select__k': 174}\n",
      "0.1364     {'select__k': 175}\n",
      "0.1344     {'select__k': 176}\n",
      "0.1425     {'select__k': 177}\n",
      "0.1364     {'select__k': 178}\n",
      "0.1348     {'select__k': 179}\n",
      "0.1375     {'select__k': 180}\n",
      "0.1342     {'select__k': 181}\n",
      "0.1378     {'select__k': 182}\n",
      "0.1299     {'select__k': 183}\n",
      "0.1376     {'select__k': 184}\n",
      "0.1315     {'select__k': 185}\n",
      "0.1295     {'select__k': 186}\n",
      "0.1306     {'select__k': 187}\n",
      "0.1379     {'select__k': 188}\n",
      "0.1348     {'select__k': 189}\n",
      "0.1397     {'select__k': 190}\n",
      "0.1308     {'select__k': 191}\n",
      "0.1307     {'select__k': 192}\n",
      "0.14     {'select__k': 193}\n",
      "0.132     {'select__k': 194}\n",
      "0.1321     {'select__k': 195}\n",
      "0.1307     {'select__k': 196}\n",
      "0.1274     {'select__k': 197}\n",
      "nan     {'select__k': 198}\n",
      "nan     {'select__k': 199}\n"
     ]
    }
   ],
   "source": [
    "cvres = k_best_search.cv_results_\n",
    "for mean_score, params in zip(cvres[\"mean_test_score\"], cvres[\"params\"]):\n",
    "    print(round(mean_score, 4), \"   \", params)"
   ]
  },
  {
   "cell_type": "code",
   "execution_count": null,
   "id": "a067f48d",
   "metadata": {},
   "outputs": [
    {
     "name": "stdout",
     "output_type": "stream",
     "text": [
      "|   Predicted 0 |   Predicted 1 |\n",
      "|---------------+---------------|\n",
      "|         23560 |             0 |\n",
      "|            15 |           925 |\n",
      "\n",
      "accuracy:              0.9994\n",
      "precision:             1.0\n",
      "recall:                0.984\n",
      "f1:                    0.992\n",
      "roc_auc_discrete:      0.992\n",
      "roc_auc_continuous:    1.0\n",
      "|   Predicted 0 |   Predicted 1 |\n",
      "|---------------+---------------|\n",
      "|          9624 |           426 |\n",
      "|           373 |            77 |\n",
      "\n",
      "accuracy:              0.9239\n",
      "precision:             0.1531\n",
      "recall:                0.1711\n",
      "f1:                    0.1616\n",
      "roc_auc_discrete:      0.5644\n",
      "roc_auc_continuous:    0.5651\n"
     ]
    }
   ],
   "source": [
    "clf = Pipeline([\n",
    "    ('select', SelectKBest(k=106)),\n",
    "    ('model', DecisionTreeClassifier(random_state=42))])\n",
    "\n",
    "clf.fit(X_train, y_train)\n",
    "show_scores(clf, X_train, y_train)\n",
    "show_scores(clf, x_eval, y_eval)"
   ]
  },
  {
   "cell_type": "markdown",
   "id": "b05b78d1",
   "metadata": {},
   "source": [
    "### 4.3.4 Dobór zmiennych na podstawie modelu\n",
    "\n",
    "Przeprowadzimy dobór cech na podstawie modelu ze znalezionymi najlepszymi parametrami. Zastosujemy metody SelectFromModel - feature importance, Sequential Feature Selection i RFE"
   ]
  },
  {
   "cell_type": "markdown",
   "id": "82bea262",
   "metadata": {},
   "source": [
    "### SelectFromModel - tree-based feature selection"
   ]
  },
  {
   "cell_type": "code",
   "execution_count": null,
   "id": "0dafa41f",
   "metadata": {},
   "outputs": [
    {
     "name": "stdout",
     "output_type": "stream",
     "text": [
      "|   Predicted 0 |   Predicted 1 |\n",
      "|---------------+---------------|\n",
      "|         23560 |             0 |\n",
      "|             3 |           937 |\n",
      "\n",
      "accuracy:              0.9999\n",
      "precision:             1.0\n",
      "recall:                0.9968\n",
      "f1:                    0.9984\n",
      "roc_auc_discrete:      0.9984\n",
      "roc_auc_continuous:    1.0\n",
      "|   Predicted 0 |   Predicted 1 |\n",
      "|---------------+---------------|\n",
      "|          9653 |           397 |\n",
      "|           379 |            71 |\n",
      "\n",
      "accuracy:              0.9261\n",
      "precision:             0.1517\n",
      "recall:                0.1578\n",
      "f1:                    0.1547\n",
      "roc_auc_discrete:      0.5591\n",
      "roc_auc_continuous:    0.5591\n"
     ]
    }
   ],
   "source": [
    "clf = DecisionTreeClassifier(random_state=42)\n",
    "clf.fit(X_train, y_train)\n",
    "\n",
    "show_scores(clf, X_train, y_train)\n",
    "show_scores(clf, x_eval, y_eval)"
   ]
  },
  {
   "cell_type": "code",
   "execution_count": null,
   "id": "053a9d87",
   "metadata": {},
   "outputs": [
    {
     "data": {
      "text/plain": [
       "197"
      ]
     },
     "execution_count": 96,
     "metadata": {},
     "output_type": "execute_result"
    }
   ],
   "source": [
    "X_train.shape[1]"
   ]
  },
  {
   "cell_type": "code",
   "execution_count": null,
   "id": "c22f9615",
   "metadata": {},
   "outputs": [
    {
     "data": {
      "text/plain": [
       "22"
      ]
     },
     "execution_count": 97,
     "metadata": {},
     "output_type": "execute_result"
    }
   ],
   "source": [
    "sfl = SelectFromModel(clf, prefit=True)\n",
    "X_train_t = sfl.transform(X_train)\n",
    "X_eval_t = sfl.transform(x_eval)\n",
    "X_train_t.shape[1]"
   ]
  },
  {
   "cell_type": "code",
   "execution_count": null,
   "id": "01058e6f",
   "metadata": {},
   "outputs": [
    {
     "name": "stdout",
     "output_type": "stream",
     "text": [
      "|   Predicted 0 |   Predicted 1 |\n",
      "|---------------+---------------|\n",
      "|         23560 |             0 |\n",
      "|             3 |           937 |\n",
      "\n",
      "accuracy:              0.9999\n",
      "precision:             1.0\n",
      "recall:                0.9968\n",
      "f1:                    0.9984\n",
      "roc_auc_discrete:      0.9984\n",
      "roc_auc_continuous:    1.0\n",
      "|   Predicted 0 |   Predicted 1 |\n",
      "|---------------+---------------|\n",
      "|          9603 |           447 |\n",
      "|           381 |            69 |\n",
      "\n",
      "accuracy:              0.9211\n",
      "precision:             0.1337\n",
      "recall:                0.1533\n",
      "f1:                    0.1429\n",
      "roc_auc_discrete:      0.5544\n",
      "roc_auc_continuous:    0.5544\n"
     ]
    }
   ],
   "source": [
    "clf.fit(X_train_t, y_train)\n",
    "\n",
    "show_scores(clf, X_train_t, y_train)\n",
    "show_scores(clf, X_eval_t, y_eval)"
   ]
  },
  {
   "cell_type": "markdown",
   "id": "633ea3e4",
   "metadata": {},
   "source": [
    "Obserwujemy niewielkie pogorszenie wyników modelu, ale zredukowaliśmy liczbę cech do zaledwie 22!"
   ]
  },
  {
   "cell_type": "markdown",
   "id": "4b0cc1c7",
   "metadata": {},
   "source": [
    "### Sequential Feature Selection"
   ]
  },
  {
   "cell_type": "code",
   "execution_count": null,
   "id": "f49734a1",
   "metadata": {},
   "outputs": [],
   "source": [
    "sfs = SequentialFeatureSelector(\n",
    "    DecisionTreeClassifier(random_state=42),\n",
    "    direction='forward',\n",
    "    scoring='f1',\n",
    "    n_features_to_select=50,\n",
    "    cv=3,\n",
    "    n_jobs=-1)\n",
    "\n",
    "pipe = Pipeline([\n",
    "    ('selector', sfs),\n",
    "    ('model', DecisionTreeClassifier(random_state=42))]).fit(X_train, y_train)\n",
    "\n",
    "show_scores(pipe, X_train, y_train)"
   ]
  },
  {
   "cell_type": "code",
   "execution_count": null,
   "id": "11f27c5c",
   "metadata": {},
   "outputs": [],
   "source": [
    "show_scores(pipe, X_eval_t, y_eval)"
   ]
  },
  {
   "cell_type": "markdown",
   "id": "f2bb09d4",
   "metadata": {},
   "source": [
    "Zredukowaliśmy liczbę cech do 50 nie pogarszając wyniku."
   ]
  },
  {
   "cell_type": "markdown",
   "id": "2c173762",
   "metadata": {},
   "source": [
    "### Recursive Feature Elimination"
   ]
  },
  {
   "cell_type": "markdown",
   "id": "c1ef192e",
   "metadata": {},
   "source": [
    "Dla najlepszego modelu drzewa decyzyjnego sprawdźmy które cechy niosą za sobą najwięcej informacji"
   ]
  },
  {
   "cell_type": "code",
   "execution_count": null,
   "id": "ff48d813",
   "metadata": {},
   "outputs": [],
   "source": [
    "k_val = [k for k in range (2,100,2)]\n",
    "score = []\n",
    "for k in k_val:\n",
    "\n",
    "    clf = DecisionTreeClassifier(**rand_search.best_params_)\n",
    "    rfe = RFE(clf,n_features_to_select = k)\n",
    "    rfe.fit(X_train, y_train)\n",
    "    X_train_rfe = rfe.transform(X_train)\n",
    "    X_eval_rfe = rfe.transform(x_eval)\n",
    "    clf.fit(X_train_rfe, y_train)\n",
    "\n",
    "    y_pred_prob = clf.predict_proba(pd.DataFrame(X_eval_rfe))\n",
    "\n",
    "    score_roc = roc_auc_score(y_eval, y_pred_prob[:, 1])\n",
    "    score.append(score_roc)\n",
    "    print(score_roc, k)"
   ]
  },
  {
   "cell_type": "code",
   "execution_count": null,
   "id": "022b20bc",
   "metadata": {},
   "outputs": [],
   "source": [
    "plt.stem(score)\n",
    "plt.xticks(k_val, score)\n",
    "plt.xlim([-1, 50])\n",
    "plt.xlabel(\"K Values\")\n",
    "plt.ylabel(\"f1 Score\")"
   ]
  },
  {
   "cell_type": "markdown",
   "id": "0376985e",
   "metadata": {},
   "source": [
    "![DCT.png](./Img/dct_rfe.png)\n",
    "\n",
    "Z powyższego wykresu możemy wyczytać, że najlepiej będzie użyć rfe dla 26 cech.\n",
    "W związku z tym spróbujmy użyć PCA na wybranych kolumnach."
   ]
  },
  {
   "cell_type": "markdown",
   "id": "c52c7e4e",
   "metadata": {},
   "source": [
    "### Principal component analysis"
   ]
  },
  {
   "cell_type": "code",
   "execution_count": null,
   "id": "9a52d0ba",
   "metadata": {},
   "outputs": [],
   "source": [
    "rfe = RFE(DecisionTreeClassifier(**rand_search.best_params_, random_state=42),n_features_to_select = 26).fit(X_train, y_train)\n",
    "X_train_rfe = rfe.transform(X_train)\n",
    "X_eval_rfe = rfe.transform(x_eval)\n",
    "\n",
    "k_values = [i for i in range (2,26)]\n",
    "scores = []\n",
    "\n",
    "for k in k_values:\n",
    "\n",
    "    clf = DecisionTreeClassifier(**rand_search.best_params_)\n",
    "    pca = PCA(n_components=k)\n",
    "\n",
    "    X_red_train = pca.fit_transform(X_train_rfe)\n",
    "    X_red_eval = pca.fit_transform(X_eval_rfe)\n",
    "\n",
    "    clf.fit(X_red_train, y_train)\n",
    "    y_pred_prob = clf.predict_proba(pd.DataFrame(X_red_eval))\n",
    "\n",
    "    score_roc = roc_auc_score(y_eval, y_pred_prob[:, 1])\n",
    "    scores.append(score_roc)\n"
   ]
  },
  {
   "cell_type": "code",
   "execution_count": null,
   "id": "b7e50dee",
   "metadata": {},
   "outputs": [],
   "source": [
    "plt.stem(scores)\n",
    "plt.xticks(k_values, scores)\n",
    "plt.xlim([-1, 72])\n",
    "plt.xlabel(\"K Values\")\n",
    "plt.ylabel(\"roc_auc Score\")\n",
    "plt.title(\"PCA for decision Tree\")"
   ]
  },
  {
   "cell_type": "markdown",
   "id": "f3255af6",
   "metadata": {},
   "source": [
    "![DCT.png](./Img/DCT.png)"
   ]
  },
  {
   "cell_type": "markdown",
   "id": "33e9565c",
   "metadata": {},
   "source": [
    "Widzimy więc, że dla tego modelu najlepiej będzie wybrać wartość n_components = 64"
   ]
  },
  {
   "cell_type": "markdown",
   "id": "f057921c",
   "metadata": {},
   "source": [
    "### 4.4 Podsumowanie\n",
    "\n",
    "Model drzewa decyzyjnego działa bardzo słabo w przypadku naszego zbioru danych i wykazujemy pewną bezradność wobec tego algorytmu nawet po dość szczegółowym i wielokrotnym przeszukiwaniu siatki parametrów. Niemniej jednak udało nam się przeprowadzić selekcję cech niepogarszającą rezultatów modelu. Metody jakie wybraliśmy i ostateczna liczba zmiennych prezentują się następujaco:\n",
    "\n",
    "- SelectKBest - 106\n",
    "- Tree-based feature selection (feature_importance) - 22\n",
    "- Sequential feature selection - 70\n",
    "- Recursive feature elimination - 26\n",
    "- RFE + PCA - 64\n",
    "\n",
    "Zwycięzcą w tym modelu okazało się podejście oparte na modelu i parametrze feature_importance. Trzeba jednak pamiętać, że jest ono skuteczne tylko w przypadku nieprzetrenowanego modelu, czego w tym przypadku nie uzyskaliśmy.\n"
   ]
  },
  {
   "cell_type": "markdown",
   "id": "7490f1f3",
   "metadata": {},
   "source": [
    "# 5. SVM"
   ]
  },
  {
   "cell_type": "markdown",
   "id": "55cd86a2",
   "metadata": {},
   "source": [
    "## 5.1 Preprocessing"
   ]
  },
  {
   "cell_type": "code",
   "execution_count": null,
   "id": "b34d5909",
   "metadata": {},
   "outputs": [],
   "source": [
    "int_transformer = Pipeline([\n",
    "    ('int', ColumnRemover(0.9995, 0.99, 1)),\n",
    "    ('one_hot', OneHotEncoder(handle_unknown='ignore', sparse_output=False, dtype='int64'))])\n",
    "\n",
    "float_transformer = Pipeline([\n",
    "    ('float', ColumnRemover(0.9999, 0.99, 10)),\n",
    "    ('standard_scaler', StandardScaler())])\n",
    "\n",
    "col_transformer = ColumnTransformer([\n",
    "    ('int_pipe', int_transformer, make_column_selector(dtype_include=np.int64)),\n",
    "    ('float_pipe', float_transformer, make_column_selector(dtype_include=np.float64))\n",
    "])"
   ]
  },
  {
   "cell_type": "code",
   "execution_count": null,
   "id": "473de74e",
   "metadata": {},
   "outputs": [],
   "source": [
    "X_train = train_df.drop('target', axis=1)\n",
    "y_train = train_df.target\n",
    "x_eval = eval_set.drop('target', axis=1)\n",
    "y_eval = eval_set.target"
   ]
  },
  {
   "cell_type": "markdown",
   "id": "af085295",
   "metadata": {},
   "source": [
    "## 5.2 Trening pierwszego modelu"
   ]
  },
  {
   "cell_type": "code",
   "execution_count": null,
   "id": "b52161f4",
   "metadata": {},
   "outputs": [
    {
     "name": "stdout",
     "output_type": "stream",
     "text": [
      "|   Predicted 0 |   Predicted 1 |\n",
      "|---------------+---------------|\n",
      "|         23560 |             0 |\n",
      "|           939 |             1 |\n",
      "\n",
      "accuracy:              0.9617\n",
      "precision:             1.0\n",
      "recall:                0.0011\n",
      "f1:                    0.0021\n",
      "roc_auc_discrete:      0.5005\n",
      "roc_auc_continuous:    0.5118\n"
     ]
    }
   ],
   "source": [
    "clf = Pipeline([\n",
    "    ('preprocessing', col_transformer),\n",
    "    ('model', SVC(random_state=42, probability=True))])\n",
    "\n",
    "clf.fit(X_train, y_train)\n",
    "show_scores(clf, X_train, y_train)"
   ]
  },
  {
   "cell_type": "code",
   "execution_count": null,
   "id": "19c9ce94",
   "metadata": {},
   "outputs": [
    {
     "name": "stdout",
     "output_type": "stream",
     "text": [
      "|   Predicted 0 |   Predicted 1 |\n",
      "|---------------+---------------|\n",
      "|         10050 |             0 |\n",
      "|           450 |             0 |\n",
      "\n",
      "accuracy:              0.9571\n",
      "precision:             0.0\n",
      "recall:                0.0\n",
      "f1:                    0.0\n",
      "roc_auc_discrete:      0.5\n",
      "roc_auc_continuous:    0.494\n"
     ]
    }
   ],
   "source": [
    "show_scores(clf, X_train, y_eval)"
   ]
  },
  {
   "cell_type": "markdown",
   "id": "6df1ee98",
   "metadata": {},
   "source": [
    "Spróbujmy wyciągnąć lepsze wyniki"
   ]
  },
  {
   "cell_type": "markdown",
   "id": "27178198",
   "metadata": {},
   "source": [
    "### 5.2.1 Trening z wybranymi hiperparametrami"
   ]
  },
  {
   "cell_type": "code",
   "execution_count": null,
   "id": "22464f03",
   "metadata": {
    "pycharm": {
     "is_executing": true
    }
   },
   "outputs": [],
   "source": [
    "int_transformer = Pipeline([\n",
    "    ('int', ColumnRemover(0.9995, 0.99, 1)),\n",
    "    ('one_hot', OneHotEncoder(handle_unknown='ignore', sparse_output=False, dtype='int64'))])\n",
    "\n",
    "float_transformer = Pipeline([\n",
    "    ('float', ColumnRemover(0.9999, 0.99, 10))])\n",
    "\n",
    "col_transformer = ColumnTransformer([\n",
    "    ('int_pipe', int_transformer, make_column_selector(dtype_include=np.int64)),\n",
    "    ('float_pipe', float_transformer, make_column_selector(dtype_include=np.float64))\n",
    "])\n",
    "\n",
    "X_train = col_transformer.fit_transform(train_df.drop('target', axis=1), train_df.target)\n",
    "y_train = train_df.target\n",
    "x_eval = col_transformer.transform(eval_set.drop('target', axis=1))\n",
    "y_eval = eval_set.target"
   ]
  },
  {
   "cell_type": "code",
   "execution_count": null,
   "id": "cb9238b9",
   "metadata": {},
   "outputs": [],
   "source": [
    "svm2 = SVC(kernel='linear', class_weight='balanced', gamma='auto',probability=True, random_state=42).fit(X_train,y_train)"
   ]
  },
  {
   "cell_type": "code",
   "execution_count": null,
   "id": "c46969b4",
   "metadata": {},
   "outputs": [],
   "source": [
    "show_scores(svm2, X_train, y_train)\n",
    "show_scores(svm2, x_eval, y_eval)"
   ]
  },
  {
   "cell_type": "markdown",
   "id": "855c6988",
   "metadata": {},
   "source": [
    "![svm.png](./img/svm.png)"
   ]
  },
  {
   "cell_type": "markdown",
   "id": "c7a3509f",
   "metadata": {},
   "source": [
    "Pozostaje kwestia strojenia hiperparametrów i wyboru cech dla tego modelu. Niestety, z naszego doświadczenia wiemy, że czas trwania przeliczenia tego dla SVM jest liczony w dniach (co najmniej kilku). Z tego powodu ograniczyliśmy się jedynie do empirycznego wyboru powyższych hiperparametrów."
   ]
  },
  {
   "cell_type": "markdown",
   "id": "b04a661e",
   "metadata": {},
   "source": [
    "# 6. Random forest"
   ]
  },
  {
   "cell_type": "markdown",
   "id": "61a46715",
   "metadata": {},
   "source": [
    "## 6.1 Preprocessing"
   ]
  },
  {
   "cell_type": "code",
   "execution_count": null,
   "id": "a7e53fb7",
   "metadata": {
    "pycharm": {
     "is_executing": true
    }
   },
   "outputs": [],
   "source": [
    "int_transformer = Pipeline([\n",
    "    ('int', ColumnRemover(0.9995, 0.99, 1)),\n",
    "    ('one_hot', OneHotEncoder(handle_unknown='ignore', sparse_output=False, dtype='int64'))])\n",
    "\n",
    "float_transformer = Pipeline([\n",
    "    ('float', ColumnRemover(0.9999, 0.99, 10))])\n",
    "\n",
    "col_transformer = ColumnTransformer([\n",
    "    ('int_pipe', int_transformer, make_column_selector(dtype_include=np.int64)),\n",
    "    ('float_pipe', float_transformer, make_column_selector(dtype_include=np.float64))\n",
    "])"
   ]
  },
  {
   "cell_type": "markdown",
   "id": "9d8c6f0c",
   "metadata": {},
   "source": [
    "## 6.2 Trening modelu"
   ]
  },
  {
   "cell_type": "code",
   "execution_count": null,
   "id": "4b1f4c90",
   "metadata": {
    "pycharm": {
     "is_executing": true
    }
   },
   "outputs": [],
   "source": [
    "X_train = train_df.drop('target', axis=1)\n",
    "y_train = train_df.target\n",
    "x_eval = eval_set.drop('target', axis=1)\n",
    "y_eval = eval_set.target"
   ]
  },
  {
   "cell_type": "code",
   "execution_count": null,
   "id": "646a572e",
   "metadata": {},
   "outputs": [
    {
     "name": "stdout",
     "output_type": "stream",
     "text": [
      "|   Predicted 0 |   Predicted 1 |\n",
      "|---------------+---------------|\n",
      "|         23560 |             0 |\n",
      "|             3 |           937 |\n",
      "\n",
      "accuracy:              0.9999\n",
      "precision:             1.0\n",
      "recall:                0.9968\n",
      "f1:                    0.9984\n",
      "roc_auc_discrete:      0.9984\n",
      "roc_auc_continuous:    1.0\n",
      "|   Predicted 0 |   Predicted 1 |\n",
      "|---------------+---------------|\n",
      "|         10028 |            22 |\n",
      "|           443 |             7 |\n",
      "\n",
      "accuracy:              0.9557\n",
      "precision:             0.2414\n",
      "recall:                0.0156\n",
      "f1:                    0.0292\n",
      "roc_auc_discrete:      0.5067\n",
      "roc_auc_continuous:    0.7948\n"
     ]
    }
   ],
   "source": [
    "rf = RandomForestClassifier(random_state=42, n_estimators=1000)\n",
    "\n",
    "clf = Pipeline([\n",
    "    ('preprocessing', col_transformer),\n",
    "    ('model', rf)])\n",
    "\n",
    "clf.fit(X_train, y_train)\n",
    "show_scores(clf, X_train, y_train)\n",
    "show_scores(clf, x_eval, y_eval)"
   ]
  },
  {
   "cell_type": "markdown",
   "id": "70eddad5",
   "metadata": {},
   "source": [
    "Model jest bardzo przeuczony, spróbujmy ustawić parametry dla znalezione dla najlepszego pojedynczego drzewa decyzyjnego."
   ]
  },
  {
   "cell_type": "code",
   "execution_count": null,
   "id": "8d0a695c",
   "metadata": {},
   "outputs": [
    {
     "name": "stdout",
     "output_type": "stream",
     "text": [
      "|   Predicted 0 |   Predicted 1 |\n",
      "|---------------+---------------|\n",
      "|         23560 |             0 |\n",
      "|           873 |            67 |\n",
      "\n",
      "accuracy:              0.9644\n",
      "precision:             1.0\n",
      "recall:                0.0713\n",
      "f1:                    0.1331\n",
      "roc_auc_discrete:      0.5356\n",
      "roc_auc_continuous:    0.9968\n",
      "|   Predicted 0 |   Predicted 1 |\n",
      "|---------------+---------------|\n",
      "|         10050 |             0 |\n",
      "|           450 |             0 |\n",
      "\n",
      "accuracy:              0.9571\n",
      "precision:             0.0\n",
      "recall:                0.0\n",
      "f1:                    0.0\n",
      "roc_auc_discrete:      0.5\n",
      "roc_auc_continuous:    0.8218\n"
     ]
    }
   ],
   "source": [
    "rf = RandomForestClassifier(random_state=42, n_estimators=1000, **rand_search.best_params_)\n",
    "\n",
    "clf = Pipeline([\n",
    "    ('preprocessing', col_transformer),\n",
    "    ('model', rf)])\n",
    "\n",
    "clf.fit(X_train, y_train)\n",
    "show_scores(clf, X_train, y_train)\n",
    "show_scores(clf, x_eval, y_eval)\n"
   ]
  },
  {
   "cell_type": "markdown",
   "id": "19deb24a",
   "metadata": {},
   "source": [
    "# 7. Voting"
   ]
  },
  {
   "cell_type": "markdown",
   "id": "cb4d833c",
   "metadata": {},
   "source": [
    "Zbierzemy teraz najlepsze otrzymane algorytmy regresji logistycznej, drzewa decyzyjnego i svm łącząc je w klasyfikatorze głosującym. Zastosujemy głosowanie miękkie, które lepiej się sprawdzi w naszym przypadku."
   ]
  },
  {
   "cell_type": "code",
   "execution_count": null,
   "id": "3676fde2",
   "metadata": {
    "pycharm": {
     "is_executing": true
    }
   },
   "outputs": [],
   "source": [
    "log_reg = Pipeline([\n",
    "    ('preprocessor', ColumnTransformer([\n",
    "        ('int_pipe', Pipeline([\n",
    "            ('int', ColumnRemover(0.9998, 1, 0)),\n",
    "            ('one_hot', OneHotEncoder(handle_unknown='ignore', sparse_output=False, dtype='int64'))]), make_column_selector(dtype_include=np.int64)),\n",
    "        ('float_pipe', Pipeline([\n",
    "            ('float', ColumnRemover(0.9996, 0.97, 0)),\n",
    "            ('standardization', StandardScaler())]), make_column_selector(dtype_include=np.float64))\n",
    "    ])),\n",
    "    ('selector', SelectKBest(k=33)),\n",
    "    ('model', LogisticRegression(random_state=42, class_weight='balanced'))])\n",
    "\n",
    "dct = Pipeline([\n",
    "    ('preprocessor', ColumnTransformer([\n",
    "        ('int_pipe', Pipeline([\n",
    "            ('int', ColumnRemover(0.9998, 0.99, 2)),\n",
    "            ('one_hot', OneHotEncoder(handle_unknown='ignore', sparse_output=False, dtype='int64'))]), make_column_selector(dtype_include=np.int64)),\n",
    "        ('float_pipe', Pipeline([\n",
    "            ('float', ColumnRemover(0.9998, 0.96, 15)),\n",
    "            ]), make_column_selector(dtype_include=np.float64))\n",
    "    ])),\n",
    "    ('selector', SelectFromModel(DecisionTreeClassifier(random_state=42))),\n",
    "    ('model', DecisionTreeClassifier(random_state=42))])\n",
    "\n",
    "svc = Pipeline([\n",
    "    ('preprocessor', ColumnTransformer([\n",
    "        ('int_pipe', Pipeline([\n",
    "            ('int', ColumnRemover(0.9995, 0.99, 1)),\n",
    "            ('one_hot', OneHotEncoder(handle_unknown='ignore', sparse_output=False, dtype='int64'))]), make_column_selector(dtype_include=np.int64)),\n",
    "        ('float_pipe', Pipeline([\n",
    "            ('float', ColumnRemover(0.9999, 0.99, 10)),\n",
    "            ('standard_scaler', StandardScaler())]), make_column_selector(dtype_include=np.float64))\n",
    "    ])),\n",
    "    ('model', SVC(random_state=42, probability=True))])"
   ]
  },
  {
   "cell_type": "code",
   "execution_count": null,
   "id": "1f97a2fa",
   "metadata": {},
   "outputs": [],
   "source": [
    "estimators=[('DecisionTree', dct), ('SVM', svc), ('LR', log_reg)]\n",
    "vc = VotingClassifier(estimators=estimators, voting='soft', weights=[0.2, 0.1, 0.7]).fit(X_train, y_train)"
   ]
  },
  {
   "cell_type": "code",
   "execution_count": null,
   "id": "a4fd6a6f",
   "metadata": {},
   "outputs": [
    {
     "name": "stdout",
     "output_type": "stream",
     "text": [
      "|   Predicted 0 |   Predicted 1 |\n",
      "|---------------+---------------|\n",
      "|         21333 |          2227 |\n",
      "|           180 |           760 |\n",
      "\n",
      "accuracy:              0.9018\n",
      "precision:             0.2544\n",
      "recall:                0.8085\n",
      "f1:                    0.3871\n",
      "roc_auc_discrete:      0.857\n",
      "roc_auc_continuous:    0.9434\n"
     ]
    }
   ],
   "source": [
    "show_scores(vc, X_train, y_train)"
   ]
  },
  {
   "cell_type": "code",
   "execution_count": null,
   "id": "fa9db784",
   "metadata": {},
   "outputs": [
    {
     "name": "stdout",
     "output_type": "stream",
     "text": [
      "|   Predicted 0 |   Predicted 1 |\n",
      "|---------------+---------------|\n",
      "|          8944 |          1106 |\n",
      "|           236 |           214 |\n",
      "\n",
      "accuracy:              0.8722\n",
      "precision:             0.1621\n",
      "recall:                0.4756\n",
      "f1:                    0.2418\n",
      "roc_auc_discrete:      0.6828\n",
      "roc_auc_continuous:    0.7792\n"
     ]
    }
   ],
   "source": [
    "show_scores(vc, x_eval, y_eval)"
   ]
  },
  {
   "cell_type": "markdown",
   "id": "46a08200",
   "metadata": {},
   "source": [
    "Otrzymaliśmy niespotykanie wysoki dotąd rezultat f1 oraz całkiem przyzwoite inne metryki."
   ]
  },
  {
   "cell_type": "markdown",
   "id": "5fda8e4c",
   "metadata": {},
   "source": [
    "# 8. Adaboost"
   ]
  },
  {
   "cell_type": "markdown",
   "id": "3cfd3bae",
   "metadata": {},
   "source": [
    "Spróbujmy zastosować Adaboost na pewnych modelach."
   ]
  },
  {
   "cell_type": "markdown",
   "id": "7d8adead",
   "metadata": {},
   "source": [
    "### Regresja Logistyczna"
   ]
  },
  {
   "cell_type": "code",
   "execution_count": null,
   "id": "165447a5",
   "metadata": {},
   "outputs": [],
   "source": [
    "log_reg = Pipeline([\n",
    "    ('preprocessor', ColumnTransformer([\n",
    "        ('int_pipe', Pipeline([\n",
    "            ('int', ColumnRemover(0.9998, 1, 0)),\n",
    "            ('one_hot', OneHotEncoder(handle_unknown='ignore', sparse_output=False, dtype='int64'))]), make_column_selector(dtype_include=np.int64)),\n",
    "        ('float_pipe', Pipeline([\n",
    "            ('float', ColumnRemover(0.9996, 0.97, 0)),\n",
    "            ('standardization', StandardScaler())]), make_column_selector(dtype_include=np.float64))\n",
    "    ])),\n",
    "    ('selector', SelectKBest(k=33)),\n",
    "    ('model', LogisticRegression(random_state=42, class_weight='balanced'))])"
   ]
  },
  {
   "cell_type": "code",
   "execution_count": null,
   "id": "fbc3303b",
   "metadata": {},
   "outputs": [],
   "source": [
    "ADB_logreg = AdaBoostClassifier(base_estimator=log_reg, n_estimators=5000,\n",
    "    learning_rate=0.5, random_state=42)"
   ]
  },
  {
   "cell_type": "code",
   "execution_count": null,
   "id": "976a232e",
   "metadata": {},
   "outputs": [
    {
     "name": "stdout",
     "output_type": "stream",
     "text": [
      "|   Predicted 0 |   Predicted 1 |\n",
      "|---------------+---------------|\n",
      "|         16137 |          7423 |\n",
      "|           222 |           718 |\n",
      "\n",
      "accuracy:              0.688\n",
      "precision:             0.0882\n",
      "recall:                0.7638\n",
      "f1:                    0.1581\n",
      "roc_auc_discrete:      0.7244\n",
      "roc_auc_continuous:    0.7998\n"
     ]
    }
   ],
   "source": [
    "ADB_logreg.fit(X_train, y_train)\n",
    "show_scores(ADB_logreg, X_train,y_train)"
   ]
  },
  {
   "cell_type": "code",
   "execution_count": null,
   "id": "27e44502",
   "metadata": {},
   "outputs": [
    {
     "name": "stdout",
     "output_type": "stream",
     "text": [
      "|   Predicted 0 |   Predicted 1 |\n",
      "|---------------+---------------|\n",
      "|          7167 |          2883 |\n",
      "|           142 |           308 |\n",
      "\n",
      "accuracy:              0.7119\n",
      "precision:             0.0965\n",
      "recall:                0.6844\n",
      "f1:                    0.1692\n",
      "roc_auc_discrete:      0.6988\n",
      "roc_auc_continuous:    0.7702\n"
     ]
    }
   ],
   "source": [
    "show_scores(ADB_logreg, x_eval, y_eval)"
   ]
  },
  {
   "cell_type": "markdown",
   "id": "9b8bcdd6",
   "metadata": {},
   "source": [
    "### Drzewa decyzyjne"
   ]
  },
  {
   "cell_type": "code",
   "execution_count": null,
   "id": "d6b32a16",
   "metadata": {},
   "outputs": [],
   "source": [
    "dct = Pipeline([\n",
    "    ('preprocessor', ColumnTransformer([\n",
    "        ('int_pipe', Pipeline([\n",
    "            ('int', ColumnRemover(0.9998, 0.99, 2)),\n",
    "            ('one_hot', OneHotEncoder(handle_unknown='ignore', sparse_output=False, dtype='int64'))]), make_column_selector(dtype_include=np.int64)),\n",
    "        ('float_pipe', Pipeline([\n",
    "            ('float', ColumnRemover(0.9998, 0.96, 15)),\n",
    "        ]), make_column_selector(dtype_include=np.float64))\n",
    "    ])),\n",
    "    ('selector', SelectFromModel(DecisionTreeClassifier(random_state=42))),\n",
    "    ('model', DecisionTreeClassifier(random_state=42))])"
   ]
  },
  {
   "cell_type": "code",
   "execution_count": null,
   "id": "db032bae",
   "metadata": {},
   "outputs": [],
   "source": [
    "ADB_dct = AdaBoostClassifier(base_estimator=dct, n_estimators=1000,learning_rate=0.5,\n",
    "                         algorithm='SAMME.R', random_state=42)"
   ]
  },
  {
   "cell_type": "code",
   "execution_count": null,
   "id": "63d19224",
   "metadata": {},
   "outputs": [
    {
     "name": "stdout",
     "output_type": "stream",
     "text": [
      "|   Predicted 0 |   Predicted 1 |\n",
      "|---------------+---------------|\n",
      "|         23560 |             0 |\n",
      "|             3 |           937 |\n",
      "\n",
      "accuracy:              0.9999\n",
      "precision:             1.0\n",
      "recall:                0.9968\n",
      "f1:                    0.9984\n",
      "roc_auc_discrete:      0.9984\n",
      "roc_auc_continuous:    1.0\n",
      "|   Predicted 0 |   Predicted 1 |\n",
      "|---------------+---------------|\n",
      "|         10032 |            18 |\n",
      "|           443 |             7 |\n",
      "\n",
      "accuracy:              0.9561\n",
      "precision:             0.28\n",
      "recall:                0.0156\n",
      "f1:                    0.0295\n",
      "roc_auc_discrete:      0.5069\n",
      "roc_auc_continuous:    0.6767\n"
     ]
    }
   ],
   "source": [
    "ADB_dct.fit(X_train, y_train)\n",
    "show_scores(ADB_dct, X_train,y_train)\n",
    "show_scores(ADB_dct, x_eval, y_eval)"
   ]
  },
  {
   "cell_type": "code",
   "execution_count": null,
   "id": "f3241560",
   "metadata": {},
   "outputs": [],
   "source": [
    "ADB_dct = AdaBoostClassifier(base_estimator=dct, n_estimators=2000,learning_rate=0.5,\n",
    "                         algorithm='SAMME.R', random_state=42)"
   ]
  },
  {
   "cell_type": "code",
   "execution_count": null,
   "id": "a7b5c9df",
   "metadata": {},
   "outputs": [
    {
     "name": "stdout",
     "output_type": "stream",
     "text": [
      "|   Predicted 0 |   Predicted 1 |\n",
      "|---------------+---------------|\n",
      "|         23559 |             1 |\n",
      "|             2 |           938 |\n",
      "\n",
      "accuracy:              0.9999\n",
      "precision:             0.9989\n",
      "recall:                0.9979\n",
      "f1:                    0.9984\n",
      "roc_auc_discrete:      0.9989\n",
      "roc_auc_continuous:    1.0\n",
      "|   Predicted 0 |   Predicted 1 |\n",
      "|---------------+---------------|\n",
      "|         10031 |            19 |\n",
      "|           443 |             7 |\n",
      "\n",
      "accuracy:              0.956\n",
      "precision:             0.2692\n",
      "recall:                0.0156\n",
      "f1:                    0.0294\n",
      "roc_auc_discrete:      0.5068\n",
      "roc_auc_continuous:    0.6844\n"
     ]
    }
   ],
   "source": [
    "ADB_dct.fit(X_train, y_train)\n",
    "show_scores(ADB_dct, X_train,y_train)\n",
    "show_scores(ADB_dct, x_eval, y_eval)"
   ]
  },
  {
   "cell_type": "markdown",
   "id": "3a371ee7",
   "metadata": {},
   "source": [
    "Jak widać, adaboost może pomóc w drzewach decyzyjnych, ponieważ znacznie poprawia roc_auc_continuous. Jednakże dla regresji logistycznej jest on niepotrzebny, wręcz niewskazany"
   ]
  },
  {
   "cell_type": "markdown",
   "id": "34f6fc64",
   "metadata": {},
   "source": [
    "# 9. Podsumowanie projektu"
   ]
  },
  {
   "cell_type": "markdown",
   "id": "6aead244",
   "metadata": {},
   "source": [
    "W powyższym projekcie rozpoczęliśmy z 300 zmiennymi i jedną zmienną przewidywaną. \n",
    "\n",
    "Na początku zajeliśmy się preprocessingiem. Postanowiliśmy podzielić go na zmienne całkowitoliczbowe i zmiennoprzecinkowe. Wyrzuciliśmy zmienne noszące takie same dane, zmienne skorelowane, stałe i nie noszące informacji. \n"
   ]
  },
  {
   "cell_type": "markdown",
   "id": "d8c776d8",
   "metadata": {},
   "source": [
    "Następnie zajęliśmy się modelami. Postanowiliśmy oceniać wyniki na podstawie polem pod krzywą roc_auc. Wyniki wyglądają następująco:"
   ]
  },
  {
   "cell_type": "markdown",
   "id": "baf6b978",
   "metadata": {},
   "source": [
    "|Model   |No_hyper   |Col_rem   |with_hyper   |PCA   |K_best   |SFS   |num_rfe   |num_PCA   |\n",
    "|---|---|---|---|---|---|---|---|---|\n",
    "|Log_reg   |0.806   |0.777   |0.815   |0.738   |   33 | 40   |72   |3|\n",
    "|dec_tree   |0.555   |0.780   |0.799   |0.682   |106 |70 |26 | 64|\n",
    "\n",
    "|Model   |No_hyper   |with_hyper   |\n",
    "|---|---|---|\n",
    "|SVC   |0.670   |0.768   |\n",
    "|KNN   |0.542 |0.570   |\n",
    "|rand_forest   |0.794   | 0.821   |\n",
    "|AdaBoost logreg  |0.774   |0.799   |\n",
    "|AdaBoost dct  |0.676   |0.684   |\n",
    "|Voting   | ***  | 0.779  | \n"
   ]
  },
  {
   "cell_type": "code",
   "execution_count": null,
   "id": "2722c321",
   "metadata": {},
   "outputs": [],
   "source": []
  }
 ],
 "metadata": {
  "kernelspec": {
   "display_name": "Python 3 (ipykernel)",
   "language": "python",
   "name": "python3"
  },
  "language_info": {
   "codemirror_mode": {
    "name": "ipython",
    "version": 3
   },
   "file_extension": ".py",
   "mimetype": "text/x-python",
   "name": "python",
   "nbconvert_exporter": "python",
   "pygments_lexer": "ipython3",
   "version": "3.8.16"
  }
 },
 "nbformat": 4,
 "nbformat_minor": 5
}
